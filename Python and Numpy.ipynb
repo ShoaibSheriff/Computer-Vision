{
  "nbformat": 4,
  "nbformat_minor": 0,
  "metadata": {
    "colab": {
      "name": "Untitled0.ipynb",
      "version": "0.3.2",
      "provenance": []
    },
    "kernelspec": {
      "name": "python3",
      "display_name": "Python 3"
    }
  },
  "cells": [
    {
      "metadata": {
        "id": "yhCMKZTvHphI",
        "colab_type": "code",
        "colab": {}
      },
      "cell_type": "code",
      "source": [
        ""
      ],
      "execution_count": 0,
      "outputs": []
    },
    {
      "metadata": {
        "id": "Mq7n8uFiH4n6",
        "colab_type": "text"
      },
      "cell_type": "markdown",
      "source": [
        "# **Python, Numpy tutorial - By Shoaib**"
      ]
    },
    {
      "metadata": {
        "id": "V9UGOqV8I-fh",
        "colab_type": "text"
      },
      "cell_type": "markdown",
      "source": [
        "Python is a high-level, dynamically typed multiparadigm programming language. It is quite simple to use since it looks like psuedo code. For instance, the quick sort algorithm is coded as below :"
      ]
    },
    {
      "metadata": {
        "id": "qJ3uuyN3JU36",
        "colab_type": "code",
        "colab": {
          "base_uri": "https://localhost:8080/",
          "height": 34
        },
        "outputId": "88520371-422a-4df1-c973-f348e65bb7d1"
      },
      "cell_type": "code",
      "source": [
        "def quicksort(arr) :\n",
        "  if (len(arr) <= 1) :\n",
        "    return arr;\n",
        "  mlblr_piv = arr[len(arr) // 2];\n",
        "  mlblr_left = [x for x in arr if x < mlblr_piv];\n",
        "  mlblr_mid = [x for x in arr if x == mlblr_piv];\n",
        "  mlblr_right = [x for x in arr if x > mlblr_piv];\n",
        "  \n",
        "  return quicksort(mlblr_left) + mlblr_mid + quicksort(mlblr_right);\n",
        "\n",
        "print(quicksort([22, 87, -13, 0, 1134, 29, 19]));"
      ],
      "execution_count": 5,
      "outputs": [
        {
          "output_type": "stream",
          "text": [
            "[-13, 0, 19, 22, 29, 87, 1134]\n"
          ],
          "name": "stdout"
        }
      ]
    },
    {
      "metadata": {
        "id": "ALMPNhC6LcBu",
        "colab_type": "text"
      },
      "cell_type": "markdown",
      "source": [
        "## Python versions\n",
        "There are 2 versions of Python in development in parallel at the moment : 2.7 and 3.5. These versions are incompatibe with each other. In this tutorial, we use version 3.5. Users can check their version with _python --version_ command."
      ]
    },
    {
      "metadata": {
        "id": "IMyUhKeAMFZB",
        "colab_type": "text"
      },
      "cell_type": "markdown",
      "source": [
        "### Basic data types\n",
        "Python supports following data types : integers, floats, booleans, and strings.\n"
      ]
    },
    {
      "metadata": {
        "id": "swPHiInJMgdv",
        "colab_type": "code",
        "colab": {
          "base_uri": "https://localhost:8080/",
          "height": 185
        },
        "outputId": "c7045947-a23a-48c1-eeff-7acc08e82420"
      },
      "cell_type": "code",
      "source": [
        "mlblr = 3\n",
        "print(type(mlblr)) \n",
        "print(mlblr)      \n",
        "print(mlblr + 1)   # Addition; prints \"4\"\n",
        "print(mlblr - 1)   # Subtraction; prints \"2\"\n",
        "print(mlblr * 2)   # Multiplication; prints \"6\"\n",
        "print(mlblr ** 2)  # Exponentiation; prints \"9\"\n",
        "mlblr += 1\n",
        "print(mlblr)  # Prints \"4\"\n",
        "mlblr *= 2\n",
        "print(mlblr)  # Prints \"8\"\n",
        "mlblr2 = 2.5\n",
        "print(type(mlblr2)) # Prints \"<class 'float'>\"\n",
        "print(mlblr2, mlblr2 + 1, mlblr2 * 2, mlblr2 ** 2) # Prints \"2.5 3.5 5.0 6.25\""
      ],
      "execution_count": 7,
      "outputs": [
        {
          "output_type": "stream",
          "text": [
            "<class 'int'>\n",
            "3\n",
            "4\n",
            "2\n",
            "6\n",
            "9\n",
            "4\n",
            "8\n",
            "<class 'float'>\n",
            "2.5 3.5 5.0 6.25\n"
          ],
          "name": "stdout"
        }
      ]
    }
  ]
}