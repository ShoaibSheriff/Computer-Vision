{
  "nbformat": 4,
  "nbformat_minor": 0,
  "metadata": {
    "kernelspec": {
      "display_name": "Python 3",
      "language": "python",
      "name": "python3"
    },
    "language_info": {
      "codemirror_mode": {
        "name": "ipython",
        "version": 3
      },
      "file_extension": ".py",
      "mimetype": "text/x-python",
      "name": "python",
      "nbconvert_exporter": "python",
      "pygments_lexer": "ipython3",
      "version": "3.7.4"
    },
    "colab": {
      "name": "Random_baseline_drink.ipynb",
      "provenance": [],
      "include_colab_link": true
    }
  },
  "cells": [
    {
      "cell_type": "markdown",
      "metadata": {
        "id": "view-in-github",
        "colab_type": "text"
      },
      "source": [
        "<a href=\"https://colab.research.google.com/github/ShoaibSheriff/Computer-Vision/blob/master/Action%20Spotting/Random_Baseline_Drink.ipynb\" target=\"_parent\"><img src=\"https://colab.research.google.com/assets/colab-badge.svg\" alt=\"Open In Colab\"/></a>"
      ]
    },
    {
      "cell_type": "code",
      "metadata": {
        "id": "1mB4nIj6PbrT",
        "colab_type": "code",
        "colab": {}
      },
      "source": [
        "import pandas as pd"
      ],
      "execution_count": 0,
      "outputs": []
    },
    {
      "cell_type": "code",
      "metadata": {
        "id": "zf9GehO3Pbrd",
        "colab_type": "code",
        "colab": {}
      },
      "source": [
        "working_ids = [\"4ZpjKfu6Cl8\",\"7YpF6DntOYw\",\"BCiuXAuCKAU\",\"HKjR70GCRPE\",\"IzvOYVMltkI\",\"LgBQlW6OTr0\",\n",
        "\"P60OxWahxBQ\",\"g1wyIcLPbq0\",\"kMy-6RtoOVU\",\"yn9WN9lsHRE\",\"z-fsLpGHq6o\",\"zC5Fh2tTS1U\",\"zR725veL-DI\"]"
      ],
      "execution_count": 0,
      "outputs": []
    },
    {
      "cell_type": "code",
      "metadata": {
        "id": "ApvqmtqwPbrj",
        "colab_type": "code",
        "colab": {}
      },
      "source": [
        "df_test = pd.read_csv(r\"ava_test_v1.0.csv\",names=['video_id','middle_frame_timestamp', 'x1','y1','x2','y2', 'action_id'], header=None)"
      ],
      "execution_count": 0,
      "outputs": []
    },
    {
      "cell_type": "code",
      "metadata": {
        "id": "10v1ebF-Pbrp",
        "colab_type": "code",
        "colab": {}
      },
      "source": [
        "df_test_dr_valid = df_test.loc[((df_test['action_id'] == 27) & (df_test['video_id'].isin(working_ids)))]"
      ],
      "execution_count": 0,
      "outputs": []
    },
    {
      "cell_type": "code",
      "metadata": {
        "id": "FEbozm8EPbru",
        "colab_type": "code",
        "colab": {}
      },
      "source": [
        "MIN = df_test_dr_valid['middle_frame_timestamp'].min()\n",
        "MAX = df_test_dr_valid['middle_frame_timestamp'].max()"
      ],
      "execution_count": 0,
      "outputs": []
    },
    {
      "cell_type": "code",
      "metadata": {
        "id": "RPzbzVQSPbrz",
        "colab_type": "code",
        "outputId": "31170c17-dab4-44ec-9dff-5521769b5dec",
        "colab": {}
      },
      "source": [
        "MAX"
      ],
      "execution_count": 0,
      "outputs": [
        {
          "output_type": "execute_result",
          "data": {
            "text/plain": [
              "1798"
            ]
          },
          "metadata": {
            "tags": []
          },
          "execution_count": 10
        }
      ]
    },
    {
      "cell_type": "code",
      "metadata": {
        "id": "ECZXK4RvPbr5",
        "colab_type": "code",
        "colab": {}
      },
      "source": [
        "video_ids = df_test_dr_valid['video_id'].unique()"
      ],
      "execution_count": 0,
      "outputs": []
    },
    {
      "cell_type": "code",
      "metadata": {
        "id": "y4TV4AXxPbr9",
        "colab_type": "code",
        "outputId": "fe76be4a-8591-4736-d581-efdfc88772c2",
        "colab": {}
      },
      "source": [
        "video_ids"
      ],
      "execution_count": 0,
      "outputs": [
        {
          "output_type": "execute_result",
          "data": {
            "text/plain": [
              "array(['7YpF6DntOYw', 'BCiuXAuCKAU', 'HKjR70GCRPE', 'IzvOYVMltkI',\n",
              "       'LgBQlW6OTr0', 'P60OxWahxBQ', 'g1wyIcLPbq0', 'kMy-6RtoOVU',\n",
              "       'yn9WN9lsHRE', 'z-fsLpGHq6o', 'zR725veL-DI'], dtype=object)"
            ]
          },
          "metadata": {
            "tags": []
          },
          "execution_count": 16
        }
      ]
    },
    {
      "cell_type": "code",
      "metadata": {
        "id": "xJ9CPH0qPbsC",
        "colab_type": "code",
        "colab": {}
      },
      "source": [
        "import random\n",
        "\n",
        "def find_action(dataf) :    \n",
        "    \n",
        "    search_num = 1;\n",
        "    \n",
        "    for i in range(500) :\n",
        "        guess_time = random.randint(MIN, MAX)\n",
        "        if guess_time in dataf:\n",
        "            break;\n",
        "        if (guess_time - 1 in dataf) & (guess_time + 2 in dataf):\n",
        "            break;\n",
        "        if (guess_time - 2 in dataf) & (guess_time + 1 in dataf):\n",
        "            break;\n",
        "        else :\n",
        "            search_num = search_num + 1\n",
        "    \n",
        "    return search_num"
      ],
      "execution_count": 0,
      "outputs": []
    },
    {
      "cell_type": "code",
      "metadata": {
        "id": "rZLVT4MzPbsF",
        "colab_type": "code",
        "outputId": "d1b5179e-007d-472a-f1f6-c10cb340b17b",
        "colab": {}
      },
      "source": [
        "total = 0\n",
        "ct = 0\n",
        "for i in range(100) : \n",
        "\n",
        "    for video_id in video_ids:\n",
        "#         print(video_id)\n",
        "        tss = df_test_dr_valid.loc[(df_test_dr_valid['video_id'] == video_id)]['middle_frame_timestamp'].to_list()\n",
        "    #     print(tss)\n",
        "\n",
        "        as_metric = 500\n",
        "        while (as_metric == 500) :\n",
        "            as_metric = find_action(tss)\n",
        "\n",
        "        total = total + as_metric\n",
        "        ct = ct + 1\n",
        "print('avg', total/ct)"
      ],
      "execution_count": 0,
      "outputs": [
        {
          "output_type": "stream",
          "text": [
            "avg 218.78454545454545\n"
          ],
          "name": "stdout"
        }
      ]
    },
    {
      "cell_type": "code",
      "metadata": {
        "id": "5d1Ln7QgPbsP",
        "colab_type": "code",
        "colab": {}
      },
      "source": [
        ""
      ],
      "execution_count": 0,
      "outputs": []
    }
  ]
}