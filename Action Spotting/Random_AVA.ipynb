{
  "nbformat": 4,
  "nbformat_minor": 0,
  "metadata": {
    "kernelspec": {
      "display_name": "Python 3",
      "language": "python",
      "name": "python3"
    },
    "language_info": {
      "codemirror_mode": {
        "name": "ipython",
        "version": 3
      },
      "file_extension": ".py",
      "mimetype": "text/x-python",
      "name": "python",
      "nbconvert_exporter": "python",
      "pygments_lexer": "ipython3",
      "version": "3.6.5"
    },
    "colab": {
      "name": "Random_AVA.ipynb",
      "provenance": [],
      "include_colab_link": true
    }
  },
  "cells": [
    {
      "cell_type": "markdown",
      "metadata": {
        "id": "view-in-github",
        "colab_type": "text"
      },
      "source": [
        "<a href=\"https://colab.research.google.com/github/ShoaibSheriff/Computer-Vision/blob/master/Action%20Spotting/Random_AVA.ipynb\" target=\"_parent\"><img src=\"https://colab.research.google.com/assets/colab-badge.svg\" alt=\"Open In Colab\"/></a>"
      ]
    },
    {
      "cell_type": "code",
      "metadata": {
        "id": "xXXQRoCPjHyI",
        "colab_type": "code",
        "colab": {}
      },
      "source": [
        "import pandas as pd"
      ],
      "execution_count": 0,
      "outputs": []
    },
    {
      "cell_type": "code",
      "metadata": {
        "id": "tq5e6uq5jHyR",
        "colab_type": "code",
        "colab": {}
      },
      "source": [
        "df_asd = pd.read_csv(r\"C:\\Users\\Shoaib\\Desktop\\ava\\ava-human-searches_anno.csv\")"
      ],
      "execution_count": 0,
      "outputs": []
    },
    {
      "cell_type": "code",
      "metadata": {
        "id": "nHS9C6LyjHyY",
        "colab_type": "code",
        "colab": {}
      },
      "source": [
        "act_list = [\"bend/bow (at the waist)\", \"crawl\", \"crouch/kneel\", \"dance\", \"fall down\", \"get up\", \"jump/leap\", \"lie/sleep\", \"martial art\", \"run/jog\", \"sit\", \"stand\", \"swim\", \"walk\", \"answer phone\", \"brush teeth\", \"carry/hold (an object)\", \"catch (an object)\", \"chop\", \"climb (e.g., a mountain)\", \"clink glass\", \"close (e.g., a door, a box)\", \"cook\", \"cut\", \"dig\", \"dress/put on clothing\", \"drink\", \"drive (e.g., a car, a truck)\", \"eat\", \"enter\", \"exit\", \"extract\", \"fishing\", \"hit (an object)\", \"kick (an object)\", \"lift/pick up\", \"listen (e.g., to music)\", \"open (e.g., a window, a car door)\", \"paint\", \"play board game\", \"play musical instrument\", \"play with pets\", \"point to (an object)\", \"press\", \"pull (an object)\", \"push (an object)\", \"put down\", \"read\", \"ride (e.g., a bike, a car, a horse)\", \"row boat\", \"sail boat\", \"shoot\", \"shovel\", \"smoke\", \"stir\", \"take a photo\", \"text on/look at a cellphone\", \"throw\", \"touch (an object)\", \"turn (e.g., a screwdriver)\", \"watch (e.g., TV)\", \"work on a computer\", \"write\", \"fight/hit (a person)\", \"give/serve (an object) to (a person)\", \"grab (a person)\", \"hand clap\", \"hand shake\", \"hand wave\", \"hug (a person)\", \"kick (a person)\", \"kiss (a person)\", \"lift (a person)\", \"listen to (a person)\", \"play with kids\", \"push (another person)\", \"sing to (e.g., self, a person, a group)\", \"take (an object) from (a person)\", \"talk to (e.g., self, a person, a group)\", \"watch (a person)\"]"
      ],
      "execution_count": 0,
      "outputs": []
    },
    {
      "cell_type": "code",
      "metadata": {
        "id": "o9zGDxNdjHye",
        "colab_type": "code",
        "colab": {}
      },
      "source": [
        "act_dict = {}\n",
        "for i in range(len(act_list)) :\n",
        "    act_dict[i+1] = act_list[i]\n"
      ],
      "execution_count": 0,
      "outputs": []
    },
    {
      "cell_type": "code",
      "metadata": {
        "id": "Jcw808rqjHyj",
        "colab_type": "code",
        "colab": {}
      },
      "source": [
        "act_dict['crawl']"
      ],
      "execution_count": 0,
      "outputs": []
    },
    {
      "cell_type": "code",
      "metadata": {
        "id": "Iw7izvTkjHyo",
        "colab_type": "code",
        "colab": {}
      },
      "source": [
        "df_asd.head(5)"
      ],
      "execution_count": 0,
      "outputs": []
    },
    {
      "cell_type": "code",
      "metadata": {
        "id": "ldqlyESBjHyt",
        "colab_type": "code",
        "colab": {},
        "outputId": "963c7acf-b84c-4d10-c439-ec315397f2e5"
      },
      "source": [
        "len(df_asd['target-action'].unique())"
      ],
      "execution_count": 0,
      "outputs": [
        {
          "output_type": "execute_result",
          "data": {
            "text/plain": [
              "20"
            ]
          },
          "metadata": {
            "tags": []
          },
          "execution_count": 6
        }
      ]
    },
    {
      "cell_type": "code",
      "metadata": {
        "id": "VO6W_FgsjHyx",
        "colab_type": "code",
        "colab": {}
      },
      "source": [
        "actions_considered = df_asd['target-action'].unique()"
      ],
      "execution_count": 0,
      "outputs": []
    },
    {
      "cell_type": "code",
      "metadata": {
        "id": "BUz6-udujHy1",
        "colab_type": "code",
        "colab": {}
      },
      "source": [
        "videos_considered = df_asd['video-id'].unique()"
      ],
      "execution_count": 0,
      "outputs": []
    },
    {
      "cell_type": "code",
      "metadata": {
        "id": "S88dCzJajHy6",
        "colab_type": "code",
        "colab": {},
        "outputId": "9d1e4984-b560-43ef-d2b3-0d0382f3a2b5"
      },
      "source": [
        "df_asd['video-id'].unique()"
      ],
      "execution_count": 0,
      "outputs": [
        {
          "output_type": "execute_result",
          "data": {
            "text/plain": [
              "array(['Ag-pXiLrd48', 'Db19rWN5BGo', 'xO4ABy2iOQA', 'lWXhqIAvarw',\n",
              "       'pLJ7bC5Vcqw', 'Ecivp8t3MdY', 'r2llOyS-BmE', 'cKA-qeZuH_w',\n",
              "       'O_NYCUhZ9zw', 'HJzgJ9ZjvJk', '9F2voT6QWvQ', 'tghXjom3120',\n",
              "       '_mAfwH6i90E', 'XV_FF3WC7kA', 'AYebXQ8eUkM', 'J1jDc2rTJlg',\n",
              "       '5BDj0ow5hnA', 'T-Fc9ctuNVI', 'KWoSGtglCms', '-FaXLcSFjUI',\n",
              "       'VsYPP2I0aUQ', 'qx2vAO5ofmo', 'sUVhd0YTKgw', 'Ma2hgTmveKQ',\n",
              "       'F3dPH6Xqf5M', 'UIy730JrFIc', 'uNT6HrrnqPU', 'Ov0za6Xb1LM',\n",
              "       'o4xQ-BEa3Ss', 'xmqSaQPzL1E', 'HymKCzQJbB8', 'YYWdB7h1INo',\n",
              "       'hbYvDvJrpNk', 'N7baJsMszJ0', 'fpprSy6AzKk', 'u1ltv6r14KQ',\n",
              "       'b5pRYl_djbs', 'Kb1fduj-jdY', 'CZ2NP8UsPuE', 'jqZpiHlJUig',\n",
              "       'y7ncweROe9U', 'N5UD8FGzDek', 'l-jxh8gpxuY', 'rUYsoIIE37A',\n",
              "       'plkJ45_-pMk', 'OfMdakd4bHI', '9mLYmkonWZQ', 'rFgb2ECMcrY',\n",
              "       'OGNnUvJq9RI', 'x-6CtPWVi6E', 'UgZFdrNT6W0', '20TAGRElvfE',\n",
              "       '914yZXz-iRs', 'B1MAUxpKaV8', 'skiZueh4lfY', '2fwni_Kjf2M',\n",
              "       '4gVsDd8PV9U', 'lT1zdTL-3SM', 'vfjywN5CN0Y', 'S0tkhGJjwLA',\n",
              "       'Ekwy7wzLfjc', 'N0Dt9i9IUNg', '_dBTTYDRdRQ', 'gjdgj04FzR0',\n",
              "       'WVde9pyaHg4', 'CrlfWnsS7ac', 'lDmLcWWBp1E', '2bxKkUgcqpk',\n",
              "       'phVLLTMzmKk', '0f39OWEqJ24', 'tt0t_a1EDCE', 'rXFlJbXyZyc',\n",
              "       'qBUu7cy-5Iw', 'Di1MG6auDYo', 'WwoTG3_OjUg', 'oq_bufAhyl8',\n",
              "       'bhlFavrh7WU', '32HR3MnDZ8g', 'QMwT7DFA5O4', 'ly1upu2FNTs',\n",
              "       'AN07xQokfiE', 'er7eeiJB6dI', 'Hi8QeP_VPu0', 'fD6VkIRlIRI',\n",
              "       'E7JcKooKVsM', 't1LXrJOvPDg', 'PNZQ2UJfyQE', 'Ksd1JQFHYWA',\n",
              "       't0V4drbYDnc', 'BY3sZmvUp-0', 'xp67EC-Hvwk', 'VMNmRlhFT-o',\n",
              "       'U6m3kNFjdTs', 'iSlDMboCSao', 'uzPI7FcF79U', 'TzaVHtLXOzY',\n",
              "       'iK4Y-JKRRAc', 'tNpZtigMc4g', 'NEQ7Wpf-EtI', '6d5u6FHvz7Q',\n",
              "       'oD_wxyTHJ2I', 'tjqCzVjojCo', 'J4bt4y9ShTA', 'phrYEKv0rmw',\n",
              "       'Gvp-cj3bmIY', 'RvdxDMfMtiA', 'fNcxxBjEOgw', 'WKqbLbU68wU',\n",
              "       '9bK05eBt1GM', '26V9UzqSguo', '-IELREHX_js', 'P90hF2S1JzA',\n",
              "       'hHgg9WI8dTk', 'yMtGmGa8KZ0', 'N1K2bEZLL_A', 'QCLQYnt3aMo',\n",
              "       'G5Yr20A5z_Q', 'TcT4TxCxn_Q', 'aDEYi1OG0vU', 'U_WzY2k8IBM',\n",
              "       'WlgxRNCHQzw', '2PpxiG0WU18', 'rk8Xm0EAOWs', 'K_SpqDJnlps',\n",
              "       'yo-Kg2YxlZs', '_a9SWtcaNj8', 'KVq6If6ozMY', '-5KQ66BBWC4',\n",
              "       'c9pEMjPT16M', 'l2XO3tQk8lI', '5YPjcdLbs5g', '55Ihr6uVIDA',\n",
              "       'cWYJHb25EVs', '8aMv-ZGD4ic', 'UOyyTUX5Vo4', '9Y_l9NsnYE0',\n",
              "       'sADELCyj10I', 'uPJPNPbWMFk', 'mfsbYdLx9wE'], dtype=object)"
            ]
          },
          "metadata": {
            "tags": []
          },
          "execution_count": 9
        }
      ]
    },
    {
      "cell_type": "code",
      "metadata": {
        "id": "Hej2vQtjjHy_",
        "colab_type": "code",
        "colab": {}
      },
      "source": [
        "# df_asd[(df_asd['video-id'] == '053oq2xB3oU')]['search-id'].unique()"
      ],
      "execution_count": 0,
      "outputs": []
    },
    {
      "cell_type": "code",
      "metadata": {
        "id": "cK5F3SudjHzD",
        "colab_type": "code",
        "colab": {}
      },
      "source": [
        "# For particular video\n",
        "# for video in videos :\n",
        "#     df_asd_video = df_asd[(df_asd['video-id'] == video)]\n",
        "# #         For particular action\n",
        "#     df_asd_video_actions = df_asd_video['target-action'].unique()\n",
        "#     for action in df_asd_video_actions :\n",
        "#         print(act_dict[action])"
      ],
      "execution_count": 0,
      "outputs": []
    },
    {
      "cell_type": "markdown",
      "metadata": {
        "id": "EuXrc8iyjHzG",
        "colab_type": "text"
      },
      "source": [
        "# Random Baseline"
      ]
    },
    {
      "cell_type": "code",
      "metadata": {
        "id": "Q57G3pEHjHzH",
        "colab_type": "code",
        "colab": {}
      },
      "source": [
        "df_ava_test = pd.read_csv(r\"C:\\Users\\Shoaib\\Desktop\\ava\\ava_test_v1.0_v.csv\", names  = ['video_id', 'middle_frame_timestamp', 'x1', 'y1', 'x2', 'y2', 'action_id'])"
      ],
      "execution_count": 0,
      "outputs": []
    },
    {
      "cell_type": "code",
      "metadata": {
        "id": "FuzyvNU6jHzL",
        "colab_type": "code",
        "colab": {},
        "outputId": "41124cea-db2c-49f0-b2cd-1954bc58e18e"
      },
      "source": [
        "df_ava_test.head(5)"
      ],
      "execution_count": 0,
      "outputs": [
        {
          "output_type": "execute_result",
          "data": {
            "text/html": [
              "<div>\n",
              "<style scoped>\n",
              "    .dataframe tbody tr th:only-of-type {\n",
              "        vertical-align: middle;\n",
              "    }\n",
              "\n",
              "    .dataframe tbody tr th {\n",
              "        vertical-align: top;\n",
              "    }\n",
              "\n",
              "    .dataframe thead th {\n",
              "        text-align: right;\n",
              "    }\n",
              "</style>\n",
              "<table border=\"1\" class=\"dataframe\">\n",
              "  <thead>\n",
              "    <tr style=\"text-align: right;\">\n",
              "      <th></th>\n",
              "      <th>video_id</th>\n",
              "      <th>middle_frame_timestamp</th>\n",
              "      <th>x1</th>\n",
              "      <th>y1</th>\n",
              "      <th>x2</th>\n",
              "      <th>y2</th>\n",
              "      <th>action_id</th>\n",
              "    </tr>\n",
              "  </thead>\n",
              "  <tbody>\n",
              "    <tr>\n",
              "      <th>0</th>\n",
              "      <td>053oq2xB3oU</td>\n",
              "      <td>904</td>\n",
              "      <td>0.061</td>\n",
              "      <td>0.168</td>\n",
              "      <td>0.774</td>\n",
              "      <td>0.877</td>\n",
              "      <td>11</td>\n",
              "    </tr>\n",
              "    <tr>\n",
              "      <th>1</th>\n",
              "      <td>053oq2xB3oU</td>\n",
              "      <td>904</td>\n",
              "      <td>0.302</td>\n",
              "      <td>0.242</td>\n",
              "      <td>0.560</td>\n",
              "      <td>0.657</td>\n",
              "      <td>12</td>\n",
              "    </tr>\n",
              "    <tr>\n",
              "      <th>2</th>\n",
              "      <td>053oq2xB3oU</td>\n",
              "      <td>904</td>\n",
              "      <td>0.661</td>\n",
              "      <td>0.241</td>\n",
              "      <td>0.894</td>\n",
              "      <td>0.857</td>\n",
              "      <td>11</td>\n",
              "    </tr>\n",
              "    <tr>\n",
              "      <th>3</th>\n",
              "      <td>053oq2xB3oU</td>\n",
              "      <td>904</td>\n",
              "      <td>0.837</td>\n",
              "      <td>0.221</td>\n",
              "      <td>0.991</td>\n",
              "      <td>0.858</td>\n",
              "      <td>12</td>\n",
              "    </tr>\n",
              "    <tr>\n",
              "      <th>4</th>\n",
              "      <td>053oq2xB3oU</td>\n",
              "      <td>907</td>\n",
              "      <td>0.000</td>\n",
              "      <td>0.201</td>\n",
              "      <td>0.313</td>\n",
              "      <td>0.964</td>\n",
              "      <td>12</td>\n",
              "    </tr>\n",
              "  </tbody>\n",
              "</table>\n",
              "</div>"
            ],
            "text/plain": [
              "      video_id  middle_frame_timestamp     x1     y1     x2     y2  action_id\n",
              "0  053oq2xB3oU                     904  0.061  0.168  0.774  0.877         11\n",
              "1  053oq2xB3oU                     904  0.302  0.242  0.560  0.657         12\n",
              "2  053oq2xB3oU                     904  0.661  0.241  0.894  0.857         11\n",
              "3  053oq2xB3oU                     904  0.837  0.221  0.991  0.858         12\n",
              "4  053oq2xB3oU                     907  0.000  0.201  0.313  0.964         12"
            ]
          },
          "metadata": {
            "tags": []
          },
          "execution_count": 74
        }
      ]
    },
    {
      "cell_type": "code",
      "metadata": {
        "id": "kAS42iE4jHzO",
        "colab_type": "code",
        "colab": {}
      },
      "source": [
        "MIN = df_ava_test.middle_frame_timestamp.min()"
      ],
      "execution_count": 0,
      "outputs": []
    },
    {
      "cell_type": "code",
      "metadata": {
        "id": "1H96SONGjHzS",
        "colab_type": "code",
        "colab": {},
        "outputId": "32b65899-620a-43c3-db9c-b8f31660b54d"
      },
      "source": [
        "MIN"
      ],
      "execution_count": 0,
      "outputs": [
        {
          "output_type": "execute_result",
          "data": {
            "text/plain": [
              "904"
            ]
          },
          "metadata": {
            "tags": []
          },
          "execution_count": 76
        }
      ]
    },
    {
      "cell_type": "code",
      "metadata": {
        "id": "H8velbYdjHzV",
        "colab_type": "code",
        "colab": {}
      },
      "source": [
        "MAX = df_ava_test.middle_frame_timestamp.max()"
      ],
      "execution_count": 0,
      "outputs": []
    },
    {
      "cell_type": "code",
      "metadata": {
        "id": "t8CFJBM8jHzZ",
        "colab_type": "code",
        "colab": {},
        "outputId": "ed10a53d-5dd5-4d14-9061-1cf2a52f17e7"
      },
      "source": [
        "MAX"
      ],
      "execution_count": 0,
      "outputs": [
        {
          "output_type": "execute_result",
          "data": {
            "text/plain": [
              "1798"
            ]
          },
          "metadata": {
            "tags": []
          },
          "execution_count": 78
        }
      ]
    },
    {
      "cell_type": "code",
      "metadata": {
        "id": "nswVz6urjHzc",
        "colab_type": "code",
        "colab": {}
      },
      "source": [
        "import random\n",
        "\n",
        "def find_action(dataf) :    \n",
        "    \n",
        "    search_num = 1;\n",
        "    \n",
        "    for i in range(500) :\n",
        "        guess_time = random.randint(MIN, MAX)\n",
        "        if guess_time in dataf:\n",
        "            break;\n",
        "        if (guess_time - 1 in dataf) & (guess_time + 2 in dataf):\n",
        "            break;\n",
        "        if (guess_time - 2 in dataf) & (guess_time + 1 in dataf):\n",
        "            break;\n",
        "        else :\n",
        "            search_num = search_num + 1\n",
        "    \n",
        "    return search_num"
      ],
      "execution_count": 0,
      "outputs": []
    },
    {
      "cell_type": "code",
      "metadata": {
        "id": "zWyCS3xdjHzf",
        "colab_type": "code",
        "colab": {}
      },
      "source": [
        "actions = df_ava_test['action_id'].unique()"
      ],
      "execution_count": 0,
      "outputs": []
    },
    {
      "cell_type": "code",
      "metadata": {
        "id": "qZ7wcybOjHzj",
        "colab_type": "code",
        "colab": {},
        "outputId": "b2fa45ac-00dd-4c43-99e6-4d1c4c6e6f3c"
      },
      "source": [
        "len(actions)"
      ],
      "execution_count": 0,
      "outputs": [
        {
          "output_type": "execute_result",
          "data": {
            "text/plain": [
              "76"
            ]
          },
          "metadata": {
            "tags": []
          },
          "execution_count": 83
        }
      ]
    },
    {
      "cell_type": "code",
      "metadata": {
        "id": "cUXZooEVjHzm",
        "colab_type": "code",
        "colab": {},
        "outputId": "2860e042-ec9b-41e3-c689-a672823f7ad8"
      },
      "source": [
        "for action in actions :\n",
        "    print('Action', act_dict[action])\n",
        "\n",
        "    df_ava_test_action = df_ava_test[(df_ava_test['action_id'] == action)]\n",
        "    epochs = 100\n",
        "    \n",
        "    total = 0;\n",
        "    count = 0;\n",
        "    \n",
        "    for epoch in range(epochs) :\n",
        "        \n",
        "        videos_with_action = df_ava_test_action['video_id'].unique()\n",
        "        # For particular video\n",
        "        for video in videos_with_action :\n",
        "            df_ava_video_action = df_ava_test_action[(df_ava_test_action['video_id'] == video) & (df_ava_test_action['action_id'] == action)]\n",
        "    \n",
        "#             print('Video', video)\n",
        "\n",
        "            as_metric = 500\n",
        "            while (as_metric == 500) :\n",
        "                as_metric = find_action(df_ava_video_action['middle_frame_timestamp'].tolist())\n",
        "\n",
        "#             print('Action : %s , Spotted in : %i' % (act_dict[action], as_metric))\n",
        "            total = total + as_metric\n",
        "            count = count + 1\n",
        "    print('avg', total/count)"
      ],
      "execution_count": 0,
      "outputs": [
        {
          "output_type": "stream",
          "text": [
            "Action sit\n",
            "avg 3.666315789473684\n",
            "Action stand\n",
            "avg 2.840263157894737\n",
            "Action watch (a person)\n",
            "avg 13.592105263157896\n",
            "Action sing to (e.g., self, a person, a group)\n",
            "avg 219.815\n",
            "Action talk to (e.g., self, a person, a group)\n",
            "avg 2.954473684210526\n",
            "Action listen to (a person)\n",
            "avg 6.439736842105263\n",
            "Action walk\n",
            "avg 23.541315789473686\n",
            "Action carry/hold (an object)\n",
            "avg 7.261315789473684\n",
            "Action read\n",
            "avg 167.67\n",
            "Action write\n",
            "avg 217.29181818181817\n",
            "Action bend/bow (at the waist)\n",
            "avg 103.4771052631579\n",
            "Action watch (e.g., TV)\n",
            "avg 248.3241176470588\n",
            "Action run/jog\n",
            "avg 209.6211111111111\n",
            "Action touch (an object)\n",
            "avg 178.0621875\n",
            "Action hit (an object)\n",
            "avg 311.35\n",
            "Action get up\n",
            "avg 278.5932352941176\n",
            "Action lift/pick up\n",
            "avg 272.36571428571426\n",
            "Action push (an object)\n",
            "avg 344.02285714285716\n",
            "Action lie/sleep\n",
            "avg 130.40047619047618\n",
            "Action fight/hit (a person)\n",
            "avg 185.77\n",
            "Action grab (a person)\n",
            "avg 185.02935483870968\n",
            "Action hug (a person)\n",
            "avg 188.2521052631579\n",
            "Action push (another person)\n",
            "avg 329.1972727272727\n",
            "Action extract\n",
            "avg 379.046\n",
            "Action open (e.g., a window, a car door)\n",
            "avg 242.19645161290322\n",
            "Action throw\n",
            "avg 339.49363636363637\n",
            "Action give/serve (an object) to (a person)\n",
            "avg 244.04290322580644\n",
            "Action take (an object) from (a person)\n",
            "avg 299.03846153846155\n",
            "Action text on/look at a cellphone\n",
            "avg 311.845\n",
            "Action eat\n",
            "avg 132.30227272727274\n",
            "Action smoke\n",
            "avg 140.212\n",
            "Action close (e.g., a door, a box)\n",
            "avg 282.6459090909091\n",
            "Action dress/put on clothing\n",
            "avg 268.27625\n",
            "Action take a photo\n",
            "avg 293.82\n",
            "Action crouch/kneel\n",
            "avg 207.72565217391303\n",
            "Action pull (an object)\n",
            "avg 329.55375\n",
            "Action answer phone\n",
            "avg 61.60071428571428\n",
            "Action hand wave\n",
            "avg 281.7605882352941\n",
            "Action catch (an object)\n",
            "avg 291.72625\n",
            "Action drink\n",
            "avg 234.91791666666666\n",
            "Action play with kids\n",
            "avg 317.07\n",
            "Action hand shake\n",
            "avg 341.5330769230769\n",
            "Action play musical instrument\n",
            "avg 139.34857142857143\n",
            "Action put down\n",
            "avg 265.64642857142854\n",
            "Action point to (an object)\n",
            "avg 355.536\n",
            "Action drive (e.g., a car, a truck)\n",
            "avg 265.51444444444445\n",
            "Action ride (e.g., a bike, a car, a horse)\n",
            "avg 139.28277777777777\n",
            "Action listen (e.g., to music)\n",
            "avg 266.8442857142857\n",
            "Action dance\n",
            "avg 157.07285714285715\n",
            "Action cook\n",
            "avg 234.22\n",
            "Action stir\n",
            "avg 319.4625\n",
            "Action kiss (a person)\n",
            "avg 272.7029411764706\n",
            "Action enter\n",
            "avg 351.567\n",
            "Action kick (an object)\n",
            "avg 336.3\n",
            "Action dig\n",
            "avg 208.42\n",
            "Action play with pets\n",
            "avg 275.8233333333333\n",
            "Action jump/leap\n",
            "avg 322.06\n",
            "Action press\n",
            "avg 353.385\n",
            "Action cut\n",
            "avg 206.23\n",
            "Action fall down\n",
            "avg 308.823\n",
            "Action lift (a person)\n",
            "avg 290.11333333333334\n",
            "Action chop\n",
            "avg 275.35333333333335\n",
            "Action climb (e.g., a mountain)\n",
            "avg 352.89666666666665\n",
            "Action fishing\n",
            "avg 158.38\n",
            "Action clink glass\n",
            "avg 366.916\n",
            "Action hand clap\n",
            "avg 293.0257142857143\n",
            "Action shoot\n",
            "avg 337.5625\n",
            "Action crawl\n",
            "avg 379.24\n",
            "Action exit\n",
            "avg 385.84\n",
            "Action martial art\n",
            "avg 53.14\n",
            "Action kick (a person)\n",
            "avg 309.17\n",
            "Action swim\n",
            "avg 213.7\n",
            "Action paint\n",
            "avg 217.54\n",
            "Action sail boat\n",
            "avg 375.15\n",
            "Action work on a computer\n",
            "avg 118.73333333333333\n",
            "Action play board game\n",
            "avg 85.65\n"
          ],
          "name": "stdout"
        }
      ]
    },
    {
      "cell_type": "code",
      "metadata": {
        "id": "PBpI2pCcjHzq",
        "colab_type": "code",
        "colab": {},
        "outputId": "9840bd32-437e-4ee4-9216-4044eb70a320"
      },
      "source": [
        "avg/count"
      ],
      "execution_count": 0,
      "outputs": [
        {
          "output_type": "execute_result",
          "data": {
            "text/plain": [
              "199.22424242424242"
            ]
          },
          "metadata": {
            "tags": []
          },
          "execution_count": 16
        }
      ]
    },
    {
      "cell_type": "markdown",
      "metadata": {
        "id": "U5muvxMejHzu",
        "colab_type": "text"
      },
      "source": [
        "# Direction"
      ]
    },
    {
      "cell_type": "code",
      "metadata": {
        "id": "dfXpRtgEjHzv",
        "colab_type": "code",
        "colab": {}
      },
      "source": [
        "# import torchvision.models as models\n",
        "# resnet50 = models.resnet50(pretrained=True)"
      ],
      "execution_count": 0,
      "outputs": []
    },
    {
      "cell_type": "code",
      "metadata": {
        "id": "ZfZE5wgJjHzx",
        "colab_type": "code",
        "colab": {}
      },
      "source": [
        "# import torch\n",
        "# import torch.nn as nn\n",
        "\n",
        "# resnet = nn.Sequential(resnet50, nn.Sequential(nn.Linear(1000,2), nn.Softmax()))"
      ],
      "execution_count": 0,
      "outputs": []
    },
    {
      "cell_type": "code",
      "metadata": {
        "id": "nhi0FFqdjHzz",
        "colab_type": "code",
        "colab": {}
      },
      "source": [
        "# resnet"
      ],
      "execution_count": 0,
      "outputs": []
    },
    {
      "cell_type": "code",
      "metadata": {
        "id": "Ojgea-IRjHz2",
        "colab_type": "code",
        "colab": {}
      },
      "source": [
        "# from torchsummary import summary\n",
        "# summary(resnet, (3, 224, 224))"
      ],
      "execution_count": 0,
      "outputs": []
    },
    {
      "cell_type": "code",
      "metadata": {
        "id": "onyhVuYxjHz5",
        "colab_type": "code",
        "colab": {}
      },
      "source": [
        "df_dummy = pd.read_csv(r\"C:\\Users\\Shoaib\\Desktop\\ava\\ava_working_train_ids.csv\", names  = ['ids'], index_col = False)"
      ],
      "execution_count": 0,
      "outputs": []
    },
    {
      "cell_type": "code",
      "metadata": {
        "id": "CI-x9sIQjHz7",
        "colab_type": "code",
        "colab": {},
        "outputId": "2aa9cdf3-900a-4caa-8604-d8a3d06148d5"
      },
      "source": [
        "df_dummy.head(5)"
      ],
      "execution_count": 0,
      "outputs": [
        {
          "output_type": "execute_result",
          "data": {
            "text/html": [
              "<div>\n",
              "<style scoped>\n",
              "    .dataframe tbody tr th:only-of-type {\n",
              "        vertical-align: middle;\n",
              "    }\n",
              "\n",
              "    .dataframe tbody tr th {\n",
              "        vertical-align: top;\n",
              "    }\n",
              "\n",
              "    .dataframe thead th {\n",
              "        text-align: right;\n",
              "    }\n",
              "</style>\n",
              "<table border=\"1\" class=\"dataframe\">\n",
              "  <thead>\n",
              "    <tr style=\"text-align: right;\">\n",
              "      <th></th>\n",
              "      <th>ids</th>\n",
              "    </tr>\n",
              "  </thead>\n",
              "  <tbody>\n",
              "    <tr>\n",
              "      <th>0</th>\n",
              "      <td>55Ihr6uVIDA</td>\n",
              "    </tr>\n",
              "    <tr>\n",
              "      <th>1</th>\n",
              "      <td>HymKCzQJbB8</td>\n",
              "    </tr>\n",
              "    <tr>\n",
              "      <th>2</th>\n",
              "      <td>K_SpqDJnlps</td>\n",
              "    </tr>\n",
              "    <tr>\n",
              "      <th>3</th>\n",
              "      <td>32HR3MnDZ8g</td>\n",
              "    </tr>\n",
              "    <tr>\n",
              "      <th>4</th>\n",
              "      <td>KVq6If6ozMY</td>\n",
              "    </tr>\n",
              "  </tbody>\n",
              "</table>\n",
              "</div>"
            ],
            "text/plain": [
              "           ids\n",
              "0  55Ihr6uVIDA\n",
              "1  HymKCzQJbB8\n",
              "2  K_SpqDJnlps\n",
              "3  32HR3MnDZ8g\n",
              "4  KVq6If6ozMY"
            ]
          },
          "metadata": {
            "tags": []
          },
          "execution_count": 149
        }
      ]
    },
    {
      "cell_type": "code",
      "metadata": {
        "id": "Fd6G8huljHz-",
        "colab_type": "code",
        "colab": {}
      },
      "source": [
        "working_video_ids = df_dummy['ids'].unique()"
      ],
      "execution_count": 0,
      "outputs": []
    },
    {
      "cell_type": "code",
      "metadata": {
        "id": "S7sVfYTpjH0A",
        "colab_type": "code",
        "colab": {}
      },
      "source": [
        "df_ava_train = pd.read_csv(r\"C:\\Users\\Shoaib\\Desktop\\ava\\ava_train_v1.0_v.csv\", names  = ['video_id', 'middle_frame_timestamp', 'x1', 'y1', 'x2', 'y2', 'action_id'])"
      ],
      "execution_count": 0,
      "outputs": []
    },
    {
      "cell_type": "code",
      "metadata": {
        "id": "RUSEPBJbjH0D",
        "colab_type": "code",
        "colab": {}
      },
      "source": [
        "df_ava_train_working_only = df_ava_train[(df_ava_train['video_id'].isin(working_video_ids))]"
      ],
      "execution_count": 0,
      "outputs": []
    },
    {
      "cell_type": "code",
      "metadata": {
        "id": "DSb5jQEfjH0E",
        "colab_type": "code",
        "colab": {}
      },
      "source": [
        "df_ava_train_working_only.to_csv(r\"C:\\Users\\Shoaib\\Desktop\\ava\\ava_train_v1.0_v_working_only.csv\", index=False, header=False);"
      ],
      "execution_count": 0,
      "outputs": []
    },
    {
      "cell_type": "code",
      "metadata": {
        "id": "j_4exTsNjH0G",
        "colab_type": "code",
        "colab": {},
        "outputId": "72aee1cd-211f-4a7a-87fb-f91985bfa7a4"
      },
      "source": [
        "len(df_ava_train_working_only)"
      ],
      "execution_count": 0,
      "outputs": [
        {
          "output_type": "execute_result",
          "data": {
            "text/plain": [
              "125042"
            ]
          },
          "metadata": {
            "tags": []
          },
          "execution_count": 154
        }
      ]
    },
    {
      "cell_type": "code",
      "metadata": {
        "id": "8P7E4OJ5jH0J",
        "colab_type": "code",
        "colab": {}
      },
      "source": [
        "df_asd_train = pd.read_csv(r\"C:\\Users\\Shoaib\\Desktop\\ava\\ava-human-searches_anno.csv\")"
      ],
      "execution_count": 0,
      "outputs": []
    },
    {
      "cell_type": "code",
      "metadata": {
        "id": "ve_O7mZljH0L",
        "colab_type": "code",
        "colab": {}
      },
      "source": [
        "allowed_actions = df_asd_train['target-action'].unique()\n",
        "for i in range(len(allowed_actions)) :\n",
        "    allowed_actions[i] = act_dict[allowed_actions[i]]"
      ],
      "execution_count": 0,
      "outputs": []
    },
    {
      "cell_type": "code",
      "metadata": {
        "id": "reKIlI1WjH0N",
        "colab_type": "code",
        "colab": {},
        "outputId": "c1f1dda6-9bfb-424d-c5a6-9ee2adde96a1"
      },
      "source": [
        "allowed_actions"
      ],
      "execution_count": 0,
      "outputs": [
        {
          "output_type": "execute_result",
          "data": {
            "text/plain": [
              "array([21, 27, 4, 70, 77, 67, 56, 41, 54, 72, 68, 13, 7, 29, 28, 63, 52,\n",
              "       9, 76, 62], dtype=object)"
            ]
          },
          "metadata": {
            "tags": []
          },
          "execution_count": 157
        }
      ]
    },
    {
      "cell_type": "code",
      "metadata": {
        "id": "9vlA32vdjH0P",
        "colab_type": "code",
        "colab": {}
      },
      "source": [
        "allowed_videos = df_asd_train['video-id'].unique()"
      ],
      "execution_count": 0,
      "outputs": []
    },
    {
      "cell_type": "code",
      "metadata": {
        "id": "_x6KXQcEjH0R",
        "colab_type": "code",
        "colab": {}
      },
      "source": [
        "df_ava_train_working_only = df_ava_train_working_only[df_ava_train_working_only['action_id'].isin(allowed_actions)]"
      ],
      "execution_count": 0,
      "outputs": []
    },
    {
      "cell_type": "code",
      "metadata": {
        "id": "zb6cSEqrjH0S",
        "colab_type": "code",
        "colab": {}
      },
      "source": [
        "df_ava_train_working_only = df_ava_train_working_only[df_ava_train_working_only['video_id'].isin(allowed_videos)]"
      ],
      "execution_count": 0,
      "outputs": []
    },
    {
      "cell_type": "code",
      "metadata": {
        "id": "oCRDM16OjH0U",
        "colab_type": "code",
        "colab": {},
        "outputId": "0bfbd169-2028-45a2-c1d0-1b0c5c1b10f5"
      },
      "source": [
        "len(df_ava_train_working_only)"
      ],
      "execution_count": 0,
      "outputs": [
        {
          "output_type": "execute_result",
          "data": {
            "text/plain": [
              "4940"
            ]
          },
          "metadata": {
            "tags": []
          },
          "execution_count": 161
        }
      ]
    },
    {
      "cell_type": "code",
      "metadata": {
        "id": "mg3FAuhejH0Z",
        "colab_type": "code",
        "colab": {}
      },
      "source": [
        "df_actions_i = []\n",
        "for i in range(len(allowed_actions)) :\n",
        "    df_actions_i.append(df_ava_train_working_only[df_ava_train_working_only['action_id'] == allowed_actions[i]])"
      ],
      "execution_count": 0,
      "outputs": []
    },
    {
      "cell_type": "code",
      "metadata": {
        "id": "vMuk7dRxjH0b",
        "colab_type": "code",
        "colab": {},
        "outputId": "bf34865e-81fe-49c5-aeb1-c1546bb4a72d"
      },
      "source": [
        "sum = 0;\n",
        "for i in range(len(allowed_actions)) :\n",
        "    sum += len(df_actions_i[i])\n",
        "sum"
      ],
      "execution_count": 0,
      "outputs": [
        {
          "output_type": "execute_result",
          "data": {
            "text/plain": [
              "4940"
            ]
          },
          "metadata": {
            "tags": []
          },
          "execution_count": 171
        }
      ]
    },
    {
      "cell_type": "code",
      "metadata": {
        "id": "b9m3u45xjH0d",
        "colab_type": "code",
        "colab": {}
      },
      "source": [
        "X_action_i = []\n",
        "videos_action_i =  df_actions_i[0]['video_id'].unique()"
      ],
      "execution_count": 0,
      "outputs": []
    },
    {
      "cell_type": "code",
      "metadata": {
        "id": "VDLjTlXWjH0f",
        "colab_type": "code",
        "colab": {}
      },
      "source": [
        "image_paths = []\n",
        "\n",
        "prefix = \"frames/\"\n",
        "for video in videos_action_i:\n",
        "    folderPath = prefix + video + \".mp4\"\n",
        "    for i in np.arange(1, 895, 1) :\n",
        "        file = \"%0.3d\" % (i) + '.jpg'\n",
        "        image_paths.append(folderPath + \"/\" + file)"
      ],
      "execution_count": 0,
      "outputs": []
    },
    {
      "cell_type": "code",
      "metadata": {
        "id": "YD1VGqJ0jH0i",
        "colab_type": "code",
        "colab": {},
        "outputId": "7336d631-471e-40d1-93cd-d7f2b085fae1"
      },
      "source": [
        "x_data = np.array( [np.array(cv2.imread(image_paths[i])) for i in range(len(image_paths))] )\n"
      ],
      "execution_count": 0,
      "outputs": [
        {
          "output_type": "stream",
          "text": [
            "\n",
            "KeyboardInterrupt\n",
            "\n"
          ],
          "name": "stderr"
        }
      ]
    },
    {
      "cell_type": "code",
      "metadata": {
        "id": "-ldAYXBCjH0j",
        "colab_type": "code",
        "colab": {},
        "outputId": "8d93d814-d407-4f43-e3b7-1fc2d2227cba"
      },
      "source": [
        "import numpy as np\n",
        "import cv2\n",
        "import matplotlib.pyplot as plt\n",
        "\n",
        "img = cv2.imread(\"frames/_a9SWtcaNj8.mp4/022.jpg\",cv2.IMREAD_COLOR) # reads image as grayscale\n",
        "# plt.imshow(img)\n",
        "# print(img.shape)\n",
        "x_data = np.array( [np.array(cv2.imread(imagePath[i])) for i in range(len(imagePath))] )\n"
      ],
      "execution_count": 0,
      "outputs": [
        {
          "output_type": "execute_result",
          "data": {
            "text/plain": [
              "<matplotlib.image.AxesImage at 0x18cdc91cf60>"
            ]
          },
          "metadata": {
            "tags": []
          },
          "execution_count": 199
        },
        {
          "output_type": "display_data",
          "data": {
            "image/png": "[encoded data removed]",
            "text/plain": [
              "<Figure size 432x288 with 1 Axes>"
            ]
          },
          "metadata": {
            "tags": []
          }
        }
      ]
    },
    {
      "cell_type": "code",
      "metadata": {
        "id": "LBIj2tz_jH0n",
        "colab_type": "code",
        "colab": {},
        "outputId": "9e08b827-4249-4ecd-b1cb-b5d2e633e400"
      },
      "source": [
        "s = \"abc\"\n",
        "b = \"def\"\n",
        "print(s+b)"
      ],
      "execution_count": 0,
      "outputs": [
        {
          "output_type": "stream",
          "text": [
            "abcdef\n"
          ],
          "name": "stdout"
        }
      ]
    },
    {
      "cell_type": "code",
      "metadata": {
        "id": "SZOlFTGUjH0o",
        "colab_type": "code",
        "colab": {},
        "outputId": "73a1fa18-ac6d-4016-fddd-ba2f9e5504fd"
      },
      "source": [
        "\"%0.3d\" % (1)"
      ],
      "execution_count": 0,
      "outputs": [
        {
          "output_type": "execute_result",
          "data": {
            "text/plain": [
              "'001'"
            ]
          },
          "metadata": {
            "tags": []
          },
          "execution_count": 214
        }
      ]
    },
    {
      "cell_type": "code",
      "metadata": {
        "id": "1HL7P2ItjH0q",
        "colab_type": "code",
        "colab": {}
      },
      "source": [
        ""
      ],
      "execution_count": 0,
      "outputs": []
    }
  ]
}