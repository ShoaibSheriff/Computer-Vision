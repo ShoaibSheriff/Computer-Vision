{
  "nbformat": 4,
  "nbformat_minor": 0,
  "metadata": {
    "colab": {
      "name": "Action_Spot_Drink.ipynb",
      "provenance": [],
      "collapsed_sections": [],
      "machine_shape": "hm",
      "include_colab_link": true
    },
    "kernelspec": {
      "name": "python3",
      "display_name": "Python 3"
    },
    "accelerator": "GPU"
  },
  "cells": [
    {
      "cell_type": "markdown",
      "metadata": {
        "id": "view-in-github",
        "colab_type": "text"
      },
      "source": [
        "<a href=\"https://colab.research.google.com/github/ShoaibSheriff/Computer-Vision/blob/master/Action%20Spotting/Action_Spot_LSTM_Drink.ipynb\" target=\"_parent\"><img src=\"https://colab.research.google.com/assets/colab-badge.svg\" alt=\"Open In Colab\"/></a>"
      ]
    },
    {
      "cell_type": "code",
      "metadata": {
        "id": "eRlAvMGUiF3H",
        "colab_type": "code",
        "outputId": "0c853f35-a1cb-401c-e8dc-36159f26b476",
        "colab": {
          "base_uri": "https://localhost:8080/",
          "height": 34
        }
      },
      "source": [
        "import pandas as pd\n",
        "import numpy as np\n",
        "import cv2\n",
        "import matplotlib.pyplot as plt\n",
        "\n",
        "import torch.optim as optim\n",
        "from torch.autograd import Variable\n",
        "import torchvision.transforms as transforms\n",
        "\n",
        "import torch\n",
        "import torch.nn as nn\n",
        "\n",
        "# import tensorflow as tf\n",
        "\n",
        "from pprint import pprint\n",
        "\n",
        "%pylab inline\n",
        "import matplotlib.pyplot as plt"
      ],
      "execution_count": 1,
      "outputs": [
        {
          "output_type": "stream",
          "text": [
            "Populating the interactive namespace from numpy and matplotlib\n"
          ],
          "name": "stdout"
        }
      ]
    },
    {
      "cell_type": "code",
      "metadata": {
        "id": "a6Vpz5GWZ1Cn",
        "colab_type": "code",
        "outputId": "e4cb46fb-ad62-4c1e-e7b3-589b2f1c8de9",
        "colab": {
          "base_uri": "https://localhost:8080/",
          "height": 124
        }
      },
      "source": [
        "from google.colab import drive\n",
        "drive.mount('/content/drive')"
      ],
      "execution_count": 6,
      "outputs": [
        {
          "output_type": "stream",
          "text": [
            "Go to this URL in a browser: https://accounts.google.com/o/oauth2/auth?client_id=947318989803-6bn6qk8qdgf4n4g3pfee6491hc0brc4i.apps.googleusercontent.com&redirect_uri=urn%3aietf%3awg%3aoauth%3a2.0%3aoob&response_type=code&scope=email%20https%3a%2f%2fwww.googleapis.com%2fauth%2fdocs.test%20https%3a%2f%2fwww.googleapis.com%2fauth%2fdrive%20https%3a%2f%2fwww.googleapis.com%2fauth%2fdrive.photos.readonly%20https%3a%2f%2fwww.googleapis.com%2fauth%2fpeopleapi.readonly\n",
            "\n",
            "Enter your authorization code:\n",
            "··········\n",
            "Mounted at /content/drive\n"
          ],
          "name": "stdout"
        }
      ]
    },
    {
      "cell_type": "code",
      "metadata": {
        "id": "BI-9sABRNxy4",
        "colab_type": "code",
        "outputId": "23f21c35-33ab-452c-f189-39c1cf1eb150",
        "colab": {
          "base_uri": "https://localhost:8080/",
          "height": 1000
        }
      },
      "source": [
        "import torchvision.models as models\n",
        "\n",
        "resnet = models.resnet34(pretrained=True)\n",
        "# rs = nn.Sequential(*list(resnet50.children())[:-1])\n",
        "encoder = nn.Sequential(resnet, nn.Sequential(nn.Linear(1000, 96)))\n",
        "encoder.eval()\n",
        "\n",
        "import copy\n",
        "gpu_dtype = torch.cuda.FloatTensor\n",
        "\n",
        "encoder_gpu = copy.deepcopy(encoder)\n",
        "encoder_gpu = encoder_gpu.cuda()\n",
        "encoder_gpu.eval()"
      ],
      "execution_count": 9,
      "outputs": [
        {
          "output_type": "stream",
          "text": [
            "Downloading: \"https://download.pytorch.org/models/resnet34-333f7ec4.pth\" to /root/.cache/torch/checkpoints/resnet34-333f7ec4.pth\n",
            "100%|██████████| 83.3M/83.3M [00:00<00:00, 334MB/s]\n"
          ],
          "name": "stderr"
        },
        {
          "output_type": "execute_result",
          "data": {
            "text/plain": [
              "Sequential(\n",
              "  (0): ResNet(\n",
              "    (conv1): Conv2d(3, 64, kernel_size=(7, 7), stride=(2, 2), padding=(3, 3), bias=False)\n",
              "    (bn1): BatchNorm2d(64, eps=1e-05, momentum=0.1, affine=True, track_running_stats=True)\n",
              "    (relu): ReLU(inplace=True)\n",
              "    (maxpool): MaxPool2d(kernel_size=3, stride=2, padding=1, dilation=1, ceil_mode=False)\n",
              "    (layer1): Sequential(\n",
              "      (0): BasicBlock(\n",
              "        (conv1): Conv2d(64, 64, kernel_size=(3, 3), stride=(1, 1), padding=(1, 1), bias=False)\n",
              "        (bn1): BatchNorm2d(64, eps=1e-05, momentum=0.1, affine=True, track_running_stats=True)\n",
              "        (relu): ReLU(inplace=True)\n",
              "        (conv2): Conv2d(64, 64, kernel_size=(3, 3), stride=(1, 1), padding=(1, 1), bias=False)\n",
              "        (bn2): BatchNorm2d(64, eps=1e-05, momentum=0.1, affine=True, track_running_stats=True)\n",
              "      )\n",
              "      (1): BasicBlock(\n",
              "        (conv1): Conv2d(64, 64, kernel_size=(3, 3), stride=(1, 1), padding=(1, 1), bias=False)\n",
              "        (bn1): BatchNorm2d(64, eps=1e-05, momentum=0.1, affine=True, track_running_stats=True)\n",
              "        (relu): ReLU(inplace=True)\n",
              "        (conv2): Conv2d(64, 64, kernel_size=(3, 3), stride=(1, 1), padding=(1, 1), bias=False)\n",
              "        (bn2): BatchNorm2d(64, eps=1e-05, momentum=0.1, affine=True, track_running_stats=True)\n",
              "      )\n",
              "      (2): BasicBlock(\n",
              "        (conv1): Conv2d(64, 64, kernel_size=(3, 3), stride=(1, 1), padding=(1, 1), bias=False)\n",
              "        (bn1): BatchNorm2d(64, eps=1e-05, momentum=0.1, affine=True, track_running_stats=True)\n",
              "        (relu): ReLU(inplace=True)\n",
              "        (conv2): Conv2d(64, 64, kernel_size=(3, 3), stride=(1, 1), padding=(1, 1), bias=False)\n",
              "        (bn2): BatchNorm2d(64, eps=1e-05, momentum=0.1, affine=True, track_running_stats=True)\n",
              "      )\n",
              "    )\n",
              "    (layer2): Sequential(\n",
              "      (0): BasicBlock(\n",
              "        (conv1): Conv2d(64, 128, kernel_size=(3, 3), stride=(2, 2), padding=(1, 1), bias=False)\n",
              "        (bn1): BatchNorm2d(128, eps=1e-05, momentum=0.1, affine=True, track_running_stats=True)\n",
              "        (relu): ReLU(inplace=True)\n",
              "        (conv2): Conv2d(128, 128, kernel_size=(3, 3), stride=(1, 1), padding=(1, 1), bias=False)\n",
              "        (bn2): BatchNorm2d(128, eps=1e-05, momentum=0.1, affine=True, track_running_stats=True)\n",
              "        (downsample): Sequential(\n",
              "          (0): Conv2d(64, 128, kernel_size=(1, 1), stride=(2, 2), bias=False)\n",
              "          (1): BatchNorm2d(128, eps=1e-05, momentum=0.1, affine=True, track_running_stats=True)\n",
              "        )\n",
              "      )\n",
              "      (1): BasicBlock(\n",
              "        (conv1): Conv2d(128, 128, kernel_size=(3, 3), stride=(1, 1), padding=(1, 1), bias=False)\n",
              "        (bn1): BatchNorm2d(128, eps=1e-05, momentum=0.1, affine=True, track_running_stats=True)\n",
              "        (relu): ReLU(inplace=True)\n",
              "        (conv2): Conv2d(128, 128, kernel_size=(3, 3), stride=(1, 1), padding=(1, 1), bias=False)\n",
              "        (bn2): BatchNorm2d(128, eps=1e-05, momentum=0.1, affine=True, track_running_stats=True)\n",
              "      )\n",
              "      (2): BasicBlock(\n",
              "        (conv1): Conv2d(128, 128, kernel_size=(3, 3), stride=(1, 1), padding=(1, 1), bias=False)\n",
              "        (bn1): BatchNorm2d(128, eps=1e-05, momentum=0.1, affine=True, track_running_stats=True)\n",
              "        (relu): ReLU(inplace=True)\n",
              "        (conv2): Conv2d(128, 128, kernel_size=(3, 3), stride=(1, 1), padding=(1, 1), bias=False)\n",
              "        (bn2): BatchNorm2d(128, eps=1e-05, momentum=0.1, affine=True, track_running_stats=True)\n",
              "      )\n",
              "      (3): BasicBlock(\n",
              "        (conv1): Conv2d(128, 128, kernel_size=(3, 3), stride=(1, 1), padding=(1, 1), bias=False)\n",
              "        (bn1): BatchNorm2d(128, eps=1e-05, momentum=0.1, affine=True, track_running_stats=True)\n",
              "        (relu): ReLU(inplace=True)\n",
              "        (conv2): Conv2d(128, 128, kernel_size=(3, 3), stride=(1, 1), padding=(1, 1), bias=False)\n",
              "        (bn2): BatchNorm2d(128, eps=1e-05, momentum=0.1, affine=True, track_running_stats=True)\n",
              "      )\n",
              "    )\n",
              "    (layer3): Sequential(\n",
              "      (0): BasicBlock(\n",
              "        (conv1): Conv2d(128, 256, kernel_size=(3, 3), stride=(2, 2), padding=(1, 1), bias=False)\n",
              "        (bn1): BatchNorm2d(256, eps=1e-05, momentum=0.1, affine=True, track_running_stats=True)\n",
              "        (relu): ReLU(inplace=True)\n",
              "        (conv2): Conv2d(256, 256, kernel_size=(3, 3), stride=(1, 1), padding=(1, 1), bias=False)\n",
              "        (bn2): BatchNorm2d(256, eps=1e-05, momentum=0.1, affine=True, track_running_stats=True)\n",
              "        (downsample): Sequential(\n",
              "          (0): Conv2d(128, 256, kernel_size=(1, 1), stride=(2, 2), bias=False)\n",
              "          (1): BatchNorm2d(256, eps=1e-05, momentum=0.1, affine=True, track_running_stats=True)\n",
              "        )\n",
              "      )\n",
              "      (1): BasicBlock(\n",
              "        (conv1): Conv2d(256, 256, kernel_size=(3, 3), stride=(1, 1), padding=(1, 1), bias=False)\n",
              "        (bn1): BatchNorm2d(256, eps=1e-05, momentum=0.1, affine=True, track_running_stats=True)\n",
              "        (relu): ReLU(inplace=True)\n",
              "        (conv2): Conv2d(256, 256, kernel_size=(3, 3), stride=(1, 1), padding=(1, 1), bias=False)\n",
              "        (bn2): BatchNorm2d(256, eps=1e-05, momentum=0.1, affine=True, track_running_stats=True)\n",
              "      )\n",
              "      (2): BasicBlock(\n",
              "        (conv1): Conv2d(256, 256, kernel_size=(3, 3), stride=(1, 1), padding=(1, 1), bias=False)\n",
              "        (bn1): BatchNorm2d(256, eps=1e-05, momentum=0.1, affine=True, track_running_stats=True)\n",
              "        (relu): ReLU(inplace=True)\n",
              "        (conv2): Conv2d(256, 256, kernel_size=(3, 3), stride=(1, 1), padding=(1, 1), bias=False)\n",
              "        (bn2): BatchNorm2d(256, eps=1e-05, momentum=0.1, affine=True, track_running_stats=True)\n",
              "      )\n",
              "      (3): BasicBlock(\n",
              "        (conv1): Conv2d(256, 256, kernel_size=(3, 3), stride=(1, 1), padding=(1, 1), bias=False)\n",
              "        (bn1): BatchNorm2d(256, eps=1e-05, momentum=0.1, affine=True, track_running_stats=True)\n",
              "        (relu): ReLU(inplace=True)\n",
              "        (conv2): Conv2d(256, 256, kernel_size=(3, 3), stride=(1, 1), padding=(1, 1), bias=False)\n",
              "        (bn2): BatchNorm2d(256, eps=1e-05, momentum=0.1, affine=True, track_running_stats=True)\n",
              "      )\n",
              "      (4): BasicBlock(\n",
              "        (conv1): Conv2d(256, 256, kernel_size=(3, 3), stride=(1, 1), padding=(1, 1), bias=False)\n",
              "        (bn1): BatchNorm2d(256, eps=1e-05, momentum=0.1, affine=True, track_running_stats=True)\n",
              "        (relu): ReLU(inplace=True)\n",
              "        (conv2): Conv2d(256, 256, kernel_size=(3, 3), stride=(1, 1), padding=(1, 1), bias=False)\n",
              "        (bn2): BatchNorm2d(256, eps=1e-05, momentum=0.1, affine=True, track_running_stats=True)\n",
              "      )\n",
              "      (5): BasicBlock(\n",
              "        (conv1): Conv2d(256, 256, kernel_size=(3, 3), stride=(1, 1), padding=(1, 1), bias=False)\n",
              "        (bn1): BatchNorm2d(256, eps=1e-05, momentum=0.1, affine=True, track_running_stats=True)\n",
              "        (relu): ReLU(inplace=True)\n",
              "        (conv2): Conv2d(256, 256, kernel_size=(3, 3), stride=(1, 1), padding=(1, 1), bias=False)\n",
              "        (bn2): BatchNorm2d(256, eps=1e-05, momentum=0.1, affine=True, track_running_stats=True)\n",
              "      )\n",
              "    )\n",
              "    (layer4): Sequential(\n",
              "      (0): BasicBlock(\n",
              "        (conv1): Conv2d(256, 512, kernel_size=(3, 3), stride=(2, 2), padding=(1, 1), bias=False)\n",
              "        (bn1): BatchNorm2d(512, eps=1e-05, momentum=0.1, affine=True, track_running_stats=True)\n",
              "        (relu): ReLU(inplace=True)\n",
              "        (conv2): Conv2d(512, 512, kernel_size=(3, 3), stride=(1, 1), padding=(1, 1), bias=False)\n",
              "        (bn2): BatchNorm2d(512, eps=1e-05, momentum=0.1, affine=True, track_running_stats=True)\n",
              "        (downsample): Sequential(\n",
              "          (0): Conv2d(256, 512, kernel_size=(1, 1), stride=(2, 2), bias=False)\n",
              "          (1): BatchNorm2d(512, eps=1e-05, momentum=0.1, affine=True, track_running_stats=True)\n",
              "        )\n",
              "      )\n",
              "      (1): BasicBlock(\n",
              "        (conv1): Conv2d(512, 512, kernel_size=(3, 3), stride=(1, 1), padding=(1, 1), bias=False)\n",
              "        (bn1): BatchNorm2d(512, eps=1e-05, momentum=0.1, affine=True, track_running_stats=True)\n",
              "        (relu): ReLU(inplace=True)\n",
              "        (conv2): Conv2d(512, 512, kernel_size=(3, 3), stride=(1, 1), padding=(1, 1), bias=False)\n",
              "        (bn2): BatchNorm2d(512, eps=1e-05, momentum=0.1, affine=True, track_running_stats=True)\n",
              "      )\n",
              "      (2): BasicBlock(\n",
              "        (conv1): Conv2d(512, 512, kernel_size=(3, 3), stride=(1, 1), padding=(1, 1), bias=False)\n",
              "        (bn1): BatchNorm2d(512, eps=1e-05, momentum=0.1, affine=True, track_running_stats=True)\n",
              "        (relu): ReLU(inplace=True)\n",
              "        (conv2): Conv2d(512, 512, kernel_size=(3, 3), stride=(1, 1), padding=(1, 1), bias=False)\n",
              "        (bn2): BatchNorm2d(512, eps=1e-05, momentum=0.1, affine=True, track_running_stats=True)\n",
              "      )\n",
              "    )\n",
              "    (avgpool): AdaptiveAvgPool2d(output_size=(1, 1))\n",
              "    (fc): Linear(in_features=512, out_features=1000, bias=True)\n",
              "  )\n",
              "  (1): Sequential(\n",
              "    (0): Linear(in_features=1000, out_features=96, bias=True)\n",
              "  )\n",
              ")"
            ]
          },
          "metadata": {
            "tags": []
          },
          "execution_count": 9
        }
      ]
    },
    {
      "cell_type": "code",
      "metadata": {
        "id": "y7l2As1Hmr7d",
        "colab_type": "code",
        "colab": {}
      },
      "source": [
        "import glob, os\n",
        "os.chdir(\"/content/drive/My Drive/CSE 527/Project/1fps/ava/frames/\")\n",
        "train_ids = []\n",
        "for file in glob.glob(\"*.mp4\"):\n",
        "    train_ids.append(file[:-4])\n",
        "# print(train_ids)"
      ],
      "execution_count": 0,
      "outputs": []
    },
    {
      "cell_type": "code",
      "metadata": {
        "id": "kqfDE7b1qeLt",
        "colab_type": "code",
        "outputId": "9d0b548e-5894-4f7d-a5b7-f67e83e4ae80",
        "colab": {
          "base_uri": "https://localhost:8080/",
          "height": 424
        }
      },
      "source": [
        "df_search_seq = pd.read_csv(r\"/content/drive/My Drive/CSE 527/Project/1fps/ava/ava-human-searches_anno.csv\")\n",
        "df_search_seq"
      ],
      "execution_count": 0,
      "outputs": [
        {
          "output_type": "execute_result",
          "data": {
            "text/html": [
              "<div>\n",
              "<style scoped>\n",
              "    .dataframe tbody tr th:only-of-type {\n",
              "        vertical-align: middle;\n",
              "    }\n",
              "\n",
              "    .dataframe tbody tr th {\n",
              "        vertical-align: top;\n",
              "    }\n",
              "\n",
              "    .dataframe thead th {\n",
              "        text-align: right;\n",
              "    }\n",
              "</style>\n",
              "<table border=\"1\" class=\"dataframe\">\n",
              "  <thead>\n",
              "    <tr style=\"text-align: right;\">\n",
              "      <th></th>\n",
              "      <th>search-id</th>\n",
              "      <th>step-id</th>\n",
              "      <th>time</th>\n",
              "      <th>video-id</th>\n",
              "      <th>target-action</th>\n",
              "    </tr>\n",
              "  </thead>\n",
              "  <tbody>\n",
              "    <tr>\n",
              "      <th>0</th>\n",
              "      <td>0</td>\n",
              "      <td>0</td>\n",
              "      <td>849.623600</td>\n",
              "      <td>Ag-pXiLrd48</td>\n",
              "      <td>clink glass</td>\n",
              "    </tr>\n",
              "    <tr>\n",
              "      <th>1</th>\n",
              "      <td>0</td>\n",
              "      <td>1</td>\n",
              "      <td>852.323675</td>\n",
              "      <td>Ag-pXiLrd48</td>\n",
              "      <td>clink glass</td>\n",
              "    </tr>\n",
              "    <tr>\n",
              "      <th>2</th>\n",
              "      <td>0</td>\n",
              "      <td>2</td>\n",
              "      <td>855.023750</td>\n",
              "      <td>Ag-pXiLrd48</td>\n",
              "      <td>clink glass</td>\n",
              "    </tr>\n",
              "    <tr>\n",
              "      <th>3</th>\n",
              "      <td>0</td>\n",
              "      <td>3</td>\n",
              "      <td>850.523625</td>\n",
              "      <td>Ag-pXiLrd48</td>\n",
              "      <td>clink glass</td>\n",
              "    </tr>\n",
              "    <tr>\n",
              "      <th>4</th>\n",
              "      <td>0</td>\n",
              "      <td>4</td>\n",
              "      <td>853.223700</td>\n",
              "      <td>Ag-pXiLrd48</td>\n",
              "      <td>clink glass</td>\n",
              "    </tr>\n",
              "    <tr>\n",
              "      <th>...</th>\n",
              "      <td>...</td>\n",
              "      <td>...</td>\n",
              "      <td>...</td>\n",
              "      <td>...</td>\n",
              "      <td>...</td>\n",
              "    </tr>\n",
              "    <tr>\n",
              "      <th>893476</th>\n",
              "      <td>3987</td>\n",
              "      <td>56</td>\n",
              "      <td>726.326631</td>\n",
              "      <td>mfsbYdLx9wE</td>\n",
              "      <td>write</td>\n",
              "    </tr>\n",
              "    <tr>\n",
              "      <th>893477</th>\n",
              "      <td>3987</td>\n",
              "      <td>57</td>\n",
              "      <td>728.126697</td>\n",
              "      <td>mfsbYdLx9wE</td>\n",
              "      <td>write</td>\n",
              "    </tr>\n",
              "    <tr>\n",
              "      <th>893478</th>\n",
              "      <td>3987</td>\n",
              "      <td>58</td>\n",
              "      <td>732.626862</td>\n",
              "      <td>mfsbYdLx9wE</td>\n",
              "      <td>write</td>\n",
              "    </tr>\n",
              "    <tr>\n",
              "      <th>893479</th>\n",
              "      <td>3987</td>\n",
              "      <td>59</td>\n",
              "      <td>741.627192</td>\n",
              "      <td>mfsbYdLx9wE</td>\n",
              "      <td>write</td>\n",
              "    </tr>\n",
              "    <tr>\n",
              "      <th>893480</th>\n",
              "      <td>3987</td>\n",
              "      <td>60</td>\n",
              "      <td>744.327291</td>\n",
              "      <td>mfsbYdLx9wE</td>\n",
              "      <td>write</td>\n",
              "    </tr>\n",
              "  </tbody>\n",
              "</table>\n",
              "<p>893481 rows × 5 columns</p>\n",
              "</div>"
            ],
            "text/plain": [
              "        search-id  step-id        time     video-id target-action\n",
              "0               0        0  849.623600  Ag-pXiLrd48   clink glass\n",
              "1               0        1  852.323675  Ag-pXiLrd48   clink glass\n",
              "2               0        2  855.023750  Ag-pXiLrd48   clink glass\n",
              "3               0        3  850.523625  Ag-pXiLrd48   clink glass\n",
              "4               0        4  853.223700  Ag-pXiLrd48   clink glass\n",
              "...           ...      ...         ...          ...           ...\n",
              "893476       3987       56  726.326631  mfsbYdLx9wE         write\n",
              "893477       3987       57  728.126697  mfsbYdLx9wE         write\n",
              "893478       3987       58  732.626862  mfsbYdLx9wE         write\n",
              "893479       3987       59  741.627192  mfsbYdLx9wE         write\n",
              "893480       3987       60  744.327291  mfsbYdLx9wE         write\n",
              "\n",
              "[893481 rows x 5 columns]"
            ]
          },
          "metadata": {
            "tags": []
          },
          "execution_count": 9
        }
      ]
    },
    {
      "cell_type": "code",
      "metadata": {
        "id": "s9dh3KpVOWkj",
        "colab_type": "code",
        "colab": {}
      },
      "source": [
        "df_drink = df_search_seq.loc[((df_search_seq['target-action'] == 'drink') & (df_search_seq['video-id'].isin(train_ids)))]"
      ],
      "execution_count": 0,
      "outputs": []
    },
    {
      "cell_type": "code",
      "metadata": {
        "id": "dlQg26cUgs5N",
        "colab_type": "code",
        "colab": {}
      },
      "source": [
        "searchids = df_drink.groupby(['search-id']).agg(['count']).sort_values(by = [('time', 'count')], ascending=False).reset_index()['search-id'].to_list()[2:]\n",
        "data = []\n",
        "\n",
        "for searchid in searchids:\n",
        "  # print(searchid)\n",
        "  df_search = df_drink.loc[(df_drink['search-id'] == searchid)].sort_values(['step-id'])\n",
        "\n",
        "  video_id = df_search.loc[(df_search['step-id'] == 0)]['video-id'].to_list()[0]\n",
        "  # print(video_id)\n",
        "  input_ts = df_search['time'].to_list()\n",
        "  if (len(input_ts) < 8 or len(input_ts) > 1200):\n",
        "    continue\n",
        "  temp = input_ts[1:]\n",
        "  temp.append(input_ts[-1])\n",
        "  jumps = [i-j for i, j in zip(temp, input_ts)]\n",
        "\n",
        "  video_f = '/content/drive/My Drive/CSE 527/Project/1fps/ava/videos/'+video_id+'.mp4'\n",
        "  \n",
        "  sample = {'video': video_f, 'input':input_ts, 'output':jumps}\n",
        "  # print(input_ts)\n",
        "  # print(jumps)self.hidden\n",
        "  data.append(sample)"
      ],
      "execution_count": 0,
      "outputs": []
    },
    {
      "cell_type": "code",
      "metadata": {
        "id": "yemFN7PEZzAX",
        "colab_type": "code",
        "outputId": "0f820039-2929-47e7-8a56-5b62f7a038ef",
        "colab": {
          "base_uri": "https://localhost:8080/",
          "height": 34
        }
      },
      "source": [
        "from tqdm import tqdm\n",
        "\n",
        "def generate_batches(instances, batch_size):\n",
        "    \"\"\"\n",
        "    Generates and returns batch of tensorized instances in a chunk of batch_size.\n",
        "    \"\"\"\n",
        "\n",
        "    def chunk(items, num):\n",
        "        return [items[index:index+num] for index in range(0, len(items), num)]\n",
        "    batches_of_instances = chunk(instances, batch_size)\n",
        "\n",
        "    batches = []\n",
        "    for batch_of_instances in tqdm(batches_of_instances):\n",
        "\n",
        "        num_steps = [len(instance[\"input\"])\n",
        "                         for instance in batch_of_instances]\n",
        "        max_steps = max(num_steps)\n",
        "\n",
        "        count = min(batch_size, len(batch_of_instances))\n",
        "        batch = {\"input_seq\": np.full((count, max_steps), -1, dtype=np.float32),\n",
        "                 \"output_steps\": np.full((count, max_steps), -1, dtype=np.float32)}\n",
        "\n",
        "        batch[\"video_path\"] = np.full((count), \"\", dtype=object)\n",
        "\n",
        "        for batch_index, instance in enumerate(batch_of_instances):\n",
        "            num_tokens = len(instance[\"input\"])\n",
        "\n",
        "            inputs = np.array(instance[\"input\"])\n",
        "            batch[\"input_seq\"][batch_index][:num_tokens] = inputs\n",
        "\n",
        "            pos_inputs = np.array(instance[\"output\"])\n",
        "            batch[\"output_steps\"][batch_index][:num_tokens] = pos_inputs\n",
        "\n",
        "            # print(batch[\"video_path\"].shape)\n",
        "            batch[\"video_path\"][batch_index] = instance[\"video\"]\n",
        "\n",
        "        batches.append(batch)\n",
        "        # print('\\n' + str(len(batches)))\n",
        "\n",
        "    return batches\n",
        "\n",
        "batches = generate_batches(data, 4)"
      ],
      "execution_count": 0,
      "outputs": [
        {
          "output_type": "stream",
          "text": [
            "100%|██████████| 61/61 [00:00<00:00, 4066.83it/s]\n"
          ],
          "name": "stderr"
        }
      ]
    },
    {
      "cell_type": "code",
      "metadata": {
        "id": "E5mbH29Gpnil",
        "colab_type": "code",
        "colab": {}
      },
      "source": [
        "def train(model, optimizer, train_batches, num_epochs):\n",
        "\n",
        "    train_batch_steps = [batch_inputs.pop(\"output_steps\") for batch_inputs in train_batches]\n",
        "    model.train()\n",
        "\n",
        "    for epoch in range(num_epochs):\n",
        "        print(f\"\\nEpoch{epoch}\")\n",
        "\n",
        "        epoch_loss = 0\n",
        "        generator_tqdm = tqdm(list(zip(train_batches, train_batch_steps)))\n",
        "        for batch_inputs, batch_steps in generator_tqdm:\n",
        "            # with tf.GradientTape() as tape:\n",
        "              ret = model(**batch_inputs, training=True)\n",
        "              preds = ret['preds']\n",
        "              slens = ret['seq_lens']\n",
        "              mask = ret['mask']\n",
        "              # print('in train')\n",
        "              # print(preds.shape)\n",
        "              # print(batch_steps.shape)\n",
        "              # print(mask.shape)\n",
        "              # print('mask', mask)\n",
        "              losses = torch.nn.SmoothL1Loss( reduction = 'none')(preds, torch.from_numpy(batch_steps))\n",
        "              # \"\"\".cuda()\"\"\")\n",
        "              # print(losses)\n",
        "\n",
        "              real_loss = torch.mul(losses, torch.from_numpy(mask))\n",
        "              '''.cuda())'''\n",
        "              # print('real_loss', real_loss)\n",
        "\n",
        "              loss_val = torch.sum(real_loss)/ np.sum(mask)\n",
        "              # print('loss', loss_val.data.item())\n",
        "\n",
        "              epoch_loss += loss_val\n",
        "              optimizer.zero_grad()\n",
        "              loss_val.backward()\n",
        "              optimizer.step()\n",
        "              print('cuda memory', torch.cuda.memory_allocated())\n",
        "\n",
        "        epoch_loss = epoch_loss / len(train_batches)\n",
        "        print(f\"Train loss for epoch: {epoch_loss}\")\n",
        "        torch.save(model.state_dict(), \"/content/drive/My Drive/CSE 527/Project/model\"+str(epoch)+'.v5.fltr.drp.h5')\n"
      ],
      "execution_count": 0,
      "outputs": []
    },
    {
      "cell_type": "code",
      "metadata": {
        "id": "S1MBBzW8WQpK",
        "colab_type": "code",
        "colab": {}
      },
      "source": [
        "class LSTMTSearch(nn.Module):\n",
        "\n",
        "    def __init__(self):\n",
        "        super(LSTMTSearch, self).__init__()\n",
        "\n",
        "        self.hidden_size = 128\n",
        "        self.batch_size = 4\n",
        "\n",
        "        self.encoder = encoder_gpu\n",
        "        # self.encoder = encoder\n",
        "        self.lstm = nn.LSTM(batch_first = True, input_size = 97, hidden_size = self.hidden_size, dropout = 0.25, num_layers = 2)\n",
        "        self.linear = nn.Linear(self.hidden_size, 1)\n",
        "\n",
        "    def get_init_hidden_states(self):\n",
        "        return (torch.zeros(2, self.batch_size, self.hidden_size),\n",
        "                torch.zeros(2, self.batch_size, self.hidden_size))\n",
        "\n",
        "    def forward(self, input_seq, video_path, training):\n",
        "\n",
        "        # print(input_seq[0])\n",
        "        # print(video_path[0])\n",
        "\n",
        "        self.lstm.hidden = self.get_init_hidden_states()\n",
        "\n",
        "        batch_ips = None\n",
        "        seq_lengths = np.zeros((len(video_path)))\n",
        "\n",
        "        for idx, video in enumerate(video_path):\n",
        "          print('cuda memory', torch.cuda.memory_allocated())\n",
        "          cap = cv2.VideoCapture(video)\n",
        "\n",
        "          images = None\n",
        "          # print(len(input_seq[idx]))\n",
        "          slen = 0\n",
        "          to_add = 0\n",
        "\n",
        "          for ts in input_seq[idx]:\n",
        "            \n",
        "            if ts > -1:\n",
        "              # print(ts)\n",
        "\n",
        "              slen += 1\n",
        "\n",
        "              cap.set(cv2.CAP_PROP_POS_MSEC, (904+ts)*1000) \n",
        "              _, frame = cap.read()\n",
        "              # print(video)\n",
        "              # plt.imshow(frame)\n",
        "\n",
        "              train_transforms = transforms.Compose([\n",
        "              transforms.ToPILImage(),\n",
        "              transforms.Resize(70),\n",
        "              transforms.CenterCrop(64),\n",
        "              transforms.ToTensor(),\n",
        "              transforms.Normalize(mean=[0.485, 0.456, 0.406], std=[0.229, 0.224, 0.225])\n",
        "              ])\n",
        "            \n",
        "              frame2 = train_transforms(frame).cuda()\n",
        "              frame2.requires_grad=False\n",
        "\n",
        "              # plt.imshow(frame2)\n",
        "              # plt.show()\n",
        "\n",
        "              if images is None:\n",
        "                images = frame2.unsqueeze(0)\n",
        "              else:\n",
        "                images = torch.cat((images, frame2.unsqueeze(0)), dim=0)\n",
        "\n",
        "              # del frame2\n",
        "            else:\n",
        "              to_add += 1\n",
        "            #     images = torch.cat((images, zeros), dim=0)\n",
        "          # print(images.shape)\n",
        "\n",
        "          seq_lengths[idx] = slen\n",
        "          # print('actual sequence length', slen)\n",
        "\n",
        "          activations = self.encoder(images).cpu()\n",
        "          # print('after image encode ', activations.shape)\n",
        "\n",
        "          # print('cuda memory', torch.cuda.memory_allocated())\n",
        "\n",
        "          zeros_to_pad = torch.zeros([to_add, 96], dtype=torch.float32)\n",
        "          \"\"\".cuda()\"\"\"\n",
        "          padded_activations = torch.cat((activations, zeros_to_pad), dim=0)\n",
        "          # print('after padding', padded_activations.shape)\n",
        "\n",
        "          # print(torch.from_numpy(input_seq[idx]).unsqueeze(1).shape)\n",
        "\n",
        "          padded_activations = torch.cat((padded_activations, torch.from_numpy(input_seq[idx]).unsqueeze(1)), dim = 1)\n",
        "          \"\"\".cuda()\"\"\"\n",
        "          # ), dim = 1)\n",
        "          # print('after add timestamp ', padded_activations.shape)\n",
        "\n",
        "          if batch_ips is None:\n",
        "            batch_ips = padded_activations.unsqueeze(0)\n",
        "          else:\n",
        "            batch_ips = torch.cat((batch_ips, padded_activations.unsqueeze(0)), dim=0)\n",
        "\n",
        "            # del padded_activations\n",
        "            # del activations\n",
        "            # del images\n",
        "            # del zeros_to_pad\n",
        "            # torch.cuda.empty_cache()\n",
        "\n",
        "        print(batch_ips.shape)\n",
        "        # print(seq_lengths)\n",
        "\n",
        "        padded_batch_ips = torch.nn.utils.rnn.pack_padded_sequence(batch_ips, seq_lengths, batch_first=True)\n",
        "\n",
        "        output, (h_n, c_n) = self.lstm(padded_batch_ips)\n",
        "        # output1, _ = torch.nn.utils.rnn.pad_packed_sequence(output, batch_first=True)\n",
        "        output2, _ = torch.nn.utils.rnn.pad_packed_sequence(output, batch_first=True)\n",
        "        # print('lstm out', output2.shape)\n",
        "        # print(h_n.shape)\n",
        "        # print(c_n.shape)\n",
        "\n",
        "        # # preds1 = self.linear(output1.view(-1, output1.size(2)))\n",
        "        # # print('preds', preds1.shape)\n",
        "\n",
        "        preds2 = self.linear(output2)\n",
        "        # print('preds', preds2.shape)\n",
        "\n",
        "        ret = {}\n",
        "        ret['preds'] = preds2.squeeze()\n",
        "        ret['seq_lens'] = seq_lengths\n",
        "        ret['mask'] = input_seq > -1\n",
        "\n",
        "        return ret\n",
        "# model = LSTMTSearch()\n",
        "# train(model, optim.Adam(model.parameters(), lr=0.0001), batches, 10)"
      ],
      "execution_count": 0,
      "outputs": []
    },
    {
      "cell_type": "code",
      "metadata": {
        "id": "8jjxcLuKlSmF",
        "colab_type": "code",
        "outputId": "e59d8770-96bd-4e64-aa97-1bdc76f787fa",
        "colab": {
          "base_uri": "https://localhost:8080/",
          "height": 1000
        }
      },
      "source": [
        "model = LSTMTSearch()\n",
        "train(model, optim.Adam(model.parameters(), lr=0.0001), batches, 20)"
      ],
      "execution_count": 0,
      "outputs": [
        {
          "output_type": "stream",
          "text": [
            "\r  0%|          | 0/61 [00:00<?, ?it/s]"
          ],
          "name": "stderr"
        },
        {
          "output_type": "stream",
          "text": [
            "\n",
            "Epoch0\n",
            "cuda memory 88635904\n",
            "cuda memory 3234025984\n",
            "cuda memory 6086322688\n",
            "cuda memory 8932459008\n",
            "torch.Size([4, 1192, 97])\n"
          ],
          "name": "stdout"
        },
        {
          "output_type": "stream",
          "text": [
            "\r  2%|▏         | 1/61 [05:34<5:34:22, 334.38s/it]"
          ],
          "name": "stderr"
        },
        {
          "output_type": "stream",
          "text": [
            "cuda memory 358729728\n",
            "cuda memory 358729728\n",
            "cuda memory 3060686848\n",
            "cuda memory 5757376512\n",
            "cuda memory 8454434816\n",
            "torch.Size([4, 1025, 97])\n"
          ],
          "name": "stdout"
        },
        {
          "output_type": "stream",
          "text": [
            "\r  3%|▎         | 2/61 [11:59<5:43:51, 349.69s/it]"
          ],
          "name": "stderr"
        },
        {
          "output_type": "stream",
          "text": [
            "cuda memory 358729728\n",
            "cuda memory 358729728\n",
            "cuda memory 2816188416\n",
            "cuda memory 5270014976\n",
            "cuda memory 7705764864\n",
            "torch.Size([4, 932, 97])\n"
          ],
          "name": "stdout"
        },
        {
          "output_type": "stream",
          "text": [
            "\r  5%|▍         | 3/61 [16:57<5:22:56, 334.08s/it]"
          ],
          "name": "stderr"
        },
        {
          "output_type": "stream",
          "text": [
            "cuda memory 358729728\n",
            "cuda memory 358729728\n",
            "cuda memory 2589237248\n",
            "cuda memory 4790671360\n",
            "cuda memory 6992547840\n",
            "torch.Size([4, 846, 97])\n"
          ],
          "name": "stdout"
        },
        {
          "output_type": "stream",
          "text": [
            "\r  7%|▋         | 4/61 [20:06<4:36:07, 290.66s/it]"
          ],
          "name": "stderr"
        },
        {
          "output_type": "stream",
          "text": [
            "cuda memory 358729728\n",
            "cuda memory 358729728\n",
            "cuda memory 2506039296\n",
            "cuda memory 4533794816\n",
            "cuda memory 6445551616\n",
            "torch.Size([4, 809, 97])\n"
          ],
          "name": "stdout"
        },
        {
          "output_type": "stream",
          "text": [
            "\r  8%|▊         | 5/61 [22:33<3:50:51, 247.34s/it]"
          ],
          "name": "stderr"
        },
        {
          "output_type": "stream",
          "text": [
            "cuda memory 358729728\n",
            "cuda memory 358729728\n",
            "cuda memory 2198764544\n",
            "cuda memory 4036698112\n",
            "cuda memory 5864369152\n",
            "torch.Size([4, 698, 97])\n"
          ],
          "name": "stdout"
        },
        {
          "output_type": "stream",
          "text": [
            "\r 10%|▉         | 6/61 [23:39<2:57:06, 193.20s/it]"
          ],
          "name": "stderr"
        },
        {
          "output_type": "stream",
          "text": [
            "cuda memory 358729728\n",
            "cuda memory 358729728\n",
            "cuda memory 2159558656\n",
            "cuda memory 3937275392\n",
            "cuda memory 5706665984\n",
            "torch.Size([4, 683, 97])\n"
          ],
          "name": "stdout"
        },
        {
          "output_type": "stream",
          "text": [
            "\r 11%|█▏        | 7/61 [24:40<2:18:02, 153.37s/it]"
          ],
          "name": "stderr"
        },
        {
          "output_type": "stream",
          "text": [
            "cuda memory 358729728\n",
            "cuda memory 358729728\n",
            "cuda memory 2020024320\n",
            "cuda memory 3649091584\n",
            "cuda memory 5223763968\n",
            "torch.Size([4, 630, 97])\n"
          ],
          "name": "stdout"
        },
        {
          "output_type": "stream",
          "text": [
            "\r 13%|█▎        | 8/61 [26:44<2:07:51, 144.74s/it]"
          ],
          "name": "stderr"
        },
        {
          "output_type": "stream",
          "text": [
            "cuda memory 358729728\n",
            "cuda memory 358729728\n",
            "cuda memory 1868734464\n",
            "cuda memory 3344947200\n",
            "cuda memory 4819316736\n",
            "torch.Size([4, 568, 97])\n"
          ],
          "name": "stdout"
        },
        {
          "output_type": "stream",
          "text": [
            "\r 15%|█▍        | 9/61 [28:45<1:59:12, 137.55s/it]"
          ],
          "name": "stderr"
        },
        {
          "output_type": "stream",
          "text": [
            "cuda memory 358729728\n",
            "cuda memory 358729728\n",
            "cuda memory 1791664128\n",
            "cuda memory 3191855104\n",
            "cuda memory 4592128000\n",
            "torch.Size([4, 542, 97])\n"
          ],
          "name": "stdout"
        },
        {
          "output_type": "stream",
          "text": [
            "\r 16%|█▋        | 10/61 [31:42<2:06:54, 149.30s/it]"
          ],
          "name": "stderr"
        },
        {
          "output_type": "stream",
          "text": [
            "cuda memory 358729728\n",
            "cuda memory 358729728\n",
            "cuda memory 1733206016\n",
            "cuda memory 3075559424\n",
            "cuda memory 4401979392\n",
            "torch.Size([4, 520, 97])\n"
          ],
          "name": "stdout"
        },
        {
          "output_type": "stream",
          "text": [
            "\r 18%|█▊        | 11/61 [35:17<2:20:54, 169.08s/it]"
          ],
          "name": "stderr"
        },
        {
          "output_type": "stream",
          "text": [
            "cuda memory 358729728\n",
            "cuda memory 358729728\n",
            "cuda memory 1654075392\n",
            "cuda memory 2946930688\n",
            "cuda memory 4229341184\n",
            "torch.Size([4, 490, 97])\n"
          ],
          "name": "stdout"
        },
        {
          "output_type": "stream",
          "text": [
            "\r 20%|█▉        | 12/61 [38:08<2:18:25, 169.50s/it]"
          ],
          "name": "stderr"
        },
        {
          "output_type": "stream",
          "text": [
            "cuda memory 358729728\n",
            "cuda memory 358729728\n",
            "cuda memory 1597640704\n",
            "cuda memory 2833252352\n",
            "cuda memory 4056913920\n",
            "torch.Size([4, 470, 97])\n"
          ],
          "name": "stdout"
        },
        {
          "output_type": "stream",
          "text": [
            "\r 21%|██▏       | 13/61 [38:59<1:47:19, 134.15s/it]"
          ],
          "name": "stderr"
        },
        {
          "output_type": "stream",
          "text": [
            "cuda memory 358729728\n",
            "cuda memory 358729728\n",
            "cuda memory 1576587264\n",
            "cuda memory 2771650560\n",
            "cuda memory 3952678912\n",
            "torch.Size([4, 462, 97])\n"
          ],
          "name": "stdout"
        },
        {
          "output_type": "stream",
          "text": [
            "\r 23%|██▎       | 14/61 [40:46<1:38:41, 125.99s/it]"
          ],
          "name": "stderr"
        },
        {
          "output_type": "stream",
          "text": [
            "cuda memory 358729728\n",
            "cuda memory 358729728\n",
            "cuda memory 1521442816\n",
            "cuda memory 2665760768\n",
            "cuda memory 3802058752\n",
            "torch.Size([4, 440, 97])\n"
          ],
          "name": "stdout"
        },
        {
          "output_type": "stream",
          "text": [
            "\r 25%|██▍       | 15/61 [42:59<1:38:10, 128.04s/it]"
          ],
          "name": "stderr"
        },
        {
          "output_type": "stream",
          "text": [
            "cuda memory 358729728\n",
            "cuda memory 358729728\n",
            "cuda memory 1469179904\n",
            "cuda memory 2576293888\n",
            "cuda memory 3683407872\n",
            "torch.Size([4, 421, 97])\n"
          ],
          "name": "stdout"
        },
        {
          "output_type": "stream",
          "text": [
            "\r 26%|██▌       | 16/61 [45:11<1:36:59, 129.32s/it]"
          ],
          "name": "stderr"
        },
        {
          "output_type": "stream",
          "text": [
            "cuda memory 358729728\n",
            "cuda memory 358729728\n",
            "cuda memory 1463119872\n",
            "cuda memory 2554460160\n",
            "cuda memory 3637905408\n",
            "torch.Size([4, 418, 97])\n"
          ],
          "name": "stdout"
        },
        {
          "output_type": "stream",
          "text": [
            "\r 28%|██▊       | 17/61 [47:19<1:34:24, 128.74s/it]"
          ],
          "name": "stderr"
        },
        {
          "output_type": "stream",
          "text": [
            "cuda memory 358729728\n",
            "cuda memory 358729728\n",
            "cuda memory 1431248896\n",
            "cuda memory 2502819840\n",
            "cuda memory 3547920384\n",
            "torch.Size([4, 400, 97])\n"
          ],
          "name": "stdout"
        },
        {
          "output_type": "stream",
          "text": [
            "\r 30%|██▉       | 18/61 [48:37<1:21:22, 113.56s/it]"
          ],
          "name": "stderr"
        },
        {
          "output_type": "stream",
          "text": [
            "cuda memory 358729728\n",
            "cuda memory 358729728\n",
            "cuda memory 1378838528\n",
            "cuda memory 2389006336\n",
            "cuda memory 3335362560\n",
            "torch.Size([4, 385, 97])\n"
          ],
          "name": "stdout"
        },
        {
          "output_type": "stream",
          "text": [
            "\r 31%|███       | 19/61 [51:33<1:32:35, 132.28s/it]"
          ],
          "name": "stderr"
        },
        {
          "output_type": "stream",
          "text": [
            "cuda memory 358729728\n",
            "cuda memory 358729728\n",
            "cuda memory 1281839104\n",
            "cuda memory 2200242176\n",
            "cuda memory 3116103680\n",
            "torch.Size([4, 350, 97])\n"
          ],
          "name": "stdout"
        },
        {
          "output_type": "stream",
          "text": [
            "\r 33%|███▎      | 20/61 [53:31<1:27:31, 128.08s/it]"
          ],
          "name": "stderr"
        },
        {
          "output_type": "stream",
          "text": [
            "cuda memory 358729728\n",
            "cuda memory 358729728\n",
            "cuda memory 1254410240\n",
            "cuda memory 2110881792\n",
            "cuda memory 2967951360\n",
            "torch.Size([4, 333, 97])\n"
          ],
          "name": "stdout"
        },
        {
          "output_type": "stream",
          "text": [
            "\r 34%|███▍      | 21/61 [54:33<1:12:09, 108.25s/it]"
          ],
          "name": "stderr"
        },
        {
          "output_type": "stream",
          "text": [
            "cuda memory 358729728\n",
            "cuda memory 358729728\n",
            "cuda memory 1211025408\n",
            "cuda memory 2057234432\n",
            "cuda memory 2901016576\n",
            "torch.Size([4, 321, 97])\n"
          ],
          "name": "stdout"
        },
        {
          "output_type": "stream",
          "text": [
            "\r 36%|███▌      | 22/61 [55:42<1:02:44, 96.52s/it] "
          ],
          "name": "stderr"
        },
        {
          "output_type": "stream",
          "text": [
            "cuda memory 358729728\n",
            "cuda memory 358729728\n",
            "cuda memory 1193279488\n",
            "cuda memory 2016444416\n",
            "cuda memory 2798901248\n",
            "torch.Size([4, 316, 97])\n"
          ],
          "name": "stdout"
        },
        {
          "output_type": "stream",
          "text": [
            "\r 38%|███▊      | 23/61 [56:38<53:26, 84.37s/it]  "
          ],
          "name": "stderr"
        },
        {
          "output_type": "stream",
          "text": [
            "cuda memory 358729728\n",
            "cuda memory 358729728\n",
            "cuda memory 1132800000\n",
            "cuda memory 1906008064\n",
            "cuda memory 2679721984\n",
            "torch.Size([4, 293, 97])\n"
          ],
          "name": "stdout"
        },
        {
          "output_type": "stream",
          "text": [
            "\r 39%|███▉      | 24/61 [58:47<1:00:17, 97.77s/it]"
          ],
          "name": "stderr"
        },
        {
          "output_type": "stream",
          "text": [
            "cuda memory 358729728\n",
            "cuda memory 358729728\n",
            "cuda memory 1126670336\n",
            "cuda memory 1893210112\n",
            "cuda memory 2622672896\n",
            "torch.Size([4, 288, 97])\n"
          ],
          "name": "stdout"
        },
        {
          "output_type": "stream",
          "text": [
            "\r 41%|████      | 25/61 [1:00:45<1:02:14, 103.75s/it]"
          ],
          "name": "stderr"
        },
        {
          "output_type": "stream",
          "text": [
            "cuda memory 358729728\n",
            "cuda memory 358729728\n",
            "cuda memory 1076582400\n",
            "cuda memory 1773318144\n",
            "cuda memory 2464921088\n",
            "torch.Size([4, 271, 97])\n"
          ],
          "name": "stdout"
        },
        {
          "output_type": "stream",
          "text": [
            "\r 43%|████▎     | 26/61 [1:02:14<57:54, 99.28s/it]   "
          ],
          "name": "stderr"
        },
        {
          "output_type": "stream",
          "text": [
            "cuda memory 358729728\n",
            "cuda memory 358729728\n",
            "cuda memory 1036441600\n",
            "cuda memory 1711280128\n",
            "cuda memory 2386031104\n",
            "torch.Size([4, 257, 97])\n"
          ],
          "name": "stdout"
        },
        {
          "output_type": "stream",
          "text": [
            "\r 44%|████▍     | 27/61 [1:02:36<43:07, 76.10s/it]"
          ],
          "name": "stderr"
        },
        {
          "output_type": "stream",
          "text": [
            "cuda memory 358729728\n",
            "cuda memory 358729728\n",
            "cuda memory 1029538816\n",
            "cuda memory 1681295360\n",
            "cuda memory 2324473344\n",
            "torch.Size([4, 248, 97])\n"
          ],
          "name": "stdout"
        },
        {
          "output_type": "stream",
          "text": [
            "\r 46%|████▌     | 28/61 [1:03:33<38:38, 70.25s/it]"
          ],
          "name": "stderr"
        },
        {
          "output_type": "stream",
          "text": [
            "cuda memory 358729728\n",
            "cuda memory 358729728\n",
            "cuda memory 992843776\n",
            "cuda memory 1609617920\n",
            "cuda memory 2224409600\n",
            "torch.Size([4, 238, 97])\n"
          ],
          "name": "stdout"
        },
        {
          "output_type": "stream",
          "text": [
            "\r 48%|████▊     | 29/61 [1:04:18<33:27, 62.74s/it]"
          ],
          "name": "stderr"
        },
        {
          "output_type": "stream",
          "text": [
            "cuda memory 358729728\n",
            "cuda memory 358729728\n",
            "cuda memory 960048128\n",
            "cuda memory 1556961792\n",
            "cuda memory 2134766080\n",
            "torch.Size([4, 228, 97])\n"
          ],
          "name": "stdout"
        },
        {
          "output_type": "stream",
          "text": [
            "\r 49%|████▉     | 30/61 [1:04:38<25:50, 50.01s/it]"
          ],
          "name": "stderr"
        },
        {
          "output_type": "stream",
          "text": [
            "cuda memory 358729728\n",
            "cuda memory 358729728\n",
            "cuda memory 896669184\n",
            "cuda memory 1433363456\n",
            "cuda memory 1950028800\n",
            "torch.Size([4, 200, 97])\n"
          ],
          "name": "stdout"
        },
        {
          "output_type": "stream",
          "text": [
            "\r 51%|█████     | 31/61 [1:05:32<25:38, 51.30s/it]"
          ],
          "name": "stderr"
        },
        {
          "output_type": "stream",
          "text": [
            "cuda memory 358729728\n",
            "cuda memory 358729728\n",
            "cuda memory 853189120\n",
            "cuda memory 1343843840\n",
            "cuda memory 1831129600\n",
            "torch.Size([4, 187, 97])\n"
          ],
          "name": "stdout"
        },
        {
          "output_type": "stream",
          "text": [
            "\r 52%|█████▏    | 32/61 [1:06:24<24:50, 51.39s/it]"
          ],
          "name": "stderr"
        },
        {
          "output_type": "stream",
          "text": [
            "cuda memory 358729728\n",
            "cuda memory 358729728\n",
            "cuda memory 832376320\n",
            "cuda memory 1303223296\n",
            "cuda memory 1772677632\n",
            "torch.Size([4, 178, 97])\n"
          ],
          "name": "stdout"
        },
        {
          "output_type": "stream",
          "text": [
            "\r 54%|█████▍    | 33/61 [1:06:58<21:36, 46.30s/it]"
          ],
          "name": "stderr"
        },
        {
          "output_type": "stream",
          "text": [
            "cuda memory 358729728\n",
            "cuda memory 358729728\n",
            "cuda memory 831839744\n",
            "cuda memory 1300725248\n",
            "cuda memory 1767857664\n",
            "torch.Size([4, 176, 97])\n"
          ],
          "name": "stdout"
        },
        {
          "output_type": "stream",
          "text": [
            "\r 56%|█████▌    | 34/61 [1:07:38<19:51, 44.15s/it]"
          ],
          "name": "stderr"
        },
        {
          "output_type": "stream",
          "text": [
            "cuda memory 358729728\n",
            "cuda memory 358729728\n",
            "cuda memory 796689408\n",
            "cuda memory 1229012992\n",
            "cuda memory 1660814336\n",
            "torch.Size([4, 164, 97])\n"
          ],
          "name": "stdout"
        },
        {
          "output_type": "stream",
          "text": [
            "\r 57%|█████▋    | 35/61 [1:08:27<19:49, 45.75s/it]"
          ],
          "name": "stderr"
        },
        {
          "output_type": "stream",
          "text": [
            "cuda memory 358729728\n",
            "cuda memory 358729728\n",
            "cuda memory 777582080\n",
            "cuda memory 1189987840\n",
            "cuda memory 1589808640\n",
            "torch.Size([4, 158, 97])\n"
          ],
          "name": "stdout"
        },
        {
          "output_type": "stream",
          "text": [
            "\r 59%|█████▉    | 36/61 [1:09:08<18:31, 44.45s/it]"
          ],
          "name": "stderr"
        },
        {
          "output_type": "stream",
          "text": [
            "cuda memory 358729728\n",
            "cuda memory 358729728\n",
            "cuda memory 747487744\n",
            "cuda memory 1131869696\n",
            "cuda memory 1515334144\n",
            "torch.Size([4, 145, 97])\n"
          ],
          "name": "stdout"
        },
        {
          "output_type": "stream",
          "text": [
            "\r 61%|██████    | 37/61 [1:09:41<16:22, 40.93s/it]"
          ],
          "name": "stderr"
        },
        {
          "output_type": "stream",
          "text": [
            "cuda memory 358729728\n",
            "cuda memory 358729728\n",
            "cuda memory 720898048\n",
            "cuda memory 1069176832\n",
            "cuda memory 1406615552\n",
            "torch.Size([4, 133, 97])\n"
          ],
          "name": "stdout"
        },
        {
          "output_type": "stream",
          "text": [
            "\r 62%|██████▏   | 38/61 [1:10:24<15:55, 41.53s/it]"
          ],
          "name": "stderr"
        },
        {
          "output_type": "stream",
          "text": [
            "cuda memory 358729728\n",
            "cuda memory 358729728\n",
            "cuda memory 683305984\n",
            "cuda memory 1000708096\n",
            "cuda memory 1317524480\n",
            "torch.Size([4, 121, 97])\n"
          ],
          "name": "stdout"
        },
        {
          "output_type": "stream",
          "text": [
            "\r 64%|██████▍   | 39/61 [1:10:53<13:52, 37.86s/it]"
          ],
          "name": "stderr"
        },
        {
          "output_type": "stream",
          "text": [
            "cuda memory 358729728\n",
            "cuda memory 358729728\n",
            "cuda memory 659580416\n",
            "cuda memory 959026176\n",
            "cuda memory 1259012608\n",
            "torch.Size([4, 114, 97])\n"
          ],
          "name": "stdout"
        },
        {
          "output_type": "stream",
          "text": [
            "\r 66%|██████▌   | 40/61 [1:11:05<10:29, 29.98s/it]"
          ],
          "name": "stderr"
        },
        {
          "output_type": "stream",
          "text": [
            "cuda memory 358729728\n",
            "cuda memory 358729728\n",
            "cuda memory 650170368\n",
            "cuda memory 934895616\n",
            "cuda memory 1219620864\n",
            "torch.Size([4, 109, 97])\n"
          ],
          "name": "stdout"
        },
        {
          "output_type": "stream",
          "text": [
            "\r 67%|██████▋   | 41/61 [1:11:24<08:52, 26.62s/it]"
          ],
          "name": "stderr"
        },
        {
          "output_type": "stream",
          "text": [
            "cuda memory 358729728\n",
            "cuda memory 358729728\n",
            "cuda memory 641919488\n",
            "cuda memory 889892864\n",
            "cuda memory 1137718784\n",
            "torch.Size([4, 106, 97])\n"
          ],
          "name": "stdout"
        },
        {
          "output_type": "stream",
          "text": [
            "\r 69%|██████▉   | 42/61 [1:11:49<08:15, 26.09s/it]"
          ],
          "name": "stderr"
        },
        {
          "output_type": "stream",
          "text": [
            "cuda memory 358729728\n",
            "cuda memory 358729728\n",
            "cuda memory 600322048\n",
            "cuda memory 837605376\n",
            "cuda memory 1071960064\n",
            "torch.Size([4, 90, 97])\n"
          ],
          "name": "stdout"
        },
        {
          "output_type": "stream",
          "text": [
            "\r 70%|███████   | 43/61 [1:12:18<08:09, 27.17s/it]"
          ],
          "name": "stderr"
        },
        {
          "output_type": "stream",
          "text": [
            "cuda memory 358729728\n",
            "cuda memory 358729728\n",
            "cuda memory 584376832\n",
            "cuda memory 809663488\n",
            "cuda memory 1025877504\n",
            "torch.Size([4, 84, 97])\n"
          ],
          "name": "stdout"
        },
        {
          "output_type": "stream",
          "text": [
            "\r 72%|███████▏  | 44/61 [1:12:49<08:02, 28.39s/it]"
          ],
          "name": "stderr"
        },
        {
          "output_type": "stream",
          "text": [
            "cuda memory 358729728\n",
            "cuda memory 358729728\n",
            "cuda memory 568937472\n",
            "cuda memory 770205696\n",
            "cuda memory 963831296\n",
            "torch.Size([4, 79, 97])\n"
          ],
          "name": "stdout"
        },
        {
          "output_type": "stream",
          "text": [
            "\r 74%|███████▍  | 45/61 [1:12:57<05:53, 22.11s/it]"
          ],
          "name": "stderr"
        },
        {
          "output_type": "stream",
          "text": [
            "cuda memory 358729728\n",
            "cuda memory 358729728\n",
            "cuda memory 549983744\n",
            "cuda memory 736669184\n",
            "cuda memory 923223552\n",
            "torch.Size([4, 70, 97])\n"
          ],
          "name": "stdout"
        },
        {
          "output_type": "stream",
          "text": [
            "\r 75%|███████▌  | 46/61 [1:13:17<05:20, 21.37s/it]"
          ],
          "name": "stderr"
        },
        {
          "output_type": "stream",
          "text": [
            "cuda memory 358729728\n",
            "cuda memory 358729728\n",
            "cuda memory 528844800\n",
            "cuda memory 688171520\n",
            "cuda memory 839378432\n"
          ],
          "name": "stdout"
        },
        {
          "output_type": "stream",
          "text": [
            "\r 77%|███████▋  | 47/61 [1:13:49<05:45, 24.70s/it]"
          ],
          "name": "stderr"
        },
        {
          "output_type": "stream",
          "text": [
            "torch.Size([4, 64, 97])\n",
            "cuda memory 358729728\n",
            "cuda memory 358729728\n",
            "cuda memory 508742656\n",
            "cuda memory 659427328\n",
            "cuda memory 804658176\n"
          ],
          "name": "stdout"
        },
        {
          "output_type": "stream",
          "text": [
            "\r 79%|███████▊  | 48/61 [1:14:01<04:31, 20.86s/it]"
          ],
          "name": "stderr"
        },
        {
          "output_type": "stream",
          "text": [
            "torch.Size([4, 56, 97])\n",
            "cuda memory 358729728\n",
            "cuda memory 358729728\n",
            "cuda memory 499066368\n",
            "cuda memory 637832192\n",
            "cuda memory 771310080\n"
          ],
          "name": "stdout"
        },
        {
          "output_type": "stream",
          "text": [
            "\r 80%|████████  | 49/61 [1:14:08<03:19, 16.64s/it]"
          ],
          "name": "stderr"
        },
        {
          "output_type": "stream",
          "text": [
            "torch.Size([4, 53, 97])\n",
            "cuda memory 358729728\n",
            "cuda memory 358729728\n",
            "cuda memory 495058432\n",
            "cuda memory 619007488\n",
            "cuda memory 743546368\n"
          ],
          "name": "stdout"
        },
        {
          "output_type": "stream",
          "text": [
            "\r 82%|████████▏ | 50/61 [1:14:20<02:46, 15.17s/it]"
          ],
          "name": "stderr"
        },
        {
          "output_type": "stream",
          "text": [
            "torch.Size([4, 50, 97])\n",
            "cuda memory 358729728\n",
            "cuda memory 358729728\n",
            "cuda memory 481290240\n",
            "cuda memory 600344576\n",
            "cuda memory 717598720\n"
          ],
          "name": "stdout"
        },
        {
          "output_type": "stream",
          "text": [
            "\r 84%|████████▎ | 51/61 [1:14:37<02:38, 15.83s/it]"
          ],
          "name": "stderr"
        },
        {
          "output_type": "stream",
          "text": [
            "torch.Size([4, 45, 97])\n",
            "cuda memory 358729728\n",
            "cuda memory 358729728\n",
            "cuda memory 480604160\n",
            "cuda memory 594665472\n",
            "cuda memory 708726784\n"
          ],
          "name": "stdout"
        },
        {
          "output_type": "stream",
          "text": [
            "\r 85%|████████▌ | 52/61 [1:14:59<02:40, 17.79s/it]"
          ],
          "name": "stderr"
        },
        {
          "output_type": "stream",
          "text": [
            "torch.Size([4, 44, 97])\n",
            "cuda memory 358729728\n",
            "cuda memory 358729728\n",
            "cuda memory 455898112\n",
            "cuda memory 550234112\n",
            "cuda memory 643718144\n"
          ],
          "name": "stdout"
        },
        {
          "output_type": "stream",
          "text": [
            "\r 87%|████████▋ | 53/61 [1:15:13<02:12, 16.57s/it]"
          ],
          "name": "stderr"
        },
        {
          "output_type": "stream",
          "text": [
            "torch.Size([4, 36, 97])\n",
            "cuda memory 358729728\n",
            "cuda memory 358729728\n",
            "cuda memory 443782144\n",
            "cuda memory 525021696\n",
            "cuda memory 594670080\n"
          ],
          "name": "stdout"
        },
        {
          "output_type": "stream",
          "text": [
            "\r 89%|████████▊ | 54/61 [1:15:24<01:44, 14.93s/it]"
          ],
          "name": "stderr"
        },
        {
          "output_type": "stream",
          "text": [
            "torch.Size([4, 32, 97])\n",
            "cuda memory 358729728\n",
            "cuda memory 358729728\n",
            "cuda memory 424073216\n",
            "cuda memory 489629696\n",
            "cuda memory 548833280\n"
          ],
          "name": "stdout"
        },
        {
          "output_type": "stream",
          "text": [
            "\r 90%|█████████ | 55/61 [1:15:30<01:14, 12.35s/it]"
          ],
          "name": "stderr"
        },
        {
          "output_type": "stream",
          "text": [
            "torch.Size([4, 24, 97])\n",
            "cuda memory 358729728\n",
            "cuda memory 358729728\n",
            "cuda memory 414251520\n",
            "cuda memory 468085760\n",
            "cuda memory 522968576\n"
          ],
          "name": "stdout"
        },
        {
          "output_type": "stream",
          "text": [
            "\r 92%|█████████▏| 56/61 [1:15:38<00:55, 11.05s/it]"
          ],
          "name": "stderr"
        },
        {
          "output_type": "stream",
          "text": [
            "torch.Size([4, 20, 97])\n",
            "cuda memory 358729728\n",
            "cuda memory 358729728\n",
            "cuda memory 414251520\n",
            "cuda memory 464991232\n",
            "cuda memory 516320768\n"
          ],
          "name": "stdout"
        },
        {
          "output_type": "stream",
          "text": [
            "\r 93%|█████████▎| 57/61 [1:15:41<00:34,  8.65s/it]"
          ],
          "name": "stderr"
        },
        {
          "output_type": "stream",
          "text": [
            "torch.Size([4, 20, 97])\n",
            "cuda memory 358729728\n",
            "cuda memory 358729728\n",
            "cuda memory 411288064\n",
            "cuda memory 454513664\n",
            "cuda memory 496756224\n"
          ],
          "name": "stdout"
        },
        {
          "output_type": "stream",
          "text": [
            "\r 95%|█████████▌| 58/61 [1:16:01<00:35, 11.85s/it]"
          ],
          "name": "stderr"
        },
        {
          "output_type": "stream",
          "text": [
            "torch.Size([4, 19, 97])\n",
            "cuda memory 358729728\n",
            "cuda memory 358729728\n",
            "cuda memory 398517248\n",
            "cuda memory 439042048\n",
            "cuda memory 476079104\n"
          ],
          "name": "stdout"
        },
        {
          "output_type": "stream",
          "text": [
            "\r 97%|█████████▋| 59/61 [1:16:03<00:17,  8.93s/it]"
          ],
          "name": "stderr"
        },
        {
          "output_type": "stream",
          "text": [
            "torch.Size([4, 15, 97])\n",
            "cuda memory 358729728\n",
            "cuda memory 358729728\n",
            "cuda memory 390806528\n",
            "cuda memory 420001792\n",
            "cuda memory 449721344\n"
          ],
          "name": "stdout"
        },
        {
          "output_type": "stream",
          "text": [
            "\r 98%|█████████▊| 60/61 [1:16:12<00:08,  8.88s/it]"
          ],
          "name": "stderr"
        },
        {
          "output_type": "stream",
          "text": [
            "torch.Size([4, 12, 97])\n",
            "cuda memory 358729728\n",
            "cuda memory 358729728\n",
            "cuda memory 382637568\n",
            "cuda memory 406561792\n",
            "cuda memory 430486016\n"
          ],
          "name": "stdout"
        },
        {
          "output_type": "stream",
          "text": [
            "\r100%|██████████| 61/61 [1:16:17<00:00,  7.74s/it]"
          ],
          "name": "stderr"
        },
        {
          "output_type": "stream",
          "text": [
            "torch.Size([4, 9, 97])\n",
            "cuda memory 358729728\n"
          ],
          "name": "stdout"
        },
        {
          "output_type": "stream",
          "text": [
            "\n"
          ],
          "name": "stderr"
        },
        {
          "output_type": "stream",
          "text": [
            "Train loss for epoch: 5.864429473876953\n"
          ],
          "name": "stdout"
        },
        {
          "output_type": "stream",
          "text": [
            "\r  0%|          | 0/61 [00:00<?, ?it/s]"
          ],
          "name": "stderr"
        },
        {
          "output_type": "stream",
          "text": [
            "\n",
            "Epoch1\n",
            "cuda memory 358729728\n",
            "cuda memory 3502744064\n",
            "cuda memory 6334466560\n",
            "cuda memory 9160581632\n",
            "torch.Size([4, 1192, 97])\n"
          ],
          "name": "stdout"
        },
        {
          "output_type": "stream",
          "text": [
            "\r  2%|▏         | 1/61 [03:52<3:52:20, 232.35s/it]"
          ],
          "name": "stderr"
        },
        {
          "output_type": "stream",
          "text": [
            "cuda memory 358729728\n",
            "cuda memory 358729728\n",
            "cuda memory 3060695040\n",
            "cuda memory 5759252480\n",
            "cuda memory 8454950912\n",
            "torch.Size([4, 1025, 97])\n"
          ],
          "name": "stdout"
        },
        {
          "output_type": "stream",
          "text": [
            "\r  3%|▎         | 2/61 [10:01<4:28:41, 273.25s/it]"
          ],
          "name": "stderr"
        },
        {
          "output_type": "stream",
          "text": [
            "cuda memory 358729728\n",
            "cuda memory 358729728\n",
            "cuda memory 2816188416\n",
            "cuda memory 5270014976\n",
            "cuda memory 7705764864\n",
            "torch.Size([4, 932, 97])\n"
          ],
          "name": "stdout"
        },
        {
          "output_type": "stream",
          "text": [
            "\r  5%|▍         | 3/61 [15:00<4:31:43, 281.09s/it]"
          ],
          "name": "stderr"
        },
        {
          "output_type": "stream",
          "text": [
            "cuda memory 358729728\n",
            "cuda memory 358729728\n",
            "cuda memory 2589237248\n",
            "cuda memory 4790671360\n",
            "cuda memory 6992547840\n",
            "torch.Size([4, 846, 97])\n"
          ],
          "name": "stdout"
        },
        {
          "output_type": "stream",
          "text": [
            "\r  7%|▋         | 4/61 [18:05<3:59:39, 252.27s/it]"
          ],
          "name": "stderr"
        },
        {
          "output_type": "stream",
          "text": [
            "cuda memory 358729728\n",
            "cuda memory 358729728\n",
            "cuda memory 2506039296\n",
            "cuda memory 4533794816\n",
            "cuda memory 6445551616\n",
            "torch.Size([4, 809, 97])\n"
          ],
          "name": "stdout"
        },
        {
          "output_type": "stream",
          "text": [
            "\r  8%|▊         | 5/61 [20:30<3:25:23, 220.06s/it]"
          ],
          "name": "stderr"
        },
        {
          "output_type": "stream",
          "text": [
            "cuda memory 358729728\n",
            "cuda memory 358729728\n",
            "cuda memory 2198764544\n",
            "cuda memory 4036698112\n",
            "cuda memory 5864369152\n",
            "torch.Size([4, 698, 97])\n"
          ],
          "name": "stdout"
        },
        {
          "output_type": "stream",
          "text": [
            "\r 10%|▉         | 6/61 [21:35<2:39:10, 173.65s/it]"
          ],
          "name": "stderr"
        },
        {
          "output_type": "stream",
          "text": [
            "cuda memory 358729728\n",
            "cuda memory 358729728\n",
            "cuda memory 2159558656\n",
            "cuda memory 3937275392\n",
            "cuda memory 5706665984\n",
            "torch.Size([4, 683, 97])\n"
          ],
          "name": "stdout"
        },
        {
          "output_type": "stream",
          "text": [
            "\r 11%|█▏        | 7/61 [22:34<2:05:14, 139.15s/it]"
          ],
          "name": "stderr"
        },
        {
          "output_type": "stream",
          "text": [
            "cuda memory 358729728\n",
            "cuda memory 358729728\n",
            "cuda memory 2020024320\n",
            "cuda memory 3649091584\n",
            "cuda memory 5223763968\n",
            "torch.Size([4, 630, 97])\n"
          ],
          "name": "stdout"
        },
        {
          "output_type": "stream",
          "text": [
            "\r 13%|█▎        | 8/61 [24:38<1:58:54, 134.60s/it]"
          ],
          "name": "stderr"
        },
        {
          "output_type": "stream",
          "text": [
            "cuda memory 358729728\n",
            "cuda memory 358729728\n",
            "cuda memory 1868734464\n",
            "cuda memory 3344947200\n",
            "cuda memory 4819316736\n",
            "torch.Size([4, 568, 97])\n"
          ],
          "name": "stdout"
        },
        {
          "output_type": "stream",
          "text": [
            "\r 15%|█▍        | 9/61 [26:36<1:52:29, 129.80s/it]"
          ],
          "name": "stderr"
        },
        {
          "output_type": "stream",
          "text": [
            "cuda memory 358729728\n",
            "cuda memory 358729728\n",
            "cuda memory 1791664128\n",
            "cuda memory 3191855104\n",
            "cuda memory 4592128000\n",
            "torch.Size([4, 542, 97])\n"
          ],
          "name": "stdout"
        },
        {
          "output_type": "stream",
          "text": [
            "\r 16%|█▋        | 10/61 [29:23<1:59:41, 140.81s/it]"
          ],
          "name": "stderr"
        },
        {
          "output_type": "stream",
          "text": [
            "cuda memory 358729728\n",
            "cuda memory 358729728\n",
            "cuda memory 1733206016\n",
            "cuda memory 3075559424\n",
            "cuda memory 4401979392\n",
            "torch.Size([4, 520, 97])\n"
          ],
          "name": "stdout"
        },
        {
          "output_type": "stream",
          "text": [
            "\r 18%|█▊        | 11/61 [32:55<2:15:11, 162.22s/it]"
          ],
          "name": "stderr"
        },
        {
          "output_type": "stream",
          "text": [
            "cuda memory 358729728\n",
            "cuda memory 358729728\n",
            "cuda memory 1654075392\n",
            "cuda memory 2946930688\n",
            "cuda memory 4229341184\n",
            "torch.Size([4, 490, 97])\n"
          ],
          "name": "stdout"
        },
        {
          "output_type": "stream",
          "text": [
            "\r 20%|█▉        | 12/61 [35:38<2:12:41, 162.47s/it]"
          ],
          "name": "stderr"
        },
        {
          "output_type": "stream",
          "text": [
            "cuda memory 358729728\n",
            "cuda memory 358729728\n",
            "cuda memory 1597640704\n",
            "cuda memory 2833252352\n",
            "cuda memory 4056913920\n",
            "torch.Size([4, 470, 97])\n"
          ],
          "name": "stdout"
        },
        {
          "output_type": "stream",
          "text": [
            "\r 21%|██▏       | 13/61 [36:20<1:41:05, 126.36s/it]"
          ],
          "name": "stderr"
        },
        {
          "output_type": "stream",
          "text": [
            "cuda memory 358729728\n",
            "cuda memory 358729728\n",
            "cuda memory 1576587264\n",
            "cuda memory 2771650560\n",
            "cuda memory 3952678912\n",
            "torch.Size([4, 462, 97])\n"
          ],
          "name": "stdout"
        },
        {
          "output_type": "stream",
          "text": [
            "\r 23%|██▎       | 14/61 [38:05<1:33:59, 119.98s/it]"
          ],
          "name": "stderr"
        },
        {
          "output_type": "stream",
          "text": [
            "cuda memory 358729728\n",
            "cuda memory 358729728\n",
            "cuda memory 1521442816\n",
            "cuda memory 2665760768\n",
            "cuda memory 3802058752\n",
            "torch.Size([4, 440, 97])\n"
          ],
          "name": "stdout"
        },
        {
          "output_type": "stream",
          "text": [
            "\r 25%|██▍       | 15/61 [40:18<1:34:53, 123.76s/it]"
          ],
          "name": "stderr"
        },
        {
          "output_type": "stream",
          "text": [
            "cuda memory 358729728\n",
            "cuda memory 358729728\n",
            "cuda memory 1469179904\n",
            "cuda memory 2576293888\n",
            "cuda memory 3683407872\n",
            "torch.Size([4, 421, 97])\n"
          ],
          "name": "stdout"
        },
        {
          "output_type": "stream",
          "text": [
            "\r 26%|██▌       | 16/61 [42:31<1:34:49, 126.44s/it]"
          ],
          "name": "stderr"
        },
        {
          "output_type": "stream",
          "text": [
            "cuda memory 358729728\n",
            "cuda memory 358729728\n",
            "cuda memory 1463119872\n",
            "cuda memory 2554460160\n",
            "cuda memory 3637905408\n",
            "torch.Size([4, 418, 97])\n"
          ],
          "name": "stdout"
        },
        {
          "output_type": "stream",
          "text": [
            "\r 28%|██▊       | 17/61 [44:39<1:33:12, 127.11s/it]"
          ],
          "name": "stderr"
        },
        {
          "output_type": "stream",
          "text": [
            "cuda memory 358729728\n",
            "cuda memory 358729728\n",
            "cuda memory 1431248896\n",
            "cuda memory 2502819840\n",
            "cuda memory 3547920384\n",
            "torch.Size([4, 400, 97])\n"
          ],
          "name": "stdout"
        },
        {
          "output_type": "stream",
          "text": [
            "\r 30%|██▉       | 18/61 [46:31<1:27:44, 122.44s/it]"
          ],
          "name": "stderr"
        },
        {
          "output_type": "stream",
          "text": [
            "cuda memory 358729728\n",
            "cuda memory 358729728\n",
            "cuda memory 1378838528\n",
            "cuda memory 2389006336\n",
            "cuda memory 3335362560\n",
            "torch.Size([4, 385, 97])\n"
          ],
          "name": "stdout"
        },
        {
          "output_type": "stream",
          "text": [
            "\r 31%|███       | 19/61 [49:27<1:37:03, 138.65s/it]"
          ],
          "name": "stderr"
        },
        {
          "output_type": "stream",
          "text": [
            "cuda memory 358729728\n",
            "cuda memory 358729728\n",
            "cuda memory 1281839104\n",
            "cuda memory 2200242176\n",
            "cuda memory 3116103680\n",
            "torch.Size([4, 350, 97])\n"
          ],
          "name": "stdout"
        },
        {
          "output_type": "stream",
          "text": [
            "\r 33%|███▎      | 20/61 [51:23<1:30:02, 131.78s/it]"
          ],
          "name": "stderr"
        },
        {
          "output_type": "stream",
          "text": [
            "cuda memory 358729728\n",
            "cuda memory 358729728\n",
            "cuda memory 1254410240\n",
            "cuda memory 2110881792\n",
            "cuda memory 2967951360\n",
            "torch.Size([4, 333, 97])\n"
          ],
          "name": "stdout"
        },
        {
          "output_type": "stream",
          "text": [
            "\r 34%|███▍      | 21/61 [52:24<1:13:44, 110.62s/it]"
          ],
          "name": "stderr"
        },
        {
          "output_type": "stream",
          "text": [
            "cuda memory 358729728\n",
            "cuda memory 358729728\n",
            "cuda memory 1211025408\n",
            "cuda memory 2057234432\n",
            "cuda memory 2901016576\n",
            "torch.Size([4, 321, 97])\n"
          ],
          "name": "stdout"
        },
        {
          "output_type": "stream",
          "text": [
            "\r 36%|███▌      | 22/61 [53:05<58:20, 89.75s/it]   "
          ],
          "name": "stderr"
        },
        {
          "output_type": "stream",
          "text": [
            "cuda memory 358729728\n",
            "cuda memory 358729728\n",
            "cuda memory 1193279488\n",
            "cuda memory 2016444416\n",
            "cuda memory 2798901248\n",
            "torch.Size([4, 316, 97])\n"
          ],
          "name": "stdout"
        },
        {
          "output_type": "stream",
          "text": [
            "\r 38%|███▊      | 23/61 [54:01<50:27, 79.66s/it]"
          ],
          "name": "stderr"
        },
        {
          "output_type": "stream",
          "text": [
            "cuda memory 358729728\n",
            "cuda memory 358729728\n",
            "cuda memory 1132800000\n",
            "cuda memory 1906008064\n",
            "cuda memory 2679721984\n",
            "torch.Size([4, 293, 97])\n"
          ],
          "name": "stdout"
        },
        {
          "output_type": "stream",
          "text": [
            "\r 39%|███▉      | 24/61 [56:11<58:21, 94.63s/it]"
          ],
          "name": "stderr"
        },
        {
          "output_type": "stream",
          "text": [
            "cuda memory 358729728\n",
            "cuda memory 358729728\n",
            "cuda memory 1126670336\n",
            "cuda memory 1893210112\n",
            "cuda memory 2622672896\n",
            "torch.Size([4, 288, 97])\n"
          ],
          "name": "stdout"
        },
        {
          "output_type": "stream",
          "text": [
            "\r 41%|████      | 25/61 [58:07<1:00:37, 101.05s/it]"
          ],
          "name": "stderr"
        },
        {
          "output_type": "stream",
          "text": [
            "cuda memory 358729728\n",
            "cuda memory 358729728\n",
            "cuda memory 1076582400\n",
            "cuda memory 1773318144\n",
            "cuda memory 2464921088\n",
            "torch.Size([4, 271, 97])\n"
          ],
          "name": "stdout"
        },
        {
          "output_type": "stream",
          "text": [
            "\r 43%|████▎     | 26/61 [59:37<56:54, 97.57s/it]   "
          ],
          "name": "stderr"
        },
        {
          "output_type": "stream",
          "text": [
            "cuda memory 358729728\n",
            "cuda memory 358729728\n",
            "cuda memory 1036441600\n",
            "cuda memory 1711280128\n",
            "cuda memory 2386031104\n",
            "torch.Size([4, 257, 97])\n"
          ],
          "name": "stdout"
        },
        {
          "output_type": "stream",
          "text": [
            "\r 44%|████▍     | 27/61 [59:59<42:28, 74.94s/it]"
          ],
          "name": "stderr"
        },
        {
          "output_type": "stream",
          "text": [
            "cuda memory 358729728\n",
            "cuda memory 358729728\n",
            "cuda memory 1029538816\n",
            "cuda memory 1681295360\n",
            "cuda memory 2324473344\n",
            "torch.Size([4, 248, 97])\n"
          ],
          "name": "stdout"
        },
        {
          "output_type": "stream",
          "text": [
            "\r 46%|████▌     | 28/61 [1:00:56<38:14, 69.53s/it]"
          ],
          "name": "stderr"
        },
        {
          "output_type": "stream",
          "text": [
            "cuda memory 358729728\n",
            "cuda memory 358729728\n",
            "cuda memory 992843776\n",
            "cuda memory 1609617920\n",
            "cuda memory 2224409600\n",
            "torch.Size([4, 238, 97])\n"
          ],
          "name": "stdout"
        },
        {
          "output_type": "stream",
          "text": [
            "\r 48%|████▊     | 29/61 [1:01:41<33:09, 62.18s/it]"
          ],
          "name": "stderr"
        },
        {
          "output_type": "stream",
          "text": [
            "cuda memory 358729728\n",
            "cuda memory 358729728\n",
            "cuda memory 960048128\n",
            "cuda memory 1556961792\n",
            "cuda memory 2134766080\n",
            "torch.Size([4, 228, 97])\n"
          ],
          "name": "stdout"
        },
        {
          "output_type": "stream",
          "text": [
            "\r 49%|████▉     | 30/61 [1:02:01<25:37, 49.60s/it]"
          ],
          "name": "stderr"
        },
        {
          "output_type": "stream",
          "text": [
            "cuda memory 358729728\n",
            "cuda memory 358729728\n",
            "cuda memory 896669184\n",
            "cuda memory 1433363456\n",
            "cuda memory 1950028800\n",
            "torch.Size([4, 200, 97])\n"
          ],
          "name": "stdout"
        },
        {
          "output_type": "stream",
          "text": [
            "\r 51%|█████     | 31/61 [1:02:57<25:45, 51.52s/it]"
          ],
          "name": "stderr"
        },
        {
          "output_type": "stream",
          "text": [
            "cuda memory 358729728\n",
            "cuda memory 358729728\n",
            "cuda memory 853189120\n",
            "cuda memory 1343843840\n",
            "cuda memory 1831129600\n",
            "torch.Size([4, 187, 97])\n"
          ],
          "name": "stdout"
        },
        {
          "output_type": "stream",
          "text": [
            "\r 52%|█████▏    | 32/61 [1:03:46<24:32, 50.78s/it]"
          ],
          "name": "stderr"
        },
        {
          "output_type": "stream",
          "text": [
            "cuda memory 358729728\n",
            "cuda memory 358729728\n",
            "cuda memory 832376320\n",
            "cuda memory 1303223296\n",
            "cuda memory 1772677632\n",
            "torch.Size([4, 178, 97])\n"
          ],
          "name": "stdout"
        },
        {
          "output_type": "stream",
          "text": [
            "\r 54%|█████▍    | 33/61 [1:04:20<21:25, 45.92s/it]"
          ],
          "name": "stderr"
        },
        {
          "output_type": "stream",
          "text": [
            "cuda memory 358729728\n",
            "cuda memory 358729728\n",
            "cuda memory 831839744\n",
            "cuda memory 1300725248\n",
            "cuda memory 1767857664\n",
            "torch.Size([4, 176, 97])\n"
          ],
          "name": "stdout"
        },
        {
          "output_type": "stream",
          "text": [
            "\r 56%|█████▌    | 34/61 [1:04:58<19:35, 43.55s/it]"
          ],
          "name": "stderr"
        },
        {
          "output_type": "stream",
          "text": [
            "cuda memory 358729728\n",
            "cuda memory 358729728\n",
            "cuda memory 796689408\n",
            "cuda memory 1229012992\n",
            "cuda memory 1660814336\n",
            "torch.Size([4, 164, 97])\n"
          ],
          "name": "stdout"
        },
        {
          "output_type": "stream",
          "text": [
            "\r 57%|█████▋    | 35/61 [1:05:42<18:55, 43.66s/it]"
          ],
          "name": "stderr"
        },
        {
          "output_type": "stream",
          "text": [
            "cuda memory 358729728\n",
            "cuda memory 358729728\n",
            "cuda memory 777582080\n",
            "cuda memory 1189987840\n",
            "cuda memory 1589808640\n",
            "torch.Size([4, 158, 97])\n"
          ],
          "name": "stdout"
        },
        {
          "output_type": "stream",
          "text": [
            "\r 59%|█████▉    | 36/61 [1:06:30<18:44, 44.99s/it]"
          ],
          "name": "stderr"
        },
        {
          "output_type": "stream",
          "text": [
            "cuda memory 358729728\n",
            "cuda memory 358729728\n",
            "cuda memory 747487744\n",
            "cuda memory 1131869696\n",
            "cuda memory 1515334144\n",
            "torch.Size([4, 145, 97])\n"
          ],
          "name": "stdout"
        },
        {
          "output_type": "stream",
          "text": [
            "\r 61%|██████    | 37/61 [1:07:03<16:31, 41.32s/it]"
          ],
          "name": "stderr"
        },
        {
          "output_type": "stream",
          "text": [
            "cuda memory 358729728\n",
            "cuda memory 358729728\n",
            "cuda memory 720898048\n",
            "cuda memory 1069176832\n",
            "cuda memory 1406615552\n",
            "torch.Size([4, 133, 97])\n"
          ],
          "name": "stdout"
        },
        {
          "output_type": "stream",
          "text": [
            "\r 62%|██████▏   | 38/61 [1:07:41<15:27, 40.34s/it]"
          ],
          "name": "stderr"
        },
        {
          "output_type": "stream",
          "text": [
            "cuda memory 358729728\n",
            "cuda memory 358729728\n",
            "cuda memory 683305984\n",
            "cuda memory 1000708096\n",
            "cuda memory 1317524480\n",
            "torch.Size([4, 121, 97])\n"
          ],
          "name": "stdout"
        },
        {
          "output_type": "stream",
          "text": [
            "\r 64%|██████▍   | 39/61 [1:08:14<13:59, 38.18s/it]"
          ],
          "name": "stderr"
        },
        {
          "output_type": "stream",
          "text": [
            "cuda memory 358729728\n",
            "cuda memory 358729728\n",
            "cuda memory 659580416\n",
            "cuda memory 959026176\n",
            "cuda memory 1259012608\n",
            "torch.Size([4, 114, 97])\n"
          ],
          "name": "stdout"
        },
        {
          "output_type": "stream",
          "text": [
            "\r 66%|██████▌   | 40/61 [1:08:26<10:35, 30.26s/it]"
          ],
          "name": "stderr"
        },
        {
          "output_type": "stream",
          "text": [
            "cuda memory 358729728\n",
            "cuda memory 358729728\n",
            "cuda memory 650170368\n",
            "cuda memory 934895616\n",
            "cuda memory 1219620864\n",
            "torch.Size([4, 109, 97])\n"
          ],
          "name": "stdout"
        },
        {
          "output_type": "stream",
          "text": [
            "\r 67%|██████▋   | 41/61 [1:08:53<09:44, 29.22s/it]"
          ],
          "name": "stderr"
        },
        {
          "output_type": "stream",
          "text": [
            "cuda memory 358729728\n",
            "cuda memory 358729728\n",
            "cuda memory 641919488\n",
            "cuda memory 889892864\n",
            "cuda memory 1137718784\n",
            "torch.Size([4, 106, 97])\n"
          ],
          "name": "stdout"
        },
        {
          "output_type": "stream",
          "text": [
            "\r 69%|██████▉   | 42/61 [1:09:18<08:48, 27.84s/it]"
          ],
          "name": "stderr"
        },
        {
          "output_type": "stream",
          "text": [
            "cuda memory 358729728\n",
            "cuda memory 358729728\n",
            "cuda memory 600322048\n",
            "cuda memory 837605376\n",
            "cuda memory 1071960064\n",
            "torch.Size([4, 90, 97])\n"
          ],
          "name": "stdout"
        },
        {
          "output_type": "stream",
          "text": [
            "\r 70%|███████   | 43/61 [1:09:47<08:31, 28.40s/it]"
          ],
          "name": "stderr"
        },
        {
          "output_type": "stream",
          "text": [
            "cuda memory 358729728\n",
            "cuda memory 358729728\n",
            "cuda memory 584376832\n",
            "cuda memory 809663488\n",
            "cuda memory 1025877504\n",
            "torch.Size([4, 84, 97])\n"
          ],
          "name": "stdout"
        },
        {
          "output_type": "stream",
          "text": [
            "\r 72%|███████▏  | 44/61 [1:10:15<08:00, 28.24s/it]"
          ],
          "name": "stderr"
        },
        {
          "output_type": "stream",
          "text": [
            "cuda memory 358729728\n",
            "cuda memory 358729728\n",
            "cuda memory 568937472\n",
            "cuda memory 770205696\n",
            "cuda memory 963831296\n",
            "torch.Size([4, 79, 97])\n"
          ],
          "name": "stdout"
        },
        {
          "output_type": "stream",
          "text": [
            "\r 74%|███████▍  | 45/61 [1:10:21<05:44, 21.54s/it]"
          ],
          "name": "stderr"
        },
        {
          "output_type": "stream",
          "text": [
            "cuda memory 358729728\n",
            "cuda memory 358729728\n",
            "cuda memory 549983744\n",
            "cuda memory 736669184\n",
            "cuda memory 923223552\n"
          ],
          "name": "stdout"
        },
        {
          "output_type": "stream",
          "text": [
            "\r 75%|███████▌  | 46/61 [1:10:45<05:32, 22.16s/it]"
          ],
          "name": "stderr"
        },
        {
          "output_type": "stream",
          "text": [
            "torch.Size([4, 70, 97])\n",
            "cuda memory 358729728\n",
            "cuda memory 358729728\n",
            "cuda memory 528844800\n",
            "cuda memory 688171520\n",
            "cuda memory 839378432\n"
          ],
          "name": "stdout"
        },
        {
          "output_type": "stream",
          "text": [
            "\r 77%|███████▋  | 47/61 [1:11:18<05:58, 25.62s/it]"
          ],
          "name": "stderr"
        },
        {
          "output_type": "stream",
          "text": [
            "torch.Size([4, 64, 97])\n",
            "cuda memory 358729728\n",
            "cuda memory 358729728\n",
            "cuda memory 508742656\n",
            "cuda memory 659427328\n",
            "cuda memory 804658176\n"
          ],
          "name": "stdout"
        },
        {
          "output_type": "stream",
          "text": [
            "\r 79%|███████▊  | 48/61 [1:11:30<04:39, 21.49s/it]"
          ],
          "name": "stderr"
        },
        {
          "output_type": "stream",
          "text": [
            "torch.Size([4, 56, 97])\n",
            "cuda memory 358729728\n",
            "cuda memory 358729728\n",
            "cuda memory 499066368\n",
            "cuda memory 637832192\n",
            "cuda memory 771310080\n"
          ],
          "name": "stdout"
        },
        {
          "output_type": "stream",
          "text": [
            "\r 80%|████████  | 49/61 [1:11:37<03:25, 17.11s/it]"
          ],
          "name": "stderr"
        },
        {
          "output_type": "stream",
          "text": [
            "torch.Size([4, 53, 97])\n",
            "cuda memory 358729728\n",
            "cuda memory 358729728\n",
            "cuda memory 495058432\n",
            "cuda memory 619007488\n",
            "cuda memory 743546368\n"
          ],
          "name": "stdout"
        },
        {
          "output_type": "stream",
          "text": [
            "\r 82%|████████▏ | 50/61 [1:11:49<02:52, 15.65s/it]"
          ],
          "name": "stderr"
        },
        {
          "output_type": "stream",
          "text": [
            "torch.Size([4, 50, 97])\n",
            "cuda memory 358729728\n",
            "cuda memory 358729728\n",
            "cuda memory 481290240\n",
            "cuda memory 600344576\n",
            "cuda memory 717598720\n"
          ],
          "name": "stdout"
        },
        {
          "output_type": "stream",
          "text": [
            "\r 84%|████████▎ | 51/61 [1:12:07<02:41, 16.20s/it]"
          ],
          "name": "stderr"
        },
        {
          "output_type": "stream",
          "text": [
            "torch.Size([4, 45, 97])\n",
            "cuda memory 358729728\n",
            "cuda memory 358729728\n",
            "cuda memory 480604160\n",
            "cuda memory 594665472\n",
            "cuda memory 708726784\n"
          ],
          "name": "stdout"
        },
        {
          "output_type": "stream",
          "text": [
            "\r 85%|████████▌ | 52/61 [1:12:28<02:38, 17.65s/it]"
          ],
          "name": "stderr"
        },
        {
          "output_type": "stream",
          "text": [
            "torch.Size([4, 44, 97])\n",
            "cuda memory 358729728\n",
            "cuda memory 358729728\n",
            "cuda memory 455898112\n",
            "cuda memory 550234112\n",
            "cuda memory 643718144\n"
          ],
          "name": "stdout"
        },
        {
          "output_type": "stream",
          "text": [
            "\r 87%|████████▋ | 53/61 [1:12:42<02:11, 16.44s/it]"
          ],
          "name": "stderr"
        },
        {
          "output_type": "stream",
          "text": [
            "torch.Size([4, 36, 97])\n",
            "cuda memory 358729728\n",
            "cuda memory 358729728\n",
            "cuda memory 443782144\n",
            "cuda memory 525021696\n",
            "cuda memory 594670080\n"
          ],
          "name": "stdout"
        },
        {
          "output_type": "stream",
          "text": [
            "\r 89%|████████▊ | 54/61 [1:12:52<01:41, 14.54s/it]"
          ],
          "name": "stderr"
        },
        {
          "output_type": "stream",
          "text": [
            "torch.Size([4, 32, 97])\n",
            "cuda memory 358729728\n",
            "cuda memory 358729728\n",
            "cuda memory 424073216\n",
            "cuda memory 489629696\n",
            "cuda memory 548833280\n"
          ],
          "name": "stdout"
        },
        {
          "output_type": "stream",
          "text": [
            "\r 90%|█████████ | 55/61 [1:12:57<01:11, 11.91s/it]"
          ],
          "name": "stderr"
        },
        {
          "output_type": "stream",
          "text": [
            "torch.Size([4, 24, 97])\n",
            "cuda memory 358729728\n",
            "cuda memory 358729728\n",
            "cuda memory 414251520\n",
            "cuda memory 468085760\n",
            "cuda memory 522968576\n"
          ],
          "name": "stdout"
        },
        {
          "output_type": "stream",
          "text": [
            "\r 92%|█████████▏| 56/61 [1:13:05<00:52, 10.48s/it]"
          ],
          "name": "stderr"
        },
        {
          "output_type": "stream",
          "text": [
            "torch.Size([4, 20, 97])\n",
            "cuda memory 358729728\n",
            "cuda memory 358729728\n",
            "cuda memory 414251520\n",
            "cuda memory 464991232\n",
            "cuda memory 516320768\n"
          ],
          "name": "stdout"
        },
        {
          "output_type": "stream",
          "text": [
            "\r 93%|█████████▎| 57/61 [1:13:11<00:36,  9.20s/it]"
          ],
          "name": "stderr"
        },
        {
          "output_type": "stream",
          "text": [
            "torch.Size([4, 20, 97])\n",
            "cuda memory 358729728\n",
            "cuda memory 358729728\n",
            "cuda memory 411288064\n",
            "cuda memory 454513664\n",
            "cuda memory 496756224\n"
          ],
          "name": "stdout"
        },
        {
          "output_type": "stream",
          "text": [
            "\r 95%|█████████▌| 58/61 [1:13:30<00:36, 12.11s/it]"
          ],
          "name": "stderr"
        },
        {
          "output_type": "stream",
          "text": [
            "torch.Size([4, 19, 97])\n",
            "cuda memory 358729728\n",
            "cuda memory 358729728\n",
            "cuda memory 398517248\n",
            "cuda memory 439042048\n",
            "cuda memory 476079104\n"
          ],
          "name": "stdout"
        },
        {
          "output_type": "stream",
          "text": [
            "\r 97%|█████████▋| 59/61 [1:13:32<00:18,  9.11s/it]"
          ],
          "name": "stderr"
        },
        {
          "output_type": "stream",
          "text": [
            "torch.Size([4, 15, 97])\n",
            "cuda memory 358729728\n",
            "cuda memory 358729728\n",
            "cuda memory 390806528\n",
            "cuda memory 420001792\n",
            "cuda memory 449721344\n"
          ],
          "name": "stdout"
        },
        {
          "output_type": "stream",
          "text": [
            "\r 98%|█████████▊| 60/61 [1:13:40<00:08,  8.98s/it]"
          ],
          "name": "stderr"
        },
        {
          "output_type": "stream",
          "text": [
            "torch.Size([4, 12, 97])\n",
            "cuda memory 358729728\n",
            "cuda memory 358729728\n",
            "cuda memory 382637568\n",
            "cuda memory 406561792\n",
            "cuda memory 430486016\n"
          ],
          "name": "stdout"
        },
        {
          "output_type": "stream",
          "text": [
            "\r100%|██████████| 61/61 [1:13:47<00:00,  8.28s/it]"
          ],
          "name": "stderr"
        },
        {
          "output_type": "stream",
          "text": [
            "torch.Size([4, 9, 97])\n",
            "cuda memory 358729728\n",
            "Train loss for epoch: 5.669723987579346\n"
          ],
          "name": "stdout"
        },
        {
          "output_type": "stream",
          "text": [
            "\n",
            "  0%|          | 0/61 [00:00<?, ?it/s]"
          ],
          "name": "stderr"
        },
        {
          "output_type": "stream",
          "text": [
            "\n",
            "Epoch2\n",
            "cuda memory 358729728\n",
            "cuda memory 3502744064\n",
            "cuda memory 6334466560\n",
            "cuda memory 9160581632\n",
            "torch.Size([4, 1192, 97])\n"
          ],
          "name": "stdout"
        },
        {
          "output_type": "stream",
          "text": [
            "\r  2%|▏         | 1/61 [03:55<3:55:44, 235.75s/it]"
          ],
          "name": "stderr"
        },
        {
          "output_type": "stream",
          "text": [
            "cuda memory 358729728\n",
            "cuda memory 358729728\n",
            "cuda memory 3060695040\n",
            "cuda memory 5759252480\n",
            "cuda memory 8454950912\n",
            "torch.Size([4, 1025, 97])\n"
          ],
          "name": "stdout"
        },
        {
          "output_type": "stream",
          "text": [
            "\r  3%|▎         | 2/61 [10:04<4:31:05, 275.69s/it]"
          ],
          "name": "stderr"
        },
        {
          "output_type": "stream",
          "text": [
            "cuda memory 358729728\n",
            "cuda memory 358729728\n",
            "cuda memory 2816188416\n",
            "cuda memory 5270014976\n",
            "cuda memory 7705764864\n",
            "torch.Size([4, 932, 97])\n"
          ],
          "name": "stdout"
        },
        {
          "output_type": "stream",
          "text": [
            "\r  5%|▍         | 3/61 [14:57<4:31:21, 280.71s/it]"
          ],
          "name": "stderr"
        },
        {
          "output_type": "stream",
          "text": [
            "cuda memory 358729728\n",
            "cuda memory 358729728\n",
            "cuda memory 2589237248\n",
            "cuda memory 4790671360\n",
            "cuda memory 6992547840\n",
            "torch.Size([4, 846, 97])\n"
          ],
          "name": "stdout"
        },
        {
          "output_type": "stream",
          "text": [
            "\r  7%|▋         | 4/61 [18:02<3:59:33, 252.16s/it]"
          ],
          "name": "stderr"
        },
        {
          "output_type": "stream",
          "text": [
            "cuda memory 358729728\n",
            "cuda memory 358729728\n",
            "cuda memory 2506039296\n",
            "cuda memory 4533794816\n",
            "cuda memory 6445551616\n",
            "torch.Size([4, 809, 97])\n"
          ],
          "name": "stdout"
        },
        {
          "output_type": "stream",
          "text": [
            "\r  8%|▊         | 5/61 [20:26<3:25:04, 219.73s/it]"
          ],
          "name": "stderr"
        },
        {
          "output_type": "stream",
          "text": [
            "cuda memory 358729728\n",
            "cuda memory 358729728\n",
            "cuda memory 2198764544\n",
            "cuda memory 4036698112\n",
            "cuda memory 5864369152\n",
            "torch.Size([4, 698, 97])\n"
          ],
          "name": "stdout"
        },
        {
          "output_type": "stream",
          "text": [
            "\r 10%|▉         | 6/61 [21:33<2:39:28, 173.98s/it]"
          ],
          "name": "stderr"
        },
        {
          "output_type": "stream",
          "text": [
            "cuda memory 358729728\n",
            "cuda memory 358729728\n",
            "cuda memory 2159558656\n",
            "cuda memory 3937275392\n",
            "cuda memory 5706665984\n",
            "torch.Size([4, 683, 97])\n"
          ],
          "name": "stdout"
        },
        {
          "output_type": "stream",
          "text": [
            "\r 11%|█▏        | 7/61 [22:33<2:05:35, 139.54s/it]"
          ],
          "name": "stderr"
        },
        {
          "output_type": "stream",
          "text": [
            "cuda memory 358729728\n",
            "cuda memory 358729728\n",
            "cuda memory 2020024320\n",
            "cuda memory 3649091584\n",
            "cuda memory 5223763968\n",
            "torch.Size([4, 630, 97])\n"
          ],
          "name": "stdout"
        },
        {
          "output_type": "stream",
          "text": [
            "\r 13%|█▎        | 8/61 [24:38<1:59:29, 135.27s/it]"
          ],
          "name": "stderr"
        },
        {
          "output_type": "stream",
          "text": [
            "cuda memory 358729728\n",
            "cuda memory 358729728\n",
            "cuda memory 1868734464\n",
            "cuda memory 3344947200\n",
            "cuda memory 4819316736\n",
            "torch.Size([4, 568, 97])\n"
          ],
          "name": "stdout"
        },
        {
          "output_type": "stream",
          "text": [
            "\r 15%|█▍        | 9/61 [26:37<1:53:05, 130.50s/it]"
          ],
          "name": "stderr"
        },
        {
          "output_type": "stream",
          "text": [
            "cuda memory 358729728\n",
            "cuda memory 358729728\n",
            "cuda memory 1791664128\n",
            "cuda memory 3191855104\n",
            "cuda memory 4592128000\n",
            "torch.Size([4, 542, 97])\n"
          ],
          "name": "stdout"
        },
        {
          "output_type": "stream",
          "text": [
            "\r 16%|█▋        | 10/61 [29:25<2:00:22, 141.62s/it]"
          ],
          "name": "stderr"
        },
        {
          "output_type": "stream",
          "text": [
            "cuda memory 358729728\n",
            "cuda memory 358729728\n",
            "cuda memory 1733206016\n",
            "cuda memory 3075559424\n",
            "cuda memory 4401979392\n",
            "torch.Size([4, 520, 97])\n"
          ],
          "name": "stdout"
        },
        {
          "output_type": "stream",
          "text": [
            "\r 18%|█▊        | 11/61 [32:59<2:16:07, 163.35s/it]"
          ],
          "name": "stderr"
        },
        {
          "output_type": "stream",
          "text": [
            "cuda memory 358729728\n",
            "cuda memory 358729728\n",
            "cuda memory 1654075392\n",
            "cuda memory 2946930688\n",
            "cuda memory 4229341184\n",
            "torch.Size([4, 490, 97])\n"
          ],
          "name": "stdout"
        },
        {
          "output_type": "stream",
          "text": [
            "\r 20%|█▉        | 12/61 [35:42<2:13:22, 163.31s/it]"
          ],
          "name": "stderr"
        },
        {
          "output_type": "stream",
          "text": [
            "cuda memory 358729728\n",
            "cuda memory 358729728\n",
            "cuda memory 1597640704\n",
            "cuda memory 2833252352\n",
            "cuda memory 4056913920\n",
            "torch.Size([4, 470, 97])\n"
          ],
          "name": "stdout"
        },
        {
          "output_type": "stream",
          "text": [
            "\r 21%|██▏       | 13/61 [36:25<1:41:44, 127.18s/it]"
          ],
          "name": "stderr"
        },
        {
          "output_type": "stream",
          "text": [
            "cuda memory 358729728\n",
            "cuda memory 358729728\n",
            "cuda memory 1576587264\n",
            "cuda memory 2771650560\n",
            "cuda memory 3952678912\n",
            "torch.Size([4, 462, 97])\n"
          ],
          "name": "stdout"
        },
        {
          "output_type": "stream",
          "text": [
            "\r 23%|██▎       | 14/61 [38:11<1:34:35, 120.75s/it]"
          ],
          "name": "stderr"
        },
        {
          "output_type": "stream",
          "text": [
            "cuda memory 358729728\n",
            "cuda memory 358729728\n",
            "cuda memory 1521442816\n",
            "cuda memory 2665760768\n",
            "cuda memory 3802058752\n",
            "torch.Size([4, 440, 97])\n"
          ],
          "name": "stdout"
        },
        {
          "output_type": "stream",
          "text": [
            "\r 25%|██▍       | 15/61 [40:25<1:35:36, 124.71s/it]"
          ],
          "name": "stderr"
        },
        {
          "output_type": "stream",
          "text": [
            "cuda memory 358729728\n",
            "cuda memory 358729728\n",
            "cuda memory 1469179904\n",
            "cuda memory 2576293888\n",
            "cuda memory 3683407872\n",
            "torch.Size([4, 421, 97])\n"
          ],
          "name": "stdout"
        },
        {
          "output_type": "stream",
          "text": [
            "\r 26%|██▌       | 16/61 [42:39<1:35:42, 127.61s/it]"
          ],
          "name": "stderr"
        },
        {
          "output_type": "stream",
          "text": [
            "cuda memory 358729728\n",
            "cuda memory 358729728\n",
            "cuda memory 1463119872\n",
            "cuda memory 2554460160\n",
            "cuda memory 3637905408\n",
            "torch.Size([4, 418, 97])\n"
          ],
          "name": "stdout"
        },
        {
          "output_type": "stream",
          "text": [
            "\r 28%|██▊       | 17/61 [44:38<1:31:38, 124.97s/it]"
          ],
          "name": "stderr"
        },
        {
          "output_type": "stream",
          "text": [
            "cuda memory 358729728\n",
            "cuda memory 358729728\n",
            "cuda memory 1431248896\n",
            "cuda memory 2502819840\n",
            "cuda memory 3547920384\n",
            "torch.Size([4, 400, 97])\n"
          ],
          "name": "stdout"
        },
        {
          "output_type": "stream",
          "text": [
            "\r 30%|██▉       | 18/61 [45:58<1:19:58, 111.59s/it]"
          ],
          "name": "stderr"
        },
        {
          "output_type": "stream",
          "text": [
            "cuda memory 358729728\n",
            "cuda memory 358729728\n",
            "cuda memory 1378838528\n",
            "cuda memory 2389006336\n",
            "cuda memory 3335362560\n",
            "torch.Size([4, 385, 97])\n"
          ],
          "name": "stdout"
        },
        {
          "output_type": "stream",
          "text": [
            "\r 31%|███       | 19/61 [49:02<1:33:22, 133.39s/it]"
          ],
          "name": "stderr"
        },
        {
          "output_type": "stream",
          "text": [
            "cuda memory 358729728\n",
            "cuda memory 358729728\n",
            "cuda memory 1281839104\n",
            "cuda memory 2200242176\n",
            "cuda memory 3116103680\n",
            "torch.Size([4, 350, 97])\n"
          ],
          "name": "stdout"
        },
        {
          "output_type": "stream",
          "text": [
            "\r 33%|███▎      | 20/61 [50:59<1:27:43, 128.39s/it]"
          ],
          "name": "stderr"
        },
        {
          "output_type": "stream",
          "text": [
            "cuda memory 358729728\n",
            "cuda memory 358729728\n",
            "cuda memory 1254410240\n",
            "cuda memory 2110881792\n",
            "cuda memory 2967951360\n",
            "torch.Size([4, 333, 97])\n"
          ],
          "name": "stdout"
        },
        {
          "output_type": "stream",
          "text": [
            "\r 34%|███▍      | 21/61 [52:01<1:12:19, 108.48s/it]"
          ],
          "name": "stderr"
        },
        {
          "output_type": "stream",
          "text": [
            "cuda memory 358729728\n",
            "cuda memory 358729728\n",
            "cuda memory 1211025408\n",
            "cuda memory 2057234432\n",
            "cuda memory 2901016576\n",
            "torch.Size([4, 321, 97])\n"
          ],
          "name": "stdout"
        },
        {
          "output_type": "stream",
          "text": [
            "\r 36%|███▌      | 22/61 [53:02<1:01:11, 94.15s/it] "
          ],
          "name": "stderr"
        },
        {
          "output_type": "stream",
          "text": [
            "cuda memory 358729728\n",
            "cuda memory 358729728\n",
            "cuda memory 1193279488\n",
            "cuda memory 2016444416\n",
            "cuda memory 2798901248\n",
            "torch.Size([4, 316, 97])\n"
          ],
          "name": "stdout"
        },
        {
          "output_type": "stream",
          "text": [
            "\r 38%|███▊      | 23/61 [53:57<52:16, 82.53s/it]  "
          ],
          "name": "stderr"
        },
        {
          "output_type": "stream",
          "text": [
            "cuda memory 358729728\n",
            "cuda memory 358729728\n",
            "cuda memory 1132800000\n",
            "cuda memory 1906008064\n",
            "cuda memory 2679721984\n",
            "torch.Size([4, 293, 97])\n"
          ],
          "name": "stdout"
        },
        {
          "output_type": "stream",
          "text": [
            "\r 39%|███▉      | 24/61 [56:07<59:37, 96.68s/it]"
          ],
          "name": "stderr"
        },
        {
          "output_type": "stream",
          "text": [
            "cuda memory 358729728\n",
            "cuda memory 358729728\n",
            "cuda memory 1126670336\n",
            "cuda memory 1893210112\n",
            "cuda memory 2622672896\n",
            "torch.Size([4, 288, 97])\n"
          ],
          "name": "stdout"
        },
        {
          "output_type": "stream",
          "text": [
            "\r 41%|████      | 25/61 [58:01<1:01:03, 101.77s/it]"
          ],
          "name": "stderr"
        },
        {
          "output_type": "stream",
          "text": [
            "cuda memory 358729728\n",
            "cuda memory 358729728\n",
            "cuda memory 1076582400\n",
            "cuda memory 1773318144\n",
            "cuda memory 2464921088\n",
            "torch.Size([4, 271, 97])\n"
          ],
          "name": "stdout"
        },
        {
          "output_type": "stream",
          "text": [
            "\r 43%|████▎     | 26/61 [59:29<57:05, 97.87s/it]   "
          ],
          "name": "stderr"
        },
        {
          "output_type": "stream",
          "text": [
            "cuda memory 358729728\n",
            "cuda memory 358729728\n",
            "cuda memory 1036441600\n",
            "cuda memory 1711280128\n",
            "cuda memory 2386031104\n",
            "torch.Size([4, 257, 97])\n"
          ],
          "name": "stdout"
        },
        {
          "output_type": "stream",
          "text": [
            "\r 44%|████▍     | 27/61 [59:52<42:40, 75.32s/it]"
          ],
          "name": "stderr"
        },
        {
          "output_type": "stream",
          "text": [
            "cuda memory 358729728\n",
            "cuda memory 358729728\n",
            "cuda memory 1029538816\n",
            "cuda memory 1681295360\n",
            "cuda memory 2324473344\n",
            "torch.Size([4, 248, 97])\n"
          ],
          "name": "stdout"
        },
        {
          "output_type": "stream",
          "text": [
            "\r 46%|████▌     | 28/61 [1:00:50<38:27, 69.93s/it]"
          ],
          "name": "stderr"
        },
        {
          "output_type": "stream",
          "text": [
            "cuda memory 358729728\n",
            "cuda memory 358729728\n",
            "cuda memory 992843776\n",
            "cuda memory 1609617920\n",
            "cuda memory 2224409600\n",
            "torch.Size([4, 238, 97])\n"
          ],
          "name": "stdout"
        },
        {
          "output_type": "stream",
          "text": [
            "\r 48%|████▊     | 29/61 [1:01:35<33:18, 62.47s/it]"
          ],
          "name": "stderr"
        },
        {
          "output_type": "stream",
          "text": [
            "cuda memory 358729728\n",
            "cuda memory 358729728\n",
            "cuda memory 960048128\n",
            "cuda memory 1556961792\n",
            "cuda memory 2134766080\n",
            "torch.Size([4, 228, 97])\n"
          ],
          "name": "stdout"
        },
        {
          "output_type": "stream",
          "text": [
            "\r 49%|████▉     | 30/61 [1:01:57<26:01, 50.36s/it]"
          ],
          "name": "stderr"
        },
        {
          "output_type": "stream",
          "text": [
            "cuda memory 358729728\n",
            "cuda memory 358729728\n",
            "cuda memory 896669184\n",
            "cuda memory 1433363456\n",
            "cuda memory 1950028800\n",
            "torch.Size([4, 200, 97])\n"
          ],
          "name": "stdout"
        },
        {
          "output_type": "stream",
          "text": [
            "\r 51%|█████     | 31/61 [1:02:54<26:10, 52.34s/it]"
          ],
          "name": "stderr"
        },
        {
          "output_type": "stream",
          "text": [
            "cuda memory 358729728\n",
            "cuda memory 358729728\n",
            "cuda memory 853189120\n",
            "cuda memory 1343843840\n",
            "cuda memory 1831129600\n",
            "torch.Size([4, 187, 97])\n"
          ],
          "name": "stdout"
        },
        {
          "output_type": "stream",
          "text": [
            "\r 52%|█████▏    | 32/61 [1:03:43<24:53, 51.51s/it]"
          ],
          "name": "stderr"
        },
        {
          "output_type": "stream",
          "text": [
            "cuda memory 358729728\n",
            "cuda memory 358729728\n",
            "cuda memory 832376320\n",
            "cuda memory 1303223296\n",
            "cuda memory 1772677632\n",
            "torch.Size([4, 178, 97])\n"
          ],
          "name": "stdout"
        },
        {
          "output_type": "stream",
          "text": [
            "\r 54%|█████▍    | 33/61 [1:04:17<21:30, 46.10s/it]"
          ],
          "name": "stderr"
        },
        {
          "output_type": "stream",
          "text": [
            "cuda memory 358729728\n",
            "cuda memory 358729728\n",
            "cuda memory 831839744\n",
            "cuda memory 1300725248\n",
            "cuda memory 1767857664\n",
            "torch.Size([4, 176, 97])\n"
          ],
          "name": "stdout"
        },
        {
          "output_type": "stream",
          "text": [
            "\r 56%|█████▌    | 34/61 [1:04:54<19:36, 43.59s/it]"
          ],
          "name": "stderr"
        },
        {
          "output_type": "stream",
          "text": [
            "cuda memory 358729728\n",
            "cuda memory 358729728\n",
            "cuda memory 796689408\n",
            "cuda memory 1229012992\n",
            "cuda memory 1660814336\n",
            "torch.Size([4, 164, 97])\n"
          ],
          "name": "stdout"
        },
        {
          "output_type": "stream",
          "text": [
            "\r 57%|█████▋    | 35/61 [1:05:46<19:54, 45.94s/it]"
          ],
          "name": "stderr"
        },
        {
          "output_type": "stream",
          "text": [
            "cuda memory 358729728\n",
            "cuda memory 358729728\n",
            "cuda memory 777582080\n",
            "cuda memory 1189987840\n",
            "cuda memory 1589808640\n",
            "torch.Size([4, 158, 97])\n"
          ],
          "name": "stdout"
        },
        {
          "output_type": "stream",
          "text": [
            "\r 59%|█████▉    | 36/61 [1:06:23<18:02, 43.30s/it]"
          ],
          "name": "stderr"
        },
        {
          "output_type": "stream",
          "text": [
            "cuda memory 358729728\n",
            "cuda memory 358729728\n",
            "cuda memory 747487744\n",
            "cuda memory 1131869696\n",
            "cuda memory 1515334144\n",
            "torch.Size([4, 145, 97])\n"
          ],
          "name": "stdout"
        },
        {
          "output_type": "stream",
          "text": [
            "\r 61%|██████    | 37/61 [1:06:56<16:04, 40.17s/it]"
          ],
          "name": "stderr"
        },
        {
          "output_type": "stream",
          "text": [
            "cuda memory 358729728\n",
            "cuda memory 358729728\n",
            "cuda memory 720898048\n",
            "cuda memory 1069176832\n",
            "cuda memory 1406615552\n",
            "torch.Size([4, 133, 97])\n"
          ],
          "name": "stdout"
        },
        {
          "output_type": "stream",
          "text": [
            "\r 62%|██████▏   | 38/61 [1:07:37<15:31, 40.50s/it]"
          ],
          "name": "stderr"
        },
        {
          "output_type": "stream",
          "text": [
            "cuda memory 358729728\n",
            "cuda memory 358729728\n",
            "cuda memory 683305984\n",
            "cuda memory 1000708096\n",
            "cuda memory 1317524480\n",
            "torch.Size([4, 121, 97])\n"
          ],
          "name": "stdout"
        },
        {
          "output_type": "stream",
          "text": [
            "\r 64%|██████▍   | 39/61 [1:08:06<13:36, 37.10s/it]"
          ],
          "name": "stderr"
        },
        {
          "output_type": "stream",
          "text": [
            "cuda memory 358729728\n",
            "cuda memory 358729728\n",
            "cuda memory 659580416\n",
            "cuda memory 959026176\n",
            "cuda memory 1259012608\n",
            "torch.Size([4, 114, 97])\n"
          ],
          "name": "stdout"
        },
        {
          "output_type": "stream",
          "text": [
            "\r 66%|██████▌   | 40/61 [1:08:18<10:18, 29.43s/it]"
          ],
          "name": "stderr"
        },
        {
          "output_type": "stream",
          "text": [
            "cuda memory 358729728\n",
            "cuda memory 358729728\n",
            "cuda memory 650170368\n",
            "cuda memory 934895616\n",
            "cuda memory 1219620864\n",
            "torch.Size([4, 109, 97])\n"
          ],
          "name": "stdout"
        },
        {
          "output_type": "stream",
          "text": [
            "\r 67%|██████▋   | 41/61 [1:08:44<09:27, 28.38s/it]"
          ],
          "name": "stderr"
        },
        {
          "output_type": "stream",
          "text": [
            "cuda memory 358729728\n",
            "cuda memory 358729728\n",
            "cuda memory 641919488\n",
            "cuda memory 889892864\n",
            "cuda memory 1137718784\n",
            "torch.Size([4, 106, 97])\n"
          ],
          "name": "stdout"
        },
        {
          "output_type": "stream",
          "text": [
            "\r 69%|██████▉   | 42/61 [1:09:09<08:38, 27.31s/it]"
          ],
          "name": "stderr"
        },
        {
          "output_type": "stream",
          "text": [
            "cuda memory 358729728\n",
            "cuda memory 358729728\n",
            "cuda memory 600322048\n",
            "cuda memory 837605376\n",
            "cuda memory 1071960064\n",
            "torch.Size([4, 90, 97])\n"
          ],
          "name": "stdout"
        },
        {
          "output_type": "stream",
          "text": [
            "\r 70%|███████   | 43/61 [1:09:38<08:24, 28.02s/it]"
          ],
          "name": "stderr"
        },
        {
          "output_type": "stream",
          "text": [
            "cuda memory 358729728\n",
            "cuda memory 358729728\n",
            "cuda memory 584376832\n",
            "cuda memory 809663488\n",
            "cuda memory 1025877504\n",
            "torch.Size([4, 84, 97])\n"
          ],
          "name": "stdout"
        },
        {
          "output_type": "stream",
          "text": [
            "\r 72%|███████▏  | 44/61 [1:10:08<08:04, 28.51s/it]"
          ],
          "name": "stderr"
        },
        {
          "output_type": "stream",
          "text": [
            "cuda memory 358729728\n",
            "cuda memory 358729728\n",
            "cuda memory 568937472\n",
            "cuda memory 770205696\n",
            "cuda memory 963831296\n",
            "torch.Size([4, 79, 97])\n"
          ],
          "name": "stdout"
        },
        {
          "output_type": "stream",
          "text": [
            "\r 74%|███████▍  | 45/61 [1:10:14<05:47, 21.75s/it]"
          ],
          "name": "stderr"
        },
        {
          "output_type": "stream",
          "text": [
            "cuda memory 358729728\n",
            "cuda memory 358729728\n",
            "cuda memory 549983744\n",
            "cuda memory 736669184\n",
            "cuda memory 923223552\n",
            "torch.Size([4, 70, 97])\n"
          ],
          "name": "stdout"
        },
        {
          "output_type": "stream",
          "text": [
            "\r 75%|███████▌  | 46/61 [1:10:34<05:20, 21.35s/it]"
          ],
          "name": "stderr"
        },
        {
          "output_type": "stream",
          "text": [
            "cuda memory 358729728\n",
            "cuda memory 358729728\n",
            "cuda memory 528844800\n",
            "cuda memory 688171520\n",
            "cuda memory 839378432\n"
          ],
          "name": "stdout"
        },
        {
          "output_type": "stream",
          "text": [
            "\r 77%|███████▋  | 47/61 [1:11:07<05:48, 24.87s/it]"
          ],
          "name": "stderr"
        },
        {
          "output_type": "stream",
          "text": [
            "torch.Size([4, 64, 97])\n",
            "cuda memory 358729728\n",
            "cuda memory 358729728\n",
            "cuda memory 508742656\n",
            "cuda memory 659427328\n",
            "cuda memory 804658176\n"
          ],
          "name": "stdout"
        },
        {
          "output_type": "stream",
          "text": [
            "\r 79%|███████▊  | 48/61 [1:11:19<04:33, 21.01s/it]"
          ],
          "name": "stderr"
        },
        {
          "output_type": "stream",
          "text": [
            "torch.Size([4, 56, 97])\n",
            "cuda memory 358729728\n",
            "cuda memory 358729728\n",
            "cuda memory 499066368\n",
            "cuda memory 637832192\n",
            "cuda memory 771310080\n"
          ],
          "name": "stdout"
        },
        {
          "output_type": "stream",
          "text": [
            "\r 80%|████████  | 49/61 [1:11:26<03:19, 16.62s/it]"
          ],
          "name": "stderr"
        },
        {
          "output_type": "stream",
          "text": [
            "torch.Size([4, 53, 97])\n",
            "cuda memory 358729728\n",
            "cuda memory 358729728\n",
            "cuda memory 495058432\n",
            "cuda memory 619007488\n",
            "cuda memory 743546368\n"
          ],
          "name": "stdout"
        },
        {
          "output_type": "stream",
          "text": [
            "\r 82%|████████▏ | 50/61 [1:11:38<02:48, 15.36s/it]"
          ],
          "name": "stderr"
        },
        {
          "output_type": "stream",
          "text": [
            "torch.Size([4, 50, 97])\n",
            "cuda memory 358729728\n",
            "cuda memory 358729728\n",
            "cuda memory 481290240\n",
            "cuda memory 600344576\n",
            "cuda memory 717598720\n"
          ],
          "name": "stdout"
        },
        {
          "output_type": "stream",
          "text": [
            "\r 84%|████████▎ | 51/61 [1:11:55<02:39, 15.91s/it]"
          ],
          "name": "stderr"
        },
        {
          "output_type": "stream",
          "text": [
            "torch.Size([4, 45, 97])\n",
            "cuda memory 358729728\n",
            "cuda memory 358729728\n",
            "cuda memory 480604160\n",
            "cuda memory 594665472\n",
            "cuda memory 708726784\n"
          ],
          "name": "stdout"
        },
        {
          "output_type": "stream",
          "text": [
            "\r 85%|████████▌ | 52/61 [1:12:25<03:00, 20.03s/it]"
          ],
          "name": "stderr"
        },
        {
          "output_type": "stream",
          "text": [
            "torch.Size([4, 44, 97])\n",
            "cuda memory 358729728\n",
            "cuda memory 358729728\n",
            "cuda memory 455898112\n",
            "cuda memory 550234112\n",
            "cuda memory 643718144\n"
          ],
          "name": "stdout"
        },
        {
          "output_type": "stream",
          "text": [
            "\r 87%|████████▋ | 53/61 [1:12:40<02:27, 18.39s/it]"
          ],
          "name": "stderr"
        },
        {
          "output_type": "stream",
          "text": [
            "torch.Size([4, 36, 97])\n",
            "cuda memory 358729728\n",
            "cuda memory 358729728\n",
            "cuda memory 443782144\n",
            "cuda memory 525021696\n",
            "cuda memory 594670080\n"
          ],
          "name": "stdout"
        },
        {
          "output_type": "stream",
          "text": [
            "\r 89%|████████▊ | 54/61 [1:12:50<01:51, 15.88s/it]"
          ],
          "name": "stderr"
        },
        {
          "output_type": "stream",
          "text": [
            "torch.Size([4, 32, 97])\n",
            "cuda memory 358729728\n",
            "cuda memory 358729728\n",
            "cuda memory 424073216\n",
            "cuda memory 489629696\n",
            "cuda memory 548833280\n"
          ],
          "name": "stdout"
        },
        {
          "output_type": "stream",
          "text": [
            "\r 90%|█████████ | 55/61 [1:12:58<01:22, 13.78s/it]"
          ],
          "name": "stderr"
        },
        {
          "output_type": "stream",
          "text": [
            "torch.Size([4, 24, 97])\n",
            "cuda memory 358729728\n",
            "cuda memory 358729728\n",
            "cuda memory 414251520\n",
            "cuda memory 468085760\n",
            "cuda memory 522968576\n"
          ],
          "name": "stdout"
        },
        {
          "output_type": "stream",
          "text": [
            "\r 92%|█████████▏| 56/61 [1:13:14<01:10, 14.17s/it]"
          ],
          "name": "stderr"
        },
        {
          "output_type": "stream",
          "text": [
            "torch.Size([4, 20, 97])\n",
            "cuda memory 358729728\n",
            "cuda memory 358729728\n",
            "cuda memory 414251520\n",
            "cuda memory 464991232\n",
            "cuda memory 516320768\n"
          ],
          "name": "stdout"
        },
        {
          "output_type": "stream",
          "text": [
            "\r 93%|█████████▎| 57/61 [1:13:18<00:45, 11.28s/it]"
          ],
          "name": "stderr"
        },
        {
          "output_type": "stream",
          "text": [
            "torch.Size([4, 20, 97])\n",
            "cuda memory 358729728\n",
            "cuda memory 358729728\n",
            "cuda memory 411288064\n",
            "cuda memory 454513664\n",
            "cuda memory 496756224\n"
          ],
          "name": "stdout"
        },
        {
          "output_type": "stream",
          "text": [
            "\r 95%|█████████▌| 58/61 [1:13:37<00:40, 13.48s/it]"
          ],
          "name": "stderr"
        },
        {
          "output_type": "stream",
          "text": [
            "torch.Size([4, 19, 97])\n",
            "cuda memory 358729728\n",
            "cuda memory 358729728\n",
            "cuda memory 398517248\n",
            "cuda memory 439042048\n",
            "cuda memory 476079104\n"
          ],
          "name": "stdout"
        },
        {
          "output_type": "stream",
          "text": [
            "\r 97%|█████████▋| 59/61 [1:13:41<00:21, 10.87s/it]"
          ],
          "name": "stderr"
        },
        {
          "output_type": "stream",
          "text": [
            "torch.Size([4, 15, 97])\n",
            "cuda memory 358729728\n",
            "cuda memory 358729728\n",
            "cuda memory 390806528\n",
            "cuda memory 420001792\n",
            "cuda memory 449721344\n"
          ],
          "name": "stdout"
        },
        {
          "output_type": "stream",
          "text": [
            "\r 98%|█████████▊| 60/61 [1:13:51<00:10, 10.47s/it]"
          ],
          "name": "stderr"
        },
        {
          "output_type": "stream",
          "text": [
            "torch.Size([4, 12, 97])\n",
            "cuda memory 358729728\n",
            "cuda memory 358729728\n",
            "cuda memory 382637568\n",
            "cuda memory 406561792\n",
            "cuda memory 430486016\n"
          ],
          "name": "stdout"
        },
        {
          "output_type": "stream",
          "text": [
            "\r100%|██████████| 61/61 [1:13:55<00:00,  8.44s/it]"
          ],
          "name": "stderr"
        },
        {
          "output_type": "stream",
          "text": [
            "torch.Size([4, 9, 97])\n",
            "cuda memory 358729728\n"
          ],
          "name": "stdout"
        },
        {
          "output_type": "stream",
          "text": [
            "\n"
          ],
          "name": "stderr"
        },
        {
          "output_type": "stream",
          "text": [
            "Train loss for epoch: 5.633426666259766\n",
            "\n",
            "Epoch3\n"
          ],
          "name": "stdout"
        },
        {
          "output_type": "stream",
          "text": [
            "\r  0%|          | 0/61 [00:00<?, ?it/s]"
          ],
          "name": "stderr"
        },
        {
          "output_type": "stream",
          "text": [
            "cuda memory 358729728\n",
            "cuda memory 3502744064\n",
            "cuda memory 6334466560\n",
            "cuda memory 9160581632\n",
            "torch.Size([4, 1192, 97])\n"
          ],
          "name": "stdout"
        },
        {
          "output_type": "stream",
          "text": [
            "\r  2%|▏         | 1/61 [03:53<3:53:44, 233.74s/it]"
          ],
          "name": "stderr"
        },
        {
          "output_type": "stream",
          "text": [
            "cuda memory 358729728\n",
            "cuda memory 358729728\n",
            "cuda memory 3060695040\n",
            "cuda memory 5759252480\n",
            "cuda memory 8454950912\n",
            "torch.Size([4, 1025, 97])\n"
          ],
          "name": "stdout"
        },
        {
          "output_type": "stream",
          "text": [
            "\r  3%|▎         | 2/61 [10:04<4:30:17, 274.86s/it]"
          ],
          "name": "stderr"
        },
        {
          "output_type": "stream",
          "text": [
            "cuda memory 358729728\n",
            "cuda memory 358729728\n",
            "cuda memory 2816188416\n",
            "cuda memory 5270014976\n",
            "cuda memory 7705764864\n",
            "torch.Size([4, 932, 97])\n"
          ],
          "name": "stdout"
        },
        {
          "output_type": "stream",
          "text": [
            "\r  5%|▍         | 3/61 [15:04<4:32:55, 282.33s/it]"
          ],
          "name": "stderr"
        },
        {
          "output_type": "stream",
          "text": [
            "cuda memory 358729728\n",
            "cuda memory 358729728\n",
            "cuda memory 2589237248\n",
            "cuda memory 4790671360\n",
            "cuda memory 6992547840\n",
            "torch.Size([4, 846, 97])\n"
          ],
          "name": "stdout"
        },
        {
          "output_type": "stream",
          "text": [
            "\r  7%|▋         | 4/61 [18:10<4:00:47, 253.46s/it]"
          ],
          "name": "stderr"
        },
        {
          "output_type": "stream",
          "text": [
            "cuda memory 358729728\n",
            "cuda memory 358729728\n",
            "cuda memory 2506039296\n",
            "cuda memory 4533794816\n",
            "cuda memory 6445551616\n",
            "torch.Size([4, 809, 97])\n"
          ],
          "name": "stdout"
        },
        {
          "output_type": "stream",
          "text": [
            "\r  8%|▊         | 5/61 [20:36<3:26:24, 221.16s/it]"
          ],
          "name": "stderr"
        },
        {
          "output_type": "stream",
          "text": [
            "cuda memory 358729728\n",
            "cuda memory 358729728\n",
            "cuda memory 2198764544\n",
            "cuda memory 4036698112\n",
            "cuda memory 5864369152\n",
            "torch.Size([4, 698, 97])\n"
          ],
          "name": "stdout"
        },
        {
          "output_type": "stream",
          "text": [
            "\r 10%|▉         | 6/61 [21:43<2:40:26, 175.03s/it]"
          ],
          "name": "stderr"
        },
        {
          "output_type": "stream",
          "text": [
            "cuda memory 358729728\n",
            "cuda memory 358729728\n",
            "cuda memory 2159558656\n",
            "cuda memory 3937275392\n",
            "cuda memory 5706665984\n",
            "torch.Size([4, 683, 97])\n"
          ],
          "name": "stdout"
        },
        {
          "output_type": "stream",
          "text": [
            "\r 11%|█▏        | 7/61 [22:42<2:06:13, 140.24s/it]"
          ],
          "name": "stderr"
        },
        {
          "output_type": "stream",
          "text": [
            "cuda memory 358729728\n",
            "cuda memory 358729728\n",
            "cuda memory 2020024320\n",
            "cuda memory 3649091584\n",
            "cuda memory 5223763968\n",
            "torch.Size([4, 630, 97])\n"
          ],
          "name": "stdout"
        },
        {
          "output_type": "stream",
          "text": [
            "\r 13%|█▎        | 8/61 [24:50<2:00:28, 136.39s/it]"
          ],
          "name": "stderr"
        },
        {
          "output_type": "stream",
          "text": [
            "cuda memory 358729728\n",
            "cuda memory 358729728\n",
            "cuda memory 1868734464\n",
            "cuda memory 3344947200\n",
            "cuda memory 4819316736\n",
            "torch.Size([4, 568, 97])\n"
          ],
          "name": "stdout"
        },
        {
          "output_type": "stream",
          "text": [
            "\r 15%|█▍        | 9/61 [26:49<1:53:45, 131.26s/it]"
          ],
          "name": "stderr"
        },
        {
          "output_type": "stream",
          "text": [
            "cuda memory 358729728\n",
            "cuda memory 358729728\n",
            "cuda memory 1791664128\n",
            "cuda memory 3191855104\n",
            "cuda memory 4592128000\n",
            "torch.Size([4, 542, 97])\n"
          ],
          "name": "stdout"
        },
        {
          "output_type": "stream",
          "text": [
            "\r 16%|█▋        | 10/61 [29:37<2:01:01, 142.38s/it]"
          ],
          "name": "stderr"
        },
        {
          "output_type": "stream",
          "text": [
            "cuda memory 358729728\n",
            "cuda memory 358729728\n",
            "cuda memory 1733206016\n",
            "cuda memory 3075559424\n",
            "cuda memory 4401979392\n",
            "torch.Size([4, 520, 97])\n"
          ],
          "name": "stdout"
        },
        {
          "output_type": "stream",
          "text": [
            "\r 18%|█▊        | 11/61 [33:11<2:16:35, 163.91s/it]"
          ],
          "name": "stderr"
        },
        {
          "output_type": "stream",
          "text": [
            "cuda memory 358729728\n",
            "cuda memory 358729728\n",
            "cuda memory 1654075392\n",
            "cuda memory 2946930688\n",
            "cuda memory 4229341184\n",
            "torch.Size([4, 490, 97])\n"
          ],
          "name": "stdout"
        },
        {
          "output_type": "stream",
          "text": [
            "\r 20%|█▉        | 12/61 [35:57<2:14:21, 164.51s/it]"
          ],
          "name": "stderr"
        },
        {
          "output_type": "stream",
          "text": [
            "cuda memory 358729728\n",
            "cuda memory 358729728\n",
            "cuda memory 1597640704\n",
            "cuda memory 2833252352\n",
            "cuda memory 4056913920\n",
            "torch.Size([4, 470, 97])\n"
          ],
          "name": "stdout"
        },
        {
          "output_type": "stream",
          "text": [
            "\r 21%|██▏       | 13/61 [36:40<1:42:19, 127.90s/it]"
          ],
          "name": "stderr"
        },
        {
          "output_type": "stream",
          "text": [
            "cuda memory 358729728\n",
            "cuda memory 358729728\n",
            "cuda memory 1576587264\n",
            "cuda memory 2771650560\n",
            "cuda memory 3952678912\n",
            "torch.Size([4, 462, 97])\n"
          ],
          "name": "stdout"
        },
        {
          "output_type": "stream",
          "text": [
            "\r 23%|██▎       | 14/61 [38:26<1:35:11, 121.53s/it]"
          ],
          "name": "stderr"
        },
        {
          "output_type": "stream",
          "text": [
            "cuda memory 358729728\n",
            "cuda memory 358729728\n",
            "cuda memory 1521442816\n",
            "cuda memory 2665760768\n",
            "cuda memory 3802058752\n",
            "torch.Size([4, 440, 97])\n"
          ],
          "name": "stdout"
        },
        {
          "output_type": "stream",
          "text": [
            "\r 25%|██▍       | 15/61 [40:41<1:36:04, 125.32s/it]"
          ],
          "name": "stderr"
        },
        {
          "output_type": "stream",
          "text": [
            "cuda memory 358729728\n",
            "cuda memory 358729728\n",
            "cuda memory 1469179904\n",
            "cuda memory 2576293888\n",
            "cuda memory 3683407872\n",
            "torch.Size([4, 421, 97])\n"
          ],
          "name": "stdout"
        },
        {
          "output_type": "stream",
          "text": [
            "\r 26%|██▌       | 16/61 [42:53<1:35:30, 127.36s/it]"
          ],
          "name": "stderr"
        },
        {
          "output_type": "stream",
          "text": [
            "cuda memory 358729728\n",
            "cuda memory 358729728\n",
            "cuda memory 1463119872\n",
            "cuda memory 2554460160\n",
            "cuda memory 3637905408\n",
            "torch.Size([4, 418, 97])\n"
          ],
          "name": "stdout"
        },
        {
          "output_type": "stream",
          "text": [
            "\r 28%|██▊       | 17/61 [45:04<1:34:19, 128.61s/it]"
          ],
          "name": "stderr"
        },
        {
          "output_type": "stream",
          "text": [
            "cuda memory 358729728\n",
            "cuda memory 358729728\n",
            "cuda memory 1431248896\n",
            "cuda memory 2502819840\n",
            "cuda memory 3547920384\n",
            "torch.Size([4, 400, 97])\n"
          ],
          "name": "stdout"
        },
        {
          "output_type": "stream",
          "text": [
            "\r 30%|██▉       | 18/61 [46:21<1:20:57, 112.98s/it]"
          ],
          "name": "stderr"
        },
        {
          "output_type": "stream",
          "text": [
            "cuda memory 358729728\n",
            "cuda memory 358729728\n",
            "cuda memory 1378838528\n",
            "cuda memory 2389006336\n",
            "cuda memory 3335362560\n",
            "torch.Size([4, 385, 97])\n"
          ],
          "name": "stdout"
        },
        {
          "output_type": "stream",
          "text": [
            "\r 31%|███       | 19/61 [49:13<1:31:34, 130.83s/it]"
          ],
          "name": "stderr"
        },
        {
          "output_type": "stream",
          "text": [
            "cuda memory 358729728\n",
            "cuda memory 358729728\n",
            "cuda memory 1281839104\n",
            "cuda memory 2200242176\n",
            "cuda memory 3116103680\n",
            "torch.Size([4, 350, 97])\n"
          ],
          "name": "stdout"
        },
        {
          "output_type": "stream",
          "text": [
            "\r 33%|███▎      | 20/61 [51:09<1:26:13, 126.19s/it]"
          ],
          "name": "stderr"
        },
        {
          "output_type": "stream",
          "text": [
            "cuda memory 358729728\n",
            "cuda memory 358729728\n",
            "cuda memory 1254410240\n",
            "cuda memory 2110881792\n",
            "cuda memory 2967951360\n",
            "torch.Size([4, 333, 97])\n"
          ],
          "name": "stdout"
        },
        {
          "output_type": "stream",
          "text": [
            "\r 34%|███▍      | 21/61 [52:09<1:11:02, 106.57s/it]"
          ],
          "name": "stderr"
        },
        {
          "output_type": "stream",
          "text": [
            "cuda memory 358729728\n",
            "cuda memory 358729728\n",
            "cuda memory 1211025408\n",
            "cuda memory 2057234432\n",
            "cuda memory 2901016576\n",
            "torch.Size([4, 321, 97])\n"
          ],
          "name": "stdout"
        },
        {
          "output_type": "stream",
          "text": [
            "\r 36%|███▌      | 22/61 [53:33<1:04:45, 99.62s/it] "
          ],
          "name": "stderr"
        },
        {
          "output_type": "stream",
          "text": [
            "cuda memory 358729728\n",
            "cuda memory 358729728\n",
            "cuda memory 1193279488\n",
            "cuda memory 2016444416\n",
            "cuda memory 2798901248\n",
            "torch.Size([4, 316, 97])\n"
          ],
          "name": "stdout"
        },
        {
          "output_type": "stream",
          "text": [
            "\r 38%|███▊      | 23/61 [54:28<54:41, 86.36s/it]  "
          ],
          "name": "stderr"
        },
        {
          "output_type": "stream",
          "text": [
            "cuda memory 358729728\n",
            "cuda memory 358729728\n",
            "cuda memory 1132800000\n",
            "cuda memory 1906008064\n",
            "cuda memory 2679721984\n",
            "torch.Size([4, 293, 97])\n"
          ],
          "name": "stdout"
        },
        {
          "output_type": "stream",
          "text": [
            "\r 39%|███▉      | 24/61 [56:39<1:01:24, 99.58s/it]"
          ],
          "name": "stderr"
        },
        {
          "output_type": "stream",
          "text": [
            "cuda memory 358729728\n",
            "cuda memory 358729728\n",
            "cuda memory 1126670336\n",
            "cuda memory 1893210112\n",
            "cuda memory 2622672896\n",
            "torch.Size([4, 288, 97])\n"
          ],
          "name": "stdout"
        },
        {
          "output_type": "stream",
          "text": [
            "\r 41%|████      | 25/61 [58:39<1:03:30, 105.85s/it]"
          ],
          "name": "stderr"
        },
        {
          "output_type": "stream",
          "text": [
            "cuda memory 358729728\n",
            "cuda memory 358729728\n",
            "cuda memory 1076582400\n",
            "cuda memory 1773318144\n",
            "cuda memory 2464921088\n",
            "torch.Size([4, 271, 97])\n"
          ],
          "name": "stdout"
        },
        {
          "output_type": "stream",
          "text": [
            "\r 43%|████▎     | 26/61 [1:00:12<59:33, 102.09s/it]"
          ],
          "name": "stderr"
        },
        {
          "output_type": "stream",
          "text": [
            "cuda memory 358729728\n",
            "cuda memory 358729728\n",
            "cuda memory 1036441600\n",
            "cuda memory 1711280128\n",
            "cuda memory 2386031104\n",
            "torch.Size([4, 257, 97])\n"
          ],
          "name": "stdout"
        },
        {
          "output_type": "stream",
          "text": [
            "\r 44%|████▍     | 27/61 [1:00:37<44:36, 78.72s/it] "
          ],
          "name": "stderr"
        },
        {
          "output_type": "stream",
          "text": [
            "cuda memory 358729728\n",
            "cuda memory 358729728\n",
            "cuda memory 1029538816\n",
            "cuda memory 1681295360\n",
            "cuda memory 2324473344\n",
            "torch.Size([4, 248, 97])\n"
          ],
          "name": "stdout"
        },
        {
          "output_type": "stream",
          "text": [
            "\r 46%|████▌     | 28/61 [1:01:33<39:41, 72.18s/it]"
          ],
          "name": "stderr"
        },
        {
          "output_type": "stream",
          "text": [
            "cuda memory 358729728\n",
            "cuda memory 358729728\n",
            "cuda memory 992843776\n",
            "cuda memory 1609617920\n",
            "cuda memory 2224409600\n",
            "torch.Size([4, 238, 97])\n"
          ],
          "name": "stdout"
        },
        {
          "output_type": "stream",
          "text": [
            "\r 48%|████▊     | 29/61 [1:02:18<34:01, 63.79s/it]"
          ],
          "name": "stderr"
        },
        {
          "output_type": "stream",
          "text": [
            "cuda memory 358729728\n",
            "cuda memory 358729728\n",
            "cuda memory 960048128\n",
            "cuda memory 1556961792\n",
            "cuda memory 2134766080\n",
            "torch.Size([4, 228, 97])\n"
          ],
          "name": "stdout"
        },
        {
          "output_type": "stream",
          "text": [
            "\r 49%|████▉     | 30/61 [1:02:38<26:16, 50.85s/it]"
          ],
          "name": "stderr"
        },
        {
          "output_type": "stream",
          "text": [
            "cuda memory 358729728\n",
            "cuda memory 358729728\n",
            "cuda memory 896669184\n",
            "cuda memory 1433363456\n",
            "cuda memory 1950028800\n",
            "torch.Size([4, 200, 97])\n"
          ],
          "name": "stdout"
        },
        {
          "output_type": "stream",
          "text": [
            "\r 51%|█████     | 31/61 [1:03:34<26:08, 52.27s/it]"
          ],
          "name": "stderr"
        },
        {
          "output_type": "stream",
          "text": [
            "cuda memory 358729728\n",
            "cuda memory 358729728\n",
            "cuda memory 853189120\n",
            "cuda memory 1343843840\n",
            "cuda memory 1831129600\n",
            "torch.Size([4, 187, 97])\n"
          ],
          "name": "stdout"
        },
        {
          "output_type": "stream",
          "text": [
            "\r 52%|█████▏    | 32/61 [1:04:25<25:04, 51.88s/it]"
          ],
          "name": "stderr"
        },
        {
          "output_type": "stream",
          "text": [
            "cuda memory 358729728\n",
            "cuda memory 358729728\n",
            "cuda memory 832376320\n",
            "cuda memory 1303223296\n",
            "cuda memory 1772677632\n",
            "torch.Size([4, 178, 97])\n"
          ],
          "name": "stdout"
        },
        {
          "output_type": "stream",
          "text": [
            "\r 54%|█████▍    | 33/61 [1:04:58<21:36, 46.29s/it]"
          ],
          "name": "stderr"
        },
        {
          "output_type": "stream",
          "text": [
            "cuda memory 358729728\n",
            "cuda memory 358729728\n",
            "cuda memory 831839744\n",
            "cuda memory 1300725248\n",
            "cuda memory 1767857664\n",
            "torch.Size([4, 176, 97])\n"
          ],
          "name": "stdout"
        },
        {
          "output_type": "stream",
          "text": [
            "\r 56%|█████▌    | 34/61 [1:05:37<19:51, 44.11s/it]"
          ],
          "name": "stderr"
        },
        {
          "output_type": "stream",
          "text": [
            "cuda memory 358729728\n",
            "cuda memory 358729728\n",
            "cuda memory 796689408\n",
            "cuda memory 1229012992\n",
            "cuda memory 1660814336\n",
            "torch.Size([4, 164, 97])\n"
          ],
          "name": "stdout"
        },
        {
          "output_type": "stream",
          "text": [
            "\r 57%|█████▋    | 35/61 [1:06:28<19:57, 46.07s/it]"
          ],
          "name": "stderr"
        },
        {
          "output_type": "stream",
          "text": [
            "cuda memory 358729728\n",
            "cuda memory 358729728\n",
            "cuda memory 777582080\n",
            "cuda memory 1189987840\n",
            "cuda memory 1589808640\n",
            "torch.Size([4, 158, 97])\n"
          ],
          "name": "stdout"
        },
        {
          "output_type": "stream",
          "text": [
            "\r 59%|█████▉    | 36/61 [1:07:03<17:53, 42.94s/it]"
          ],
          "name": "stderr"
        },
        {
          "output_type": "stream",
          "text": [
            "cuda memory 358729728\n",
            "cuda memory 358729728\n",
            "cuda memory 747487744\n",
            "cuda memory 1131869696\n",
            "cuda memory 1515334144\n",
            "torch.Size([4, 145, 97])\n"
          ],
          "name": "stdout"
        },
        {
          "output_type": "stream",
          "text": [
            "\r 61%|██████    | 37/61 [1:07:37<16:00, 40.04s/it]"
          ],
          "name": "stderr"
        },
        {
          "output_type": "stream",
          "text": [
            "cuda memory 358729728\n",
            "cuda memory 358729728\n",
            "cuda memory 720898048\n",
            "cuda memory 1069176832\n",
            "cuda memory 1406615552\n",
            "torch.Size([4, 133, 97])\n"
          ],
          "name": "stdout"
        },
        {
          "output_type": "stream",
          "text": [
            "\r 62%|██████▏   | 38/61 [1:08:15<15:06, 39.43s/it]"
          ],
          "name": "stderr"
        },
        {
          "output_type": "stream",
          "text": [
            "cuda memory 358729728\n",
            "cuda memory 358729728\n",
            "cuda memory 683305984\n",
            "cuda memory 1000708096\n",
            "cuda memory 1317524480\n",
            "torch.Size([4, 121, 97])\n"
          ],
          "name": "stdout"
        },
        {
          "output_type": "stream",
          "text": [
            "\r 64%|██████▍   | 39/61 [1:08:43<13:15, 36.16s/it]"
          ],
          "name": "stderr"
        },
        {
          "output_type": "stream",
          "text": [
            "cuda memory 358729728\n",
            "cuda memory 358729728\n",
            "cuda memory 659580416\n",
            "cuda memory 959026176\n",
            "cuda memory 1259012608\n",
            "torch.Size([4, 114, 97])\n"
          ],
          "name": "stdout"
        },
        {
          "output_type": "stream",
          "text": [
            "\r 66%|██████▌   | 40/61 [1:08:55<10:03, 28.72s/it]"
          ],
          "name": "stderr"
        },
        {
          "output_type": "stream",
          "text": [
            "cuda memory 358729728\n",
            "cuda memory 358729728\n",
            "cuda memory 650170368\n",
            "cuda memory 934895616\n",
            "cuda memory 1219620864\n",
            "torch.Size([4, 109, 97])\n"
          ],
          "name": "stdout"
        },
        {
          "output_type": "stream",
          "text": [
            "\r 67%|██████▋   | 41/61 [1:09:18<09:04, 27.23s/it]"
          ],
          "name": "stderr"
        },
        {
          "output_type": "stream",
          "text": [
            "cuda memory 358729728\n",
            "cuda memory 358729728\n",
            "cuda memory 641919488\n",
            "cuda memory 889892864\n",
            "cuda memory 1137718784\n",
            "torch.Size([4, 106, 97])\n"
          ],
          "name": "stdout"
        },
        {
          "output_type": "stream",
          "text": [
            "\r 69%|██████▉   | 42/61 [1:09:43<08:21, 26.39s/it]"
          ],
          "name": "stderr"
        },
        {
          "output_type": "stream",
          "text": [
            "cuda memory 358729728\n",
            "cuda memory 358729728\n",
            "cuda memory 600322048\n",
            "cuda memory 837605376\n",
            "cuda memory 1071960064\n",
            "torch.Size([4, 90, 97])\n"
          ],
          "name": "stdout"
        },
        {
          "output_type": "stream",
          "text": [
            "\r 70%|███████   | 43/61 [1:10:12<08:10, 27.28s/it]"
          ],
          "name": "stderr"
        },
        {
          "output_type": "stream",
          "text": [
            "cuda memory 358729728\n",
            "cuda memory 358729728\n",
            "cuda memory 584376832\n",
            "cuda memory 809663488\n",
            "cuda memory 1025877504\n",
            "torch.Size([4, 84, 97])\n"
          ],
          "name": "stdout"
        },
        {
          "output_type": "stream",
          "text": [
            "\r 72%|███████▏  | 44/61 [1:10:34<07:16, 25.65s/it]"
          ],
          "name": "stderr"
        },
        {
          "output_type": "stream",
          "text": [
            "cuda memory 358729728\n",
            "cuda memory 358729728\n",
            "cuda memory 568937472\n",
            "cuda memory 770205696\n",
            "cuda memory 963831296\n",
            "torch.Size([4, 79, 97])\n"
          ],
          "name": "stdout"
        },
        {
          "output_type": "stream",
          "text": [
            "\r 74%|███████▍  | 45/61 [1:10:40<05:15, 19.70s/it]"
          ],
          "name": "stderr"
        },
        {
          "output_type": "stream",
          "text": [
            "cuda memory 358729728\n",
            "cuda memory 358729728\n",
            "cuda memory 549983744\n",
            "cuda memory 736669184\n",
            "cuda memory 923223552\n"
          ],
          "name": "stdout"
        },
        {
          "output_type": "stream",
          "text": [
            "\r 75%|███████▌  | 46/61 [1:11:01<05:03, 20.23s/it]"
          ],
          "name": "stderr"
        },
        {
          "output_type": "stream",
          "text": [
            "torch.Size([4, 70, 97])\n",
            "cuda memory 358729728\n",
            "cuda memory 358729728\n",
            "cuda memory 528844800\n",
            "cuda memory 688171520\n",
            "cuda memory 839378432\n"
          ],
          "name": "stdout"
        },
        {
          "output_type": "stream",
          "text": [
            "\r 77%|███████▋  | 47/61 [1:11:38<05:52, 25.21s/it]"
          ],
          "name": "stderr"
        },
        {
          "output_type": "stream",
          "text": [
            "torch.Size([4, 64, 97])\n",
            "cuda memory 358729728\n",
            "cuda memory 358729728\n",
            "cuda memory 508742656\n",
            "cuda memory 659427328\n",
            "cuda memory 804658176\n"
          ],
          "name": "stdout"
        },
        {
          "output_type": "stream",
          "text": [
            "\r 79%|███████▊  | 48/61 [1:11:50<04:34, 21.13s/it]"
          ],
          "name": "stderr"
        },
        {
          "output_type": "stream",
          "text": [
            "torch.Size([4, 56, 97])\n",
            "cuda memory 358729728\n",
            "cuda memory 358729728\n",
            "cuda memory 499066368\n",
            "cuda memory 637832192\n",
            "cuda memory 771310080\n"
          ],
          "name": "stdout"
        },
        {
          "output_type": "stream",
          "text": [
            "\r 80%|████████  | 49/61 [1:11:57<03:22, 16.87s/it]"
          ],
          "name": "stderr"
        },
        {
          "output_type": "stream",
          "text": [
            "torch.Size([4, 53, 97])\n",
            "cuda memory 358729728\n",
            "cuda memory 358729728\n",
            "cuda memory 495058432\n",
            "cuda memory 619007488\n",
            "cuda memory 743546368\n"
          ],
          "name": "stdout"
        },
        {
          "output_type": "stream",
          "text": [
            "\r 82%|████████▏ | 50/61 [1:12:09<02:51, 15.62s/it]"
          ],
          "name": "stderr"
        },
        {
          "output_type": "stream",
          "text": [
            "torch.Size([4, 50, 97])\n",
            "cuda memory 358729728\n",
            "cuda memory 358729728\n",
            "cuda memory 481290240\n",
            "cuda memory 600344576\n",
            "cuda memory 717598720\n"
          ],
          "name": "stdout"
        },
        {
          "output_type": "stream",
          "text": [
            "\r 84%|████████▎ | 51/61 [1:12:27<02:41, 16.10s/it]"
          ],
          "name": "stderr"
        },
        {
          "output_type": "stream",
          "text": [
            "torch.Size([4, 45, 97])\n",
            "cuda memory 358729728\n",
            "cuda memory 358729728\n",
            "cuda memory 480604160\n",
            "cuda memory 594665472\n",
            "cuda memory 708726784\n"
          ],
          "name": "stdout"
        },
        {
          "output_type": "stream",
          "text": [
            "\r 85%|████████▌ | 52/61 [1:12:49<02:42, 18.11s/it]"
          ],
          "name": "stderr"
        },
        {
          "output_type": "stream",
          "text": [
            "torch.Size([4, 44, 97])\n",
            "cuda memory 358729728\n",
            "cuda memory 358729728\n",
            "cuda memory 455898112\n",
            "cuda memory 550234112\n",
            "cuda memory 643718144\n"
          ],
          "name": "stdout"
        },
        {
          "output_type": "stream",
          "text": [
            "\r 87%|████████▋ | 53/61 [1:13:03<02:14, 16.86s/it]"
          ],
          "name": "stderr"
        },
        {
          "output_type": "stream",
          "text": [
            "torch.Size([4, 36, 97])\n",
            "cuda memory 358729728\n",
            "cuda memory 358729728\n",
            "cuda memory 443782144\n",
            "cuda memory 525021696\n",
            "cuda memory 594670080\n"
          ],
          "name": "stdout"
        },
        {
          "output_type": "stream",
          "text": [
            "\r 89%|████████▊ | 54/61 [1:13:14<01:45, 15.11s/it]"
          ],
          "name": "stderr"
        },
        {
          "output_type": "stream",
          "text": [
            "torch.Size([4, 32, 97])\n",
            "cuda memory 358729728\n",
            "cuda memory 358729728\n",
            "cuda memory 424073216\n",
            "cuda memory 489629696\n",
            "cuda memory 548833280\n"
          ],
          "name": "stdout"
        },
        {
          "output_type": "stream",
          "text": [
            "\r 90%|█████████ | 55/61 [1:13:24<01:20, 13.38s/it]"
          ],
          "name": "stderr"
        },
        {
          "output_type": "stream",
          "text": [
            "torch.Size([4, 24, 97])\n",
            "cuda memory 358729728\n",
            "cuda memory 358729728\n",
            "cuda memory 414251520\n",
            "cuda memory 468085760\n",
            "cuda memory 522968576\n"
          ],
          "name": "stdout"
        },
        {
          "output_type": "stream",
          "text": [
            "\r 92%|█████████▏| 56/61 [1:13:36<01:05, 13.03s/it]"
          ],
          "name": "stderr"
        },
        {
          "output_type": "stream",
          "text": [
            "torch.Size([4, 20, 97])\n",
            "cuda memory 358729728\n",
            "cuda memory 358729728\n",
            "cuda memory 414251520\n",
            "cuda memory 464991232\n",
            "cuda memory 516320768\n"
          ],
          "name": "stdout"
        },
        {
          "output_type": "stream",
          "text": [
            "\r 93%|█████████▎| 57/61 [1:13:41<00:42, 10.68s/it]"
          ],
          "name": "stderr"
        },
        {
          "output_type": "stream",
          "text": [
            "torch.Size([4, 20, 97])\n",
            "cuda memory 358729728\n",
            "cuda memory 358729728\n",
            "cuda memory 411288064\n",
            "cuda memory 454513664\n",
            "cuda memory 496756224\n"
          ],
          "name": "stdout"
        },
        {
          "output_type": "stream",
          "text": [
            "\r 95%|█████████▌| 58/61 [1:13:58<00:37, 12.53s/it]"
          ],
          "name": "stderr"
        },
        {
          "output_type": "stream",
          "text": [
            "torch.Size([4, 19, 97])\n",
            "cuda memory 358729728\n",
            "cuda memory 358729728\n",
            "cuda memory 398517248\n",
            "cuda memory 439042048\n",
            "cuda memory 476079104\n"
          ],
          "name": "stdout"
        },
        {
          "output_type": "stream",
          "text": [
            "\r 97%|█████████▋| 59/61 [1:14:04<00:21, 10.69s/it]"
          ],
          "name": "stderr"
        },
        {
          "output_type": "stream",
          "text": [
            "torch.Size([4, 15, 97])\n",
            "cuda memory 358729728\n",
            "cuda memory 358729728\n",
            "cuda memory 390806528\n",
            "cuda memory 420001792\n",
            "cuda memory 449721344\n"
          ],
          "name": "stdout"
        },
        {
          "output_type": "stream",
          "text": [
            "\r 98%|█████████▊| 60/61 [1:14:15<00:10, 10.61s/it]"
          ],
          "name": "stderr"
        },
        {
          "output_type": "stream",
          "text": [
            "torch.Size([4, 12, 97])\n",
            "cuda memory 358729728\n",
            "cuda memory 358729728\n",
            "cuda memory 382637568\n",
            "cuda memory 406561792\n",
            "cuda memory 430486016\n"
          ],
          "name": "stdout"
        },
        {
          "output_type": "stream",
          "text": [
            "\r100%|██████████| 61/61 [1:14:18<00:00,  8.47s/it]"
          ],
          "name": "stderr"
        },
        {
          "output_type": "stream",
          "text": [
            "torch.Size([4, 9, 97])\n",
            "cuda memory 358729728\n",
            "Train loss for epoch: 5.582215309143066\n"
          ],
          "name": "stdout"
        },
        {
          "output_type": "stream",
          "text": [
            "\n",
            "  0%|          | 0/61 [00:00<?, ?it/s]"
          ],
          "name": "stderr"
        },
        {
          "output_type": "stream",
          "text": [
            "\n",
            "Epoch4\n",
            "cuda memory 358729728\n",
            "cuda memory 3502744064\n",
            "cuda memory 6334466560\n",
            "cuda memory 9160581632\n",
            "torch.Size([4, 1192, 97])\n"
          ],
          "name": "stdout"
        },
        {
          "output_type": "stream",
          "text": [
            "\r  2%|▏         | 1/61 [03:50<3:50:33, 230.56s/it]"
          ],
          "name": "stderr"
        },
        {
          "output_type": "stream",
          "text": [
            "cuda memory 358729728\n",
            "cuda memory 358729728\n",
            "cuda memory 3060695040\n",
            "cuda memory 5759252480\n",
            "cuda memory 8454950912\n",
            "torch.Size([4, 1025, 97])\n"
          ],
          "name": "stdout"
        },
        {
          "output_type": "stream",
          "text": [
            "\r  3%|▎         | 2/61 [09:56<4:26:46, 271.30s/it]"
          ],
          "name": "stderr"
        },
        {
          "output_type": "stream",
          "text": [
            "cuda memory 358729728\n",
            "cuda memory 358729728\n",
            "cuda memory 2816188416\n",
            "cuda memory 5270014976\n",
            "cuda memory 7705764864\n",
            "torch.Size([4, 932, 97])\n"
          ],
          "name": "stdout"
        },
        {
          "output_type": "stream",
          "text": [
            "\r  5%|▍         | 3/61 [14:54<4:29:56, 279.25s/it]"
          ],
          "name": "stderr"
        },
        {
          "output_type": "stream",
          "text": [
            "cuda memory 358729728\n",
            "cuda memory 358729728\n",
            "cuda memory 2589237248\n",
            "cuda memory 4790671360\n",
            "cuda memory 6992547840\n",
            "torch.Size([4, 846, 97])\n"
          ],
          "name": "stdout"
        },
        {
          "output_type": "stream",
          "text": [
            "\r  7%|▋         | 4/61 [17:58<3:58:08, 250.68s/it]"
          ],
          "name": "stderr"
        },
        {
          "output_type": "stream",
          "text": [
            "cuda memory 358729728\n",
            "cuda memory 358729728\n",
            "cuda memory 2506039296\n",
            "cuda memory 4533794816\n",
            "cuda memory 6445551616\n",
            "torch.Size([4, 809, 97])\n"
          ],
          "name": "stdout"
        },
        {
          "output_type": "stream",
          "text": [
            "\r  8%|▊         | 5/61 [20:22<3:24:04, 218.66s/it]"
          ],
          "name": "stderr"
        },
        {
          "output_type": "stream",
          "text": [
            "cuda memory 358729728\n",
            "cuda memory 358729728\n",
            "cuda memory 2198764544\n",
            "cuda memory 4036698112\n",
            "cuda memory 5864369152\n",
            "torch.Size([4, 698, 97])\n"
          ],
          "name": "stdout"
        },
        {
          "output_type": "stream",
          "text": [
            "\r 10%|▉         | 6/61 [21:27<2:38:05, 172.47s/it]"
          ],
          "name": "stderr"
        },
        {
          "output_type": "stream",
          "text": [
            "cuda memory 358729728\n",
            "cuda memory 358729728\n",
            "cuda memory 2159558656\n",
            "cuda memory 3937275392\n",
            "cuda memory 5706665984\n",
            "torch.Size([4, 683, 97])\n"
          ],
          "name": "stdout"
        },
        {
          "output_type": "stream",
          "text": [
            "\r 11%|█▏        | 7/61 [22:26<2:04:35, 138.44s/it]"
          ],
          "name": "stderr"
        },
        {
          "output_type": "stream",
          "text": [
            "cuda memory 358729728\n",
            "cuda memory 358729728\n",
            "cuda memory 2020024320\n",
            "cuda memory 3649091584\n",
            "cuda memory 5223763968\n",
            "torch.Size([4, 630, 97])\n"
          ],
          "name": "stdout"
        },
        {
          "output_type": "stream",
          "text": [
            "\r 13%|█▎        | 8/61 [24:31<1:58:42, 134.39s/it]"
          ],
          "name": "stderr"
        },
        {
          "output_type": "stream",
          "text": [
            "cuda memory 358729728\n",
            "cuda memory 358729728\n",
            "cuda memory 1868734464\n",
            "cuda memory 3344947200\n",
            "cuda memory 4819316736\n",
            "torch.Size([4, 568, 97])\n"
          ],
          "name": "stdout"
        },
        {
          "output_type": "stream",
          "text": [
            "\r 15%|█▍        | 9/61 [26:30<1:52:37, 129.95s/it]"
          ],
          "name": "stderr"
        },
        {
          "output_type": "stream",
          "text": [
            "cuda memory 358729728\n",
            "cuda memory 358729728\n",
            "cuda memory 1791664128\n",
            "cuda memory 3191855104\n",
            "cuda memory 4592128000\n",
            "torch.Size([4, 542, 97])\n"
          ],
          "name": "stdout"
        },
        {
          "output_type": "stream",
          "text": [
            "\r 16%|█▋        | 10/61 [29:24<2:01:41, 143.18s/it]"
          ],
          "name": "stderr"
        },
        {
          "output_type": "stream",
          "text": [
            "cuda memory 358729728\n",
            "cuda memory 358729728\n",
            "cuda memory 1733206016\n",
            "cuda memory 3075559424\n",
            "cuda memory 4401979392\n",
            "torch.Size([4, 520, 97])\n"
          ],
          "name": "stdout"
        },
        {
          "output_type": "stream",
          "text": [
            "\r 18%|█▊        | 11/61 [32:59<2:17:10, 164.62s/it]"
          ],
          "name": "stderr"
        },
        {
          "output_type": "stream",
          "text": [
            "cuda memory 358729728\n",
            "cuda memory 358729728\n",
            "cuda memory 1654075392\n",
            "cuda memory 2946930688\n",
            "cuda memory 4229341184\n",
            "torch.Size([4, 490, 97])\n"
          ],
          "name": "stdout"
        },
        {
          "output_type": "stream",
          "text": [
            "\r 20%|█▉        | 12/61 [35:42<2:13:56, 164.01s/it]"
          ],
          "name": "stderr"
        },
        {
          "output_type": "stream",
          "text": [
            "cuda memory 358729728\n",
            "cuda memory 358729728\n",
            "cuda memory 1597640704\n",
            "cuda memory 2833252352\n",
            "cuda memory 4056913920\n",
            "torch.Size([4, 470, 97])\n"
          ],
          "name": "stdout"
        },
        {
          "output_type": "stream",
          "text": [
            "\r 21%|██▏       | 13/61 [36:35<1:44:38, 130.79s/it]"
          ],
          "name": "stderr"
        },
        {
          "output_type": "stream",
          "text": [
            "cuda memory 358729728\n",
            "cuda memory 358729728\n",
            "cuda memory 1576587264\n",
            "cuda memory 2771650560\n",
            "cuda memory 3952678912\n",
            "torch.Size([4, 462, 97])\n"
          ],
          "name": "stdout"
        },
        {
          "output_type": "stream",
          "text": [
            "\r 23%|██▎       | 14/61 [38:23<1:37:01, 123.87s/it]"
          ],
          "name": "stderr"
        },
        {
          "output_type": "stream",
          "text": [
            "cuda memory 358729728\n",
            "cuda memory 358729728\n",
            "cuda memory 1521442816\n",
            "cuda memory 2665760768\n",
            "cuda memory 3802058752\n",
            "torch.Size([4, 440, 97])\n"
          ],
          "name": "stdout"
        },
        {
          "output_type": "stream",
          "text": [
            "\r 25%|██▍       | 15/61 [40:39<1:37:51, 127.65s/it]"
          ],
          "name": "stderr"
        },
        {
          "output_type": "stream",
          "text": [
            "cuda memory 358729728\n",
            "cuda memory 358729728\n",
            "cuda memory 1469179904\n",
            "cuda memory 2576293888\n",
            "cuda memory 3683407872\n",
            "torch.Size([4, 421, 97])\n"
          ],
          "name": "stdout"
        },
        {
          "output_type": "stream",
          "text": [
            "\r 26%|██▌       | 16/61 [42:54<1:37:19, 129.76s/it]"
          ],
          "name": "stderr"
        },
        {
          "output_type": "stream",
          "text": [
            "cuda memory 358729728\n",
            "cuda memory 358729728\n",
            "cuda memory 1463119872\n",
            "cuda memory 2554460160\n",
            "cuda memory 3637905408\n",
            "torch.Size([4, 418, 97])\n"
          ],
          "name": "stdout"
        },
        {
          "output_type": "stream",
          "text": [
            "\r 28%|██▊       | 17/61 [44:53<1:32:51, 126.62s/it]"
          ],
          "name": "stderr"
        },
        {
          "output_type": "stream",
          "text": [
            "cuda memory 358729728\n",
            "cuda memory 358729728\n",
            "cuda memory 1431248896\n",
            "cuda memory 2502819840\n",
            "cuda memory 3547920384\n",
            "torch.Size([4, 400, 97])\n"
          ],
          "name": "stdout"
        },
        {
          "output_type": "stream",
          "text": [
            "\r 30%|██▉       | 18/61 [46:13<1:20:36, 112.48s/it]"
          ],
          "name": "stderr"
        },
        {
          "output_type": "stream",
          "text": [
            "cuda memory 358729728\n",
            "cuda memory 358729728\n",
            "cuda memory 1378838528\n",
            "cuda memory 2389006336\n",
            "cuda memory 3335362560\n",
            "torch.Size([4, 385, 97])\n"
          ],
          "name": "stdout"
        },
        {
          "output_type": "stream",
          "text": [
            "\r 31%|███       | 19/61 [49:08<1:31:53, 131.27s/it]"
          ],
          "name": "stderr"
        },
        {
          "output_type": "stream",
          "text": [
            "cuda memory 358729728\n",
            "cuda memory 358729728\n",
            "cuda memory 1281839104\n",
            "cuda memory 2200242176\n",
            "cuda memory 3116103680\n",
            "torch.Size([4, 350, 97])\n"
          ],
          "name": "stdout"
        },
        {
          "output_type": "stream",
          "text": [
            "\r 33%|███▎      | 20/61 [51:03<1:26:28, 126.56s/it]"
          ],
          "name": "stderr"
        },
        {
          "output_type": "stream",
          "text": [
            "cuda memory 358729728\n",
            "cuda memory 358729728\n",
            "cuda memory 1254410240\n",
            "cuda memory 2110881792\n",
            "cuda memory 2967951360\n",
            "torch.Size([4, 333, 97])\n"
          ],
          "name": "stdout"
        },
        {
          "output_type": "stream",
          "text": [
            "\r 34%|███▍      | 21/61 [52:05<1:11:23, 107.10s/it]"
          ],
          "name": "stderr"
        },
        {
          "output_type": "stream",
          "text": [
            "cuda memory 358729728\n",
            "cuda memory 358729728\n",
            "cuda memory 1211025408\n",
            "cuda memory 2057234432\n",
            "cuda memory 2901016576\n",
            "torch.Size([4, 321, 97])\n"
          ],
          "name": "stdout"
        },
        {
          "output_type": "stream",
          "text": [
            "\r 36%|███▌      | 22/61 [53:08<1:00:55, 93.74s/it] "
          ],
          "name": "stderr"
        },
        {
          "output_type": "stream",
          "text": [
            "cuda memory 358729728\n",
            "cuda memory 358729728\n",
            "cuda memory 1193279488\n",
            "cuda memory 2016444416\n",
            "cuda memory 2798901248\n",
            "torch.Size([4, 316, 97])\n"
          ],
          "name": "stdout"
        },
        {
          "output_type": "stream",
          "text": [
            "\r 38%|███▊      | 23/61 [54:04<52:14, 82.48s/it]  "
          ],
          "name": "stderr"
        },
        {
          "output_type": "stream",
          "text": [
            "cuda memory 358729728\n",
            "cuda memory 358729728\n",
            "cuda memory 1132800000\n",
            "cuda memory 1906008064\n",
            "cuda memory 2679721984\n",
            "torch.Size([4, 293, 97])\n"
          ],
          "name": "stdout"
        },
        {
          "output_type": "stream",
          "text": [
            "\r 39%|███▉      | 24/61 [56:18<1:00:23, 97.93s/it]"
          ],
          "name": "stderr"
        },
        {
          "output_type": "stream",
          "text": [
            "cuda memory 358729728\n",
            "cuda memory 358729728\n",
            "cuda memory 1126670336\n",
            "cuda memory 1893210112\n",
            "cuda memory 2622672896\n",
            "torch.Size([4, 288, 97])\n"
          ],
          "name": "stdout"
        },
        {
          "output_type": "stream",
          "text": [
            "\r 41%|████      | 25/61 [58:21<1:03:18, 105.52s/it]"
          ],
          "name": "stderr"
        },
        {
          "output_type": "stream",
          "text": [
            "cuda memory 358729728\n",
            "cuda memory 358729728\n",
            "cuda memory 1076582400\n",
            "cuda memory 1773318144\n",
            "cuda memory 2464921088\n",
            "torch.Size([4, 271, 97])\n"
          ],
          "name": "stdout"
        },
        {
          "output_type": "stream",
          "text": [
            "\r 43%|████▎     | 26/61 [59:54<59:18, 101.67s/it]  "
          ],
          "name": "stderr"
        },
        {
          "output_type": "stream",
          "text": [
            "cuda memory 358729728\n",
            "cuda memory 358729728\n",
            "cuda memory 1036441600\n",
            "cuda memory 1711280128\n",
            "cuda memory 2386031104\n",
            "torch.Size([4, 257, 97])\n"
          ],
          "name": "stdout"
        },
        {
          "output_type": "stream",
          "text": [
            "\r 44%|████▍     | 27/61 [1:00:17<44:15, 78.11s/it]"
          ],
          "name": "stderr"
        },
        {
          "output_type": "stream",
          "text": [
            "cuda memory 358729728\n",
            "cuda memory 358729728\n",
            "cuda memory 1029538816\n",
            "cuda memory 1681295360\n",
            "cuda memory 2324473344\n",
            "torch.Size([4, 248, 97])\n"
          ],
          "name": "stdout"
        },
        {
          "output_type": "stream",
          "text": [
            "\r 46%|████▌     | 28/61 [1:01:17<39:59, 72.70s/it]"
          ],
          "name": "stderr"
        },
        {
          "output_type": "stream",
          "text": [
            "cuda memory 358729728\n",
            "cuda memory 358729728\n",
            "cuda memory 992843776\n",
            "cuda memory 1609617920\n",
            "cuda memory 2224409600\n",
            "torch.Size([4, 238, 97])\n"
          ],
          "name": "stdout"
        },
        {
          "output_type": "stream",
          "text": [
            "\r 48%|████▊     | 29/61 [1:02:02<34:21, 64.42s/it]"
          ],
          "name": "stderr"
        },
        {
          "output_type": "stream",
          "text": [
            "cuda memory 358729728\n",
            "cuda memory 358729728\n",
            "cuda memory 960048128\n",
            "cuda memory 1556961792\n",
            "cuda memory 2134766080\n",
            "torch.Size([4, 228, 97])\n"
          ],
          "name": "stdout"
        },
        {
          "output_type": "stream",
          "text": [
            "\r 49%|████▉     | 30/61 [1:02:24<26:41, 51.67s/it]"
          ],
          "name": "stderr"
        },
        {
          "output_type": "stream",
          "text": [
            "cuda memory 358729728\n",
            "cuda memory 358729728\n",
            "cuda memory 896669184\n",
            "cuda memory 1433363456\n",
            "cuda memory 1950028800\n",
            "torch.Size([4, 200, 97])\n"
          ],
          "name": "stdout"
        },
        {
          "output_type": "stream",
          "text": [
            "\r 51%|█████     | 31/61 [1:03:21<26:36, 53.23s/it]"
          ],
          "name": "stderr"
        },
        {
          "output_type": "stream",
          "text": [
            "cuda memory 358729728\n",
            "cuda memory 358729728\n",
            "cuda memory 853189120\n",
            "cuda memory 1343843840\n",
            "cuda memory 1831129600\n",
            "torch.Size([4, 187, 97])\n"
          ],
          "name": "stdout"
        },
        {
          "output_type": "stream",
          "text": [
            "\r 52%|█████▏    | 32/61 [1:04:13<25:33, 52.88s/it]"
          ],
          "name": "stderr"
        },
        {
          "output_type": "stream",
          "text": [
            "cuda memory 358729728\n",
            "cuda memory 358729728\n",
            "cuda memory 832376320\n",
            "cuda memory 1303223296\n",
            "cuda memory 1772677632\n",
            "torch.Size([4, 178, 97])\n"
          ],
          "name": "stdout"
        },
        {
          "output_type": "stream",
          "text": [
            "\r 54%|█████▍    | 33/61 [1:04:46<21:55, 46.97s/it]"
          ],
          "name": "stderr"
        },
        {
          "output_type": "stream",
          "text": [
            "cuda memory 358729728\n",
            "cuda memory 358729728\n",
            "cuda memory 831839744\n",
            "cuda memory 1300725248\n",
            "cuda memory 1767857664\n",
            "torch.Size([4, 176, 97])\n"
          ],
          "name": "stdout"
        },
        {
          "output_type": "stream",
          "text": [
            "\r 56%|█████▌    | 34/61 [1:05:25<20:02, 44.53s/it]"
          ],
          "name": "stderr"
        },
        {
          "output_type": "stream",
          "text": [
            "cuda memory 358729728\n",
            "cuda memory 358729728\n",
            "cuda memory 796689408\n",
            "cuda memory 1229012992\n",
            "cuda memory 1660814336\n",
            "torch.Size([4, 164, 97])\n"
          ],
          "name": "stdout"
        },
        {
          "output_type": "stream",
          "text": [
            "\r 57%|█████▋    | 35/61 [1:06:10<19:23, 44.74s/it]"
          ],
          "name": "stderr"
        },
        {
          "output_type": "stream",
          "text": [
            "cuda memory 358729728\n",
            "cuda memory 358729728\n",
            "cuda memory 777582080\n",
            "cuda memory 1189987840\n",
            "cuda memory 1589808640\n",
            "torch.Size([4, 158, 97])\n"
          ],
          "name": "stdout"
        },
        {
          "output_type": "stream",
          "text": [
            "\r 59%|█████▉    | 36/61 [1:06:58<18:59, 45.59s/it]"
          ],
          "name": "stderr"
        },
        {
          "output_type": "stream",
          "text": [
            "cuda memory 358729728\n",
            "cuda memory 358729728\n",
            "cuda memory 747487744\n",
            "cuda memory 1131869696\n",
            "cuda memory 1515334144\n",
            "torch.Size([4, 145, 97])\n"
          ],
          "name": "stdout"
        },
        {
          "output_type": "stream",
          "text": [
            "\r 61%|██████    | 37/61 [1:07:32<16:51, 42.16s/it]"
          ],
          "name": "stderr"
        },
        {
          "output_type": "stream",
          "text": [
            "cuda memory 358729728\n",
            "cuda memory 358729728\n",
            "cuda memory 720898048\n",
            "cuda memory 1069176832\n",
            "cuda memory 1406615552\n",
            "torch.Size([4, 133, 97])\n"
          ],
          "name": "stdout"
        },
        {
          "output_type": "stream",
          "text": [
            "\r 62%|██████▏   | 38/61 [1:08:10<15:44, 41.05s/it]"
          ],
          "name": "stderr"
        },
        {
          "output_type": "stream",
          "text": [
            "cuda memory 358729728\n",
            "cuda memory 358729728\n",
            "cuda memory 683305984\n",
            "cuda memory 1000708096\n",
            "cuda memory 1317524480\n",
            "torch.Size([4, 121, 97])\n"
          ],
          "name": "stdout"
        },
        {
          "output_type": "stream",
          "text": [
            "\r 64%|██████▍   | 39/61 [1:08:42<14:02, 38.29s/it]"
          ],
          "name": "stderr"
        },
        {
          "output_type": "stream",
          "text": [
            "cuda memory 358729728\n",
            "cuda memory 358729728\n",
            "cuda memory 659580416\n",
            "cuda memory 959026176\n",
            "cuda memory 1259012608\n",
            "torch.Size([4, 114, 97])\n"
          ],
          "name": "stdout"
        },
        {
          "output_type": "stream",
          "text": [
            "\r 66%|██████▌   | 40/61 [1:08:55<10:43, 30.63s/it]"
          ],
          "name": "stderr"
        },
        {
          "output_type": "stream",
          "text": [
            "cuda memory 358729728\n",
            "cuda memory 358729728\n",
            "cuda memory 650170368\n",
            "cuda memory 934895616\n",
            "cuda memory 1219620864\n",
            "torch.Size([4, 109, 97])\n"
          ],
          "name": "stdout"
        },
        {
          "output_type": "stream",
          "text": [
            "\r 67%|██████▋   | 41/61 [1:09:20<09:37, 28.88s/it]"
          ],
          "name": "stderr"
        },
        {
          "output_type": "stream",
          "text": [
            "cuda memory 358729728\n",
            "cuda memory 358729728\n",
            "cuda memory 641919488\n",
            "cuda memory 889892864\n",
            "cuda memory 1137718784\n",
            "torch.Size([4, 106, 97])\n"
          ],
          "name": "stdout"
        },
        {
          "output_type": "stream",
          "text": [
            "\r 69%|██████▉   | 42/61 [1:09:42<08:32, 26.95s/it]"
          ],
          "name": "stderr"
        },
        {
          "output_type": "stream",
          "text": [
            "cuda memory 358729728\n",
            "cuda memory 358729728\n",
            "cuda memory 600322048\n",
            "cuda memory 837605376\n",
            "cuda memory 1071960064\n",
            "torch.Size([4, 90, 97])\n"
          ],
          "name": "stdout"
        },
        {
          "output_type": "stream",
          "text": [
            "\r 70%|███████   | 43/61 [1:10:11<08:17, 27.63s/it]"
          ],
          "name": "stderr"
        },
        {
          "output_type": "stream",
          "text": [
            "cuda memory 358729728\n",
            "cuda memory 358729728\n",
            "cuda memory 584376832\n",
            "cuda memory 809663488\n",
            "cuda memory 1025877504\n",
            "torch.Size([4, 84, 97])\n"
          ],
          "name": "stdout"
        },
        {
          "output_type": "stream",
          "text": [
            "\r 72%|███████▏  | 44/61 [1:10:34<07:24, 26.14s/it]"
          ],
          "name": "stderr"
        },
        {
          "output_type": "stream",
          "text": [
            "cuda memory 358729728\n",
            "cuda memory 358729728\n",
            "cuda memory 568937472\n",
            "cuda memory 770205696\n",
            "cuda memory 963831296\n",
            "torch.Size([4, 79, 97])\n"
          ],
          "name": "stdout"
        },
        {
          "output_type": "stream",
          "text": [
            "\r 74%|███████▍  | 45/61 [1:10:40<05:20, 20.06s/it]"
          ],
          "name": "stderr"
        },
        {
          "output_type": "stream",
          "text": [
            "cuda memory 358729728\n",
            "cuda memory 358729728\n",
            "cuda memory 549983744\n",
            "cuda memory 736669184\n",
            "cuda memory 923223552\n",
            "torch.Size([4, 70, 97])\n"
          ],
          "name": "stdout"
        },
        {
          "output_type": "stream",
          "text": [
            "\r 75%|███████▌  | 46/61 [1:11:00<05:00, 20.02s/it]"
          ],
          "name": "stderr"
        },
        {
          "output_type": "stream",
          "text": [
            "cuda memory 358729728\n",
            "cuda memory 358729728\n",
            "cuda memory 528844800\n",
            "cuda memory 688171520\n",
            "cuda memory 839378432\n"
          ],
          "name": "stdout"
        },
        {
          "output_type": "stream",
          "text": [
            "\r 77%|███████▋  | 47/61 [1:11:36<05:47, 24.81s/it]"
          ],
          "name": "stderr"
        },
        {
          "output_type": "stream",
          "text": [
            "torch.Size([4, 64, 97])\n",
            "cuda memory 358729728\n",
            "cuda memory 358729728\n",
            "cuda memory 508742656\n",
            "cuda memory 659427328\n",
            "cuda memory 804658176\n"
          ],
          "name": "stdout"
        },
        {
          "output_type": "stream",
          "text": [
            "\r 79%|███████▊  | 48/61 [1:11:48<04:32, 20.97s/it]"
          ],
          "name": "stderr"
        },
        {
          "output_type": "stream",
          "text": [
            "torch.Size([4, 56, 97])\n",
            "cuda memory 358729728\n",
            "cuda memory 358729728\n",
            "cuda memory 499066368\n",
            "cuda memory 637832192\n",
            "cuda memory 771310080\n"
          ],
          "name": "stdout"
        },
        {
          "output_type": "stream",
          "text": [
            "\r 80%|████████  | 49/61 [1:11:55<03:21, 16.77s/it]"
          ],
          "name": "stderr"
        },
        {
          "output_type": "stream",
          "text": [
            "torch.Size([4, 53, 97])\n",
            "cuda memory 358729728\n",
            "cuda memory 358729728\n",
            "cuda memory 495058432\n",
            "cuda memory 619007488\n",
            "cuda memory 743546368\n"
          ],
          "name": "stdout"
        },
        {
          "output_type": "stream",
          "text": [
            "\r 82%|████████▏ | 50/61 [1:12:07<02:48, 15.31s/it]"
          ],
          "name": "stderr"
        },
        {
          "output_type": "stream",
          "text": [
            "torch.Size([4, 50, 97])\n",
            "cuda memory 358729728\n",
            "cuda memory 358729728\n",
            "cuda memory 481290240\n",
            "cuda memory 600344576\n",
            "cuda memory 717598720\n"
          ],
          "name": "stdout"
        },
        {
          "output_type": "stream",
          "text": [
            "\r 84%|████████▎ | 51/61 [1:12:24<02:39, 15.97s/it]"
          ],
          "name": "stderr"
        },
        {
          "output_type": "stream",
          "text": [
            "torch.Size([4, 45, 97])\n",
            "cuda memory 358729728\n",
            "cuda memory 358729728\n",
            "cuda memory 480604160\n",
            "cuda memory 594665472\n",
            "cuda memory 708726784\n"
          ],
          "name": "stdout"
        },
        {
          "output_type": "stream",
          "text": [
            "\r 85%|████████▌ | 52/61 [1:12:48<02:44, 18.26s/it]"
          ],
          "name": "stderr"
        },
        {
          "output_type": "stream",
          "text": [
            "torch.Size([4, 44, 97])\n",
            "cuda memory 358729728\n",
            "cuda memory 358729728\n",
            "cuda memory 455898112\n",
            "cuda memory 550234112\n",
            "cuda memory 643718144\n"
          ],
          "name": "stdout"
        },
        {
          "output_type": "stream",
          "text": [
            "\r 87%|████████▋ | 53/61 [1:13:01<02:13, 16.63s/it]"
          ],
          "name": "stderr"
        },
        {
          "output_type": "stream",
          "text": [
            "torch.Size([4, 36, 97])\n",
            "cuda memory 358729728\n",
            "cuda memory 358729728\n",
            "cuda memory 443782144\n",
            "cuda memory 525021696\n",
            "cuda memory 594670080\n"
          ],
          "name": "stdout"
        },
        {
          "output_type": "stream",
          "text": [
            "\r 89%|████████▊ | 54/61 [1:13:12<01:44, 14.97s/it]"
          ],
          "name": "stderr"
        },
        {
          "output_type": "stream",
          "text": [
            "torch.Size([4, 32, 97])\n",
            "cuda memory 358729728\n",
            "cuda memory 358729728\n",
            "cuda memory 424073216\n",
            "cuda memory 489629696\n",
            "cuda memory 548833280\n"
          ],
          "name": "stdout"
        },
        {
          "output_type": "stream",
          "text": [
            "\r 90%|█████████ | 55/61 [1:13:19<01:15, 12.55s/it]"
          ],
          "name": "stderr"
        },
        {
          "output_type": "stream",
          "text": [
            "torch.Size([4, 24, 97])\n",
            "cuda memory 358729728\n",
            "cuda memory 358729728\n",
            "cuda memory 414251520\n",
            "cuda memory 468085760\n",
            "cuda memory 522968576\n"
          ],
          "name": "stdout"
        },
        {
          "output_type": "stream",
          "text": [
            "\r 92%|█████████▏| 56/61 [1:13:31<01:02, 12.43s/it]"
          ],
          "name": "stderr"
        },
        {
          "output_type": "stream",
          "text": [
            "torch.Size([4, 20, 97])\n",
            "cuda memory 358729728\n",
            "cuda memory 358729728\n",
            "cuda memory 414251520\n",
            "cuda memory 464991232\n",
            "cuda memory 516320768\n"
          ],
          "name": "stdout"
        },
        {
          "output_type": "stream",
          "text": [
            "\r 93%|█████████▎| 57/61 [1:13:35<00:40, 10.10s/it]"
          ],
          "name": "stderr"
        },
        {
          "output_type": "stream",
          "text": [
            "torch.Size([4, 20, 97])\n",
            "cuda memory 358729728\n",
            "cuda memory 358729728\n",
            "cuda memory 411288064\n",
            "cuda memory 454513664\n",
            "cuda memory 496756224\n"
          ],
          "name": "stdout"
        },
        {
          "output_type": "stream",
          "text": [
            "\r 95%|█████████▌| 58/61 [1:14:01<00:44, 14.84s/it]"
          ],
          "name": "stderr"
        },
        {
          "output_type": "stream",
          "text": [
            "torch.Size([4, 19, 97])\n",
            "cuda memory 358729728\n",
            "cuda memory 358729728\n",
            "cuda memory 398517248\n",
            "cuda memory 439042048\n",
            "cuda memory 476079104\n"
          ],
          "name": "stdout"
        },
        {
          "output_type": "stream",
          "text": [
            "\r 97%|█████████▋| 59/61 [1:14:10<00:26, 13.11s/it]"
          ],
          "name": "stderr"
        },
        {
          "output_type": "stream",
          "text": [
            "torch.Size([4, 15, 97])\n",
            "cuda memory 358729728\n",
            "cuda memory 358729728\n",
            "cuda memory 390806528\n",
            "cuda memory 420001792\n",
            "cuda memory 449721344\n"
          ],
          "name": "stdout"
        },
        {
          "output_type": "stream",
          "text": [
            "\r 98%|█████████▊| 60/61 [1:14:26<00:13, 13.87s/it]"
          ],
          "name": "stderr"
        },
        {
          "output_type": "stream",
          "text": [
            "torch.Size([4, 12, 97])\n",
            "cuda memory 358729728\n",
            "cuda memory 358729728\n",
            "cuda memory 382637568\n",
            "cuda memory 406561792\n",
            "cuda memory 430486016\n"
          ],
          "name": "stdout"
        },
        {
          "output_type": "stream",
          "text": [
            "\r100%|██████████| 61/61 [1:14:35<00:00, 12.48s/it]"
          ],
          "name": "stderr"
        },
        {
          "output_type": "stream",
          "text": [
            "torch.Size([4, 9, 97])\n",
            "cuda memory 358729728\n"
          ],
          "name": "stdout"
        },
        {
          "output_type": "stream",
          "text": [
            "\n"
          ],
          "name": "stderr"
        },
        {
          "output_type": "stream",
          "text": [
            "Train loss for epoch: 5.5530571937561035\n",
            "\n",
            "Epoch5\n"
          ],
          "name": "stdout"
        },
        {
          "output_type": "stream",
          "text": [
            "\r  0%|          | 0/61 [00:00<?, ?it/s]"
          ],
          "name": "stderr"
        },
        {
          "output_type": "stream",
          "text": [
            "cuda memory 358729728\n",
            "cuda memory 3502744064\n",
            "cuda memory 6334466560\n",
            "cuda memory 9160581632\n",
            "torch.Size([4, 1192, 97])\n"
          ],
          "name": "stdout"
        },
        {
          "output_type": "stream",
          "text": [
            "\r  2%|▏         | 1/61 [03:53<3:53:06, 233.11s/it]"
          ],
          "name": "stderr"
        },
        {
          "output_type": "stream",
          "text": [
            "cuda memory 358729728\n",
            "cuda memory 358729728\n",
            "cuda memory 3060695040\n",
            "cuda memory 5759252480\n",
            "cuda memory 8454950912\n",
            "torch.Size([4, 1025, 97])\n"
          ],
          "name": "stdout"
        },
        {
          "output_type": "stream",
          "text": [
            "\r  3%|▎         | 2/61 [09:58<4:28:20, 272.90s/it]"
          ],
          "name": "stderr"
        },
        {
          "output_type": "stream",
          "text": [
            "cuda memory 358729728\n",
            "cuda memory 358729728\n",
            "cuda memory 2816188416\n",
            "cuda memory 5270014976\n",
            "cuda memory 7705764864\n",
            "torch.Size([4, 932, 97])\n"
          ],
          "name": "stdout"
        },
        {
          "output_type": "stream",
          "text": [
            "\r  5%|▍         | 3/61 [14:55<4:30:34, 279.91s/it]"
          ],
          "name": "stderr"
        },
        {
          "output_type": "stream",
          "text": [
            "cuda memory 358729728\n",
            "cuda memory 358729728\n",
            "cuda memory 2589237248\n",
            "cuda memory 4790671360\n",
            "cuda memory 6992547840\n",
            "torch.Size([4, 846, 97])\n"
          ],
          "name": "stdout"
        },
        {
          "output_type": "stream",
          "text": [
            "\r  7%|▋         | 4/61 [18:00<3:59:01, 251.60s/it]"
          ],
          "name": "stderr"
        },
        {
          "output_type": "stream",
          "text": [
            "cuda memory 358729728\n",
            "cuda memory 358729728\n",
            "cuda memory 2506039296\n",
            "cuda memory 4533794816\n",
            "cuda memory 6445551616\n",
            "torch.Size([4, 809, 97])\n"
          ],
          "name": "stdout"
        },
        {
          "output_type": "stream",
          "text": [
            "\r  8%|▊         | 5/61 [20:25<3:24:49, 219.46s/it]"
          ],
          "name": "stderr"
        },
        {
          "output_type": "stream",
          "text": [
            "cuda memory 358729728\n",
            "cuda memory 358729728\n",
            "cuda memory 2198764544\n",
            "cuda memory 4036698112\n",
            "cuda memory 5864369152\n",
            "torch.Size([4, 698, 97])\n"
          ],
          "name": "stdout"
        },
        {
          "output_type": "stream",
          "text": [
            "\r 10%|▉         | 6/61 [21:29<2:38:37, 173.04s/it]"
          ],
          "name": "stderr"
        },
        {
          "output_type": "stream",
          "text": [
            "cuda memory 358729728\n",
            "cuda memory 358729728\n",
            "cuda memory 2159558656\n",
            "cuda memory 3937275392\n",
            "cuda memory 5706665984\n",
            "torch.Size([4, 683, 97])\n"
          ],
          "name": "stdout"
        },
        {
          "output_type": "stream",
          "text": [
            "\r 11%|█▏        | 7/61 [22:28<2:04:47, 138.65s/it]"
          ],
          "name": "stderr"
        },
        {
          "output_type": "stream",
          "text": [
            "cuda memory 358729728\n",
            "cuda memory 358729728\n",
            "cuda memory 2020024320\n",
            "cuda memory 3649091584\n",
            "cuda memory 5223763968\n",
            "torch.Size([4, 630, 97])\n"
          ],
          "name": "stdout"
        },
        {
          "output_type": "stream",
          "text": [
            "\r 13%|█▎        | 8/61 [24:31<1:58:22, 134.00s/it]"
          ],
          "name": "stderr"
        },
        {
          "output_type": "stream",
          "text": [
            "cuda memory 358729728\n",
            "cuda memory 358729728\n",
            "cuda memory 1868734464\n",
            "cuda memory 3344947200\n",
            "cuda memory 4819316736\n",
            "torch.Size([4, 568, 97])\n"
          ],
          "name": "stdout"
        },
        {
          "output_type": "stream",
          "text": [
            "\r 15%|█▍        | 9/61 [26:29<1:51:55, 129.14s/it]"
          ],
          "name": "stderr"
        },
        {
          "output_type": "stream",
          "text": [
            "cuda memory 358729728\n",
            "cuda memory 358729728\n",
            "cuda memory 1791664128\n",
            "cuda memory 3191855104\n",
            "cuda memory 4592128000\n",
            "torch.Size([4, 542, 97])\n"
          ],
          "name": "stdout"
        },
        {
          "output_type": "stream",
          "text": [
            "\r 16%|█▋        | 10/61 [29:27<2:02:11, 143.76s/it]"
          ],
          "name": "stderr"
        },
        {
          "output_type": "stream",
          "text": [
            "cuda memory 358729728\n",
            "cuda memory 358729728\n",
            "cuda memory 1733206016\n",
            "cuda memory 3075559424\n",
            "cuda memory 4401979392\n",
            "torch.Size([4, 520, 97])\n"
          ],
          "name": "stdout"
        },
        {
          "output_type": "stream",
          "text": [
            "\r 18%|█▊        | 11/61 [33:03<2:17:50, 165.41s/it]"
          ],
          "name": "stderr"
        },
        {
          "output_type": "stream",
          "text": [
            "cuda memory 358729728\n",
            "cuda memory 358729728\n",
            "cuda memory 1654075392\n",
            "cuda memory 2946930688\n",
            "cuda memory 4229341184\n",
            "torch.Size([4, 490, 97])\n"
          ],
          "name": "stdout"
        },
        {
          "output_type": "stream",
          "text": [
            "\r 20%|█▉        | 12/61 [35:46<2:14:37, 164.84s/it]"
          ],
          "name": "stderr"
        },
        {
          "output_type": "stream",
          "text": [
            "cuda memory 358729728\n",
            "cuda memory 358729728\n",
            "cuda memory 1597640704\n",
            "cuda memory 2833252352\n",
            "cuda memory 4056913920\n",
            "torch.Size([4, 470, 97])\n"
          ],
          "name": "stdout"
        },
        {
          "output_type": "stream",
          "text": [
            "\r 21%|██▏       | 13/61 [36:37<1:44:34, 130.71s/it]"
          ],
          "name": "stderr"
        },
        {
          "output_type": "stream",
          "text": [
            "cuda memory 358729728\n",
            "cuda memory 358729728\n",
            "cuda memory 1576587264\n",
            "cuda memory 2771650560\n",
            "cuda memory 3952678912\n",
            "torch.Size([4, 462, 97])\n"
          ],
          "name": "stdout"
        },
        {
          "output_type": "stream",
          "text": [
            "\r 23%|██▎       | 14/61 [38:24<1:36:40, 123.42s/it]"
          ],
          "name": "stderr"
        },
        {
          "output_type": "stream",
          "text": [
            "cuda memory 358729728\n",
            "cuda memory 358729728\n",
            "cuda memory 1521442816\n",
            "cuda memory 2665760768\n",
            "cuda memory 3802058752\n",
            "torch.Size([4, 440, 97])\n"
          ],
          "name": "stdout"
        },
        {
          "output_type": "stream",
          "text": [
            "\r 25%|██▍       | 15/61 [40:39<1:37:18, 126.91s/it]"
          ],
          "name": "stderr"
        },
        {
          "output_type": "stream",
          "text": [
            "cuda memory 358729728\n",
            "cuda memory 358729728\n",
            "cuda memory 1469179904\n",
            "cuda memory 2576293888\n",
            "cuda memory 3683407872\n",
            "torch.Size([4, 421, 97])\n"
          ],
          "name": "stdout"
        },
        {
          "output_type": "stream",
          "text": [
            "\r 26%|██▌       | 16/61 [42:52<1:36:34, 128.76s/it]"
          ],
          "name": "stderr"
        },
        {
          "output_type": "stream",
          "text": [
            "cuda memory 358729728\n",
            "cuda memory 358729728\n",
            "cuda memory 1463119872\n",
            "cuda memory 2554460160\n",
            "cuda memory 3637905408\n",
            "torch.Size([4, 418, 97])\n"
          ],
          "name": "stdout"
        },
        {
          "output_type": "stream",
          "text": [
            "\r 28%|██▊       | 17/61 [45:02<1:34:47, 129.25s/it]"
          ],
          "name": "stderr"
        },
        {
          "output_type": "stream",
          "text": [
            "cuda memory 358729728\n",
            "cuda memory 358729728\n",
            "cuda memory 1431248896\n",
            "cuda memory 2502819840\n",
            "cuda memory 3547920384\n",
            "torch.Size([4, 400, 97])\n"
          ],
          "name": "stdout"
        },
        {
          "output_type": "stream",
          "text": [
            "\r 30%|██▉       | 18/61 [46:22<1:21:59, 114.40s/it]"
          ],
          "name": "stderr"
        },
        {
          "output_type": "stream",
          "text": [
            "cuda memory 358729728\n",
            "cuda memory 358729728\n",
            "cuda memory 1378838528\n",
            "cuda memory 2389006336\n",
            "cuda memory 3335362560\n",
            "torch.Size([4, 385, 97])\n"
          ],
          "name": "stdout"
        },
        {
          "output_type": "stream",
          "text": [
            "\r 31%|███       | 19/61 [49:17<1:32:48, 132.59s/it]"
          ],
          "name": "stderr"
        },
        {
          "output_type": "stream",
          "text": [
            "cuda memory 358729728\n",
            "cuda memory 358729728\n",
            "cuda memory 1281839104\n",
            "cuda memory 2200242176\n",
            "cuda memory 3116103680\n",
            "torch.Size([4, 350, 97])\n"
          ],
          "name": "stdout"
        },
        {
          "output_type": "stream",
          "text": [
            "\r 33%|███▎      | 20/61 [51:11<1:26:55, 127.20s/it]"
          ],
          "name": "stderr"
        },
        {
          "output_type": "stream",
          "text": [
            "cuda memory 358729728\n",
            "cuda memory 358729728\n",
            "cuda memory 1254410240\n",
            "cuda memory 2110881792\n",
            "cuda memory 2967951360\n",
            "torch.Size([4, 333, 97])\n"
          ],
          "name": "stdout"
        },
        {
          "output_type": "stream",
          "text": [
            "\r 34%|███▍      | 21/61 [52:13<1:11:45, 107.64s/it]"
          ],
          "name": "stderr"
        },
        {
          "output_type": "stream",
          "text": [
            "cuda memory 358729728\n",
            "cuda memory 358729728\n",
            "cuda memory 1211025408\n",
            "cuda memory 2057234432\n",
            "cuda memory 2901016576\n",
            "torch.Size([4, 321, 97])\n"
          ],
          "name": "stdout"
        },
        {
          "output_type": "stream",
          "text": [
            "\r 36%|███▌      | 22/61 [53:14<1:00:50, 93.61s/it] "
          ],
          "name": "stderr"
        },
        {
          "output_type": "stream",
          "text": [
            "cuda memory 358729728\n",
            "cuda memory 358729728\n",
            "cuda memory 1193279488\n",
            "cuda memory 2016444416\n",
            "cuda memory 2798901248\n",
            "torch.Size([4, 316, 97])\n"
          ],
          "name": "stdout"
        },
        {
          "output_type": "stream",
          "text": [
            "\r 38%|███▊      | 23/61 [54:11<52:12, 82.44s/it]  "
          ],
          "name": "stderr"
        },
        {
          "output_type": "stream",
          "text": [
            "cuda memory 358729728\n",
            "cuda memory 358729728\n",
            "cuda memory 1132800000\n",
            "cuda memory 1906008064\n",
            "cuda memory 2679721984\n",
            "torch.Size([4, 293, 97])\n"
          ],
          "name": "stdout"
        },
        {
          "output_type": "stream",
          "text": [
            "\r 39%|███▉      | 24/61 [56:23<1:00:01, 97.34s/it]"
          ],
          "name": "stderr"
        },
        {
          "output_type": "stream",
          "text": [
            "cuda memory 358729728\n",
            "cuda memory 358729728\n",
            "cuda memory 1126670336\n",
            "cuda memory 1893210112\n",
            "cuda memory 2622672896\n",
            "torch.Size([4, 288, 97])\n"
          ],
          "name": "stdout"
        },
        {
          "output_type": "stream",
          "text": [
            "\r 41%|████      | 25/61 [58:23<1:02:30, 104.17s/it]"
          ],
          "name": "stderr"
        },
        {
          "output_type": "stream",
          "text": [
            "cuda memory 358729728\n",
            "cuda memory 358729728\n",
            "cuda memory 1076582400\n",
            "cuda memory 1773318144\n",
            "cuda memory 2464921088\n",
            "torch.Size([4, 271, 97])\n"
          ],
          "name": "stdout"
        },
        {
          "output_type": "stream",
          "text": [
            "\r 43%|████▎     | 26/61 [59:51<57:55, 99.31s/it]   "
          ],
          "name": "stderr"
        },
        {
          "output_type": "stream",
          "text": [
            "cuda memory 358729728\n",
            "cuda memory 358729728\n",
            "cuda memory 1036441600\n",
            "cuda memory 1711280128\n",
            "cuda memory 2386031104\n",
            "torch.Size([4, 257, 97])\n"
          ],
          "name": "stdout"
        },
        {
          "output_type": "stream",
          "text": [
            "\r 44%|████▍     | 27/61 [1:00:13<43:09, 76.15s/it]"
          ],
          "name": "stderr"
        },
        {
          "output_type": "stream",
          "text": [
            "cuda memory 358729728\n",
            "cuda memory 358729728\n",
            "cuda memory 1029538816\n",
            "cuda memory 1681295360\n",
            "cuda memory 2324473344\n",
            "torch.Size([4, 248, 97])\n"
          ],
          "name": "stdout"
        },
        {
          "output_type": "stream",
          "text": [
            "\r 46%|████▌     | 28/61 [1:01:10<38:38, 70.27s/it]"
          ],
          "name": "stderr"
        },
        {
          "output_type": "stream",
          "text": [
            "cuda memory 358729728\n",
            "cuda memory 358729728\n",
            "cuda memory 992843776\n",
            "cuda memory 1609617920\n",
            "cuda memory 2224409600\n",
            "torch.Size([4, 238, 97])\n"
          ],
          "name": "stdout"
        },
        {
          "output_type": "stream",
          "text": [
            "\r 48%|████▊     | 29/61 [1:01:58<33:54, 63.57s/it]"
          ],
          "name": "stderr"
        },
        {
          "output_type": "stream",
          "text": [
            "cuda memory 358729728\n",
            "cuda memory 358729728\n",
            "cuda memory 960048128\n",
            "cuda memory 1556961792\n",
            "cuda memory 2134766080\n",
            "torch.Size([4, 228, 97])\n"
          ],
          "name": "stdout"
        },
        {
          "output_type": "stream",
          "text": [
            "\r 49%|████▉     | 30/61 [1:02:17<26:00, 50.32s/it]"
          ],
          "name": "stderr"
        },
        {
          "output_type": "stream",
          "text": [
            "cuda memory 358729728\n",
            "cuda memory 358729728\n",
            "cuda memory 896669184\n",
            "cuda memory 1433363456\n",
            "cuda memory 1950028800\n",
            "torch.Size([4, 200, 97])\n"
          ],
          "name": "stdout"
        },
        {
          "output_type": "stream",
          "text": [
            "\r 51%|█████     | 31/61 [1:03:11<25:44, 51.48s/it]"
          ],
          "name": "stderr"
        },
        {
          "output_type": "stream",
          "text": [
            "cuda memory 358729728\n",
            "cuda memory 358729728\n",
            "cuda memory 853189120\n",
            "cuda memory 1343843840\n",
            "cuda memory 1831129600\n",
            "torch.Size([4, 187, 97])\n"
          ],
          "name": "stdout"
        },
        {
          "output_type": "stream",
          "text": [
            "\r 52%|█████▏    | 32/61 [1:04:04<25:02, 51.80s/it]"
          ],
          "name": "stderr"
        },
        {
          "output_type": "stream",
          "text": [
            "cuda memory 358729728\n",
            "cuda memory 358729728\n",
            "cuda memory 832376320\n",
            "cuda memory 1303223296\n",
            "cuda memory 1772677632\n",
            "torch.Size([4, 178, 97])\n"
          ],
          "name": "stdout"
        },
        {
          "output_type": "stream",
          "text": [
            "\r 54%|█████▍    | 33/61 [1:04:37<21:38, 46.36s/it]"
          ],
          "name": "stderr"
        },
        {
          "output_type": "stream",
          "text": [
            "cuda memory 358729728\n",
            "cuda memory 358729728\n",
            "cuda memory 831839744\n",
            "cuda memory 1300725248\n",
            "cuda memory 1767857664\n",
            "torch.Size([4, 176, 97])\n"
          ],
          "name": "stdout"
        },
        {
          "output_type": "stream",
          "text": [
            "\r 56%|█████▌    | 34/61 [1:05:16<19:50, 44.10s/it]"
          ],
          "name": "stderr"
        },
        {
          "output_type": "stream",
          "text": [
            "cuda memory 358729728\n",
            "cuda memory 358729728\n",
            "cuda memory 796689408\n",
            "cuda memory 1229012992\n",
            "cuda memory 1660814336\n",
            "torch.Size([4, 164, 97])\n"
          ],
          "name": "stdout"
        },
        {
          "output_type": "stream",
          "text": [
            "\r 57%|█████▋    | 35/61 [1:06:01<19:14, 44.41s/it]"
          ],
          "name": "stderr"
        },
        {
          "output_type": "stream",
          "text": [
            "cuda memory 358729728\n",
            "cuda memory 358729728\n",
            "cuda memory 777582080\n",
            "cuda memory 1189987840\n",
            "cuda memory 1589808640\n",
            "torch.Size([4, 158, 97])\n"
          ],
          "name": "stdout"
        },
        {
          "output_type": "stream",
          "text": [
            "\r 59%|█████▉    | 36/61 [1:06:47<18:37, 44.72s/it]"
          ],
          "name": "stderr"
        },
        {
          "output_type": "stream",
          "text": [
            "cuda memory 358729728\n",
            "cuda memory 358729728\n",
            "cuda memory 747487744\n",
            "cuda memory 1131869696\n",
            "cuda memory 1515334144\n",
            "torch.Size([4, 145, 97])\n"
          ],
          "name": "stdout"
        },
        {
          "output_type": "stream",
          "text": [
            "\r 61%|██████    | 37/61 [1:07:20<16:31, 41.30s/it]"
          ],
          "name": "stderr"
        },
        {
          "output_type": "stream",
          "text": [
            "cuda memory 358729728\n",
            "cuda memory 358729728\n",
            "cuda memory 720898048\n",
            "cuda memory 1069176832\n",
            "cuda memory 1406615552\n",
            "torch.Size([4, 133, 97])\n"
          ],
          "name": "stdout"
        },
        {
          "output_type": "stream",
          "text": [
            "\r 62%|██████▏   | 38/61 [1:07:59<15:37, 40.74s/it]"
          ],
          "name": "stderr"
        },
        {
          "output_type": "stream",
          "text": [
            "cuda memory 358729728\n",
            "cuda memory 358729728\n",
            "cuda memory 683305984\n",
            "cuda memory 1000708096\n",
            "cuda memory 1317524480\n",
            "torch.Size([4, 121, 97])\n"
          ],
          "name": "stdout"
        },
        {
          "output_type": "stream",
          "text": [
            "\r 64%|██████▍   | 39/61 [1:08:29<13:41, 37.35s/it]"
          ],
          "name": "stderr"
        },
        {
          "output_type": "stream",
          "text": [
            "cuda memory 358729728\n",
            "cuda memory 358729728\n",
            "cuda memory 659580416\n",
            "cuda memory 959026176\n",
            "cuda memory 1259012608\n",
            "torch.Size([4, 114, 97])\n"
          ],
          "name": "stdout"
        },
        {
          "output_type": "stream",
          "text": [
            "\r 66%|██████▌   | 40/61 [1:08:40<10:21, 29.60s/it]"
          ],
          "name": "stderr"
        },
        {
          "output_type": "stream",
          "text": [
            "cuda memory 358729728\n",
            "cuda memory 358729728\n",
            "cuda memory 650170368\n",
            "cuda memory 934895616\n",
            "cuda memory 1219620864\n",
            "torch.Size([4, 109, 97])\n"
          ],
          "name": "stdout"
        },
        {
          "output_type": "stream",
          "text": [
            "\r 67%|██████▋   | 41/61 [1:09:05<09:22, 28.15s/it]"
          ],
          "name": "stderr"
        },
        {
          "output_type": "stream",
          "text": [
            "cuda memory 358729728\n",
            "cuda memory 358729728\n",
            "cuda memory 641919488\n",
            "cuda memory 889892864\n",
            "cuda memory 1137718784\n",
            "torch.Size([4, 106, 97])\n"
          ],
          "name": "stdout"
        },
        {
          "output_type": "stream",
          "text": [
            "\r 69%|██████▉   | 42/61 [1:09:30<08:35, 27.14s/it]"
          ],
          "name": "stderr"
        },
        {
          "output_type": "stream",
          "text": [
            "cuda memory 358729728\n",
            "cuda memory 358729728\n",
            "cuda memory 600322048\n",
            "cuda memory 837605376\n",
            "cuda memory 1071960064\n",
            "torch.Size([4, 90, 97])\n"
          ],
          "name": "stdout"
        },
        {
          "output_type": "stream",
          "text": [
            "\r 70%|███████   | 43/61 [1:09:59<08:20, 27.80s/it]"
          ],
          "name": "stderr"
        },
        {
          "output_type": "stream",
          "text": [
            "cuda memory 358729728\n",
            "cuda memory 358729728\n",
            "cuda memory 584376832\n",
            "cuda memory 809663488\n",
            "cuda memory 1025877504\n",
            "torch.Size([4, 84, 97])\n"
          ],
          "name": "stdout"
        },
        {
          "output_type": "stream",
          "text": [
            "\r 72%|███████▏  | 44/61 [1:10:24<07:38, 26.95s/it]"
          ],
          "name": "stderr"
        },
        {
          "output_type": "stream",
          "text": [
            "cuda memory 358729728\n",
            "cuda memory 358729728\n",
            "cuda memory 568937472\n",
            "cuda memory 770205696\n",
            "cuda memory 963831296\n",
            "torch.Size([4, 79, 97])\n"
          ],
          "name": "stdout"
        },
        {
          "output_type": "stream",
          "text": [
            "\r 74%|███████▍  | 45/61 [1:10:30<05:29, 20.62s/it]"
          ],
          "name": "stderr"
        },
        {
          "output_type": "stream",
          "text": [
            "cuda memory 358729728\n",
            "cuda memory 358729728\n",
            "cuda memory 549983744\n",
            "cuda memory 736669184\n",
            "cuda memory 923223552\n"
          ],
          "name": "stdout"
        },
        {
          "output_type": "stream",
          "text": [
            "\r 75%|███████▌  | 46/61 [1:10:54<05:23, 21.54s/it]"
          ],
          "name": "stderr"
        },
        {
          "output_type": "stream",
          "text": [
            "torch.Size([4, 70, 97])\n",
            "cuda memory 358729728\n",
            "cuda memory 358729728\n",
            "cuda memory 528844800\n",
            "cuda memory 688171520\n",
            "cuda memory 839378432\n"
          ],
          "name": "stdout"
        },
        {
          "output_type": "stream",
          "text": [
            "\r 77%|███████▋  | 47/61 [1:11:26<05:47, 24.82s/it]"
          ],
          "name": "stderr"
        },
        {
          "output_type": "stream",
          "text": [
            "torch.Size([4, 64, 97])\n",
            "cuda memory 358729728\n",
            "cuda memory 358729728\n",
            "cuda memory 508742656\n",
            "cuda memory 659427328\n",
            "cuda memory 804658176\n"
          ],
          "name": "stdout"
        },
        {
          "output_type": "stream",
          "text": [
            "\r 79%|███████▊  | 48/61 [1:11:38<04:32, 20.96s/it]"
          ],
          "name": "stderr"
        },
        {
          "output_type": "stream",
          "text": [
            "torch.Size([4, 56, 97])\n",
            "cuda memory 358729728\n",
            "cuda memory 358729728\n",
            "cuda memory 499066368\n",
            "cuda memory 637832192\n",
            "cuda memory 771310080\n"
          ],
          "name": "stdout"
        },
        {
          "output_type": "stream",
          "text": [
            "\r 80%|████████  | 49/61 [1:11:45<03:19, 16.60s/it]"
          ],
          "name": "stderr"
        },
        {
          "output_type": "stream",
          "text": [
            "torch.Size([4, 53, 97])\n",
            "cuda memory 358729728\n",
            "cuda memory 358729728\n",
            "cuda memory 495058432\n",
            "cuda memory 619007488\n",
            "cuda memory 743546368\n"
          ],
          "name": "stdout"
        },
        {
          "output_type": "stream",
          "text": [
            "\r 82%|████████▏ | 50/61 [1:11:57<02:49, 15.38s/it]"
          ],
          "name": "stderr"
        },
        {
          "output_type": "stream",
          "text": [
            "torch.Size([4, 50, 97])\n",
            "cuda memory 358729728\n",
            "cuda memory 358729728\n",
            "cuda memory 481290240\n",
            "cuda memory 600344576\n",
            "cuda memory 717598720\n"
          ],
          "name": "stdout"
        },
        {
          "output_type": "stream",
          "text": [
            "\r 84%|████████▎ | 51/61 [1:12:15<02:39, 15.97s/it]"
          ],
          "name": "stderr"
        },
        {
          "output_type": "stream",
          "text": [
            "torch.Size([4, 45, 97])\n",
            "cuda memory 358729728\n",
            "cuda memory 358729728\n",
            "cuda memory 480604160\n",
            "cuda memory 594665472\n",
            "cuda memory 708726784\n"
          ],
          "name": "stdout"
        },
        {
          "output_type": "stream",
          "text": [
            "\r 85%|████████▌ | 52/61 [1:12:38<02:44, 18.29s/it]"
          ],
          "name": "stderr"
        },
        {
          "output_type": "stream",
          "text": [
            "torch.Size([4, 44, 97])\n",
            "cuda memory 358729728\n",
            "cuda memory 358729728\n",
            "cuda memory 455898112\n",
            "cuda memory 550234112\n",
            "cuda memory 643718144\n"
          ],
          "name": "stdout"
        },
        {
          "output_type": "stream",
          "text": [
            "\r 87%|████████▋ | 53/61 [1:12:53<02:17, 17.13s/it]"
          ],
          "name": "stderr"
        },
        {
          "output_type": "stream",
          "text": [
            "torch.Size([4, 36, 97])\n",
            "cuda memory 358729728\n",
            "cuda memory 358729728\n",
            "cuda memory 443782144\n",
            "cuda memory 525021696\n",
            "cuda memory 594670080\n"
          ],
          "name": "stdout"
        },
        {
          "output_type": "stream",
          "text": [
            "\r 89%|████████▊ | 54/61 [1:13:03<01:46, 15.20s/it]"
          ],
          "name": "stderr"
        },
        {
          "output_type": "stream",
          "text": [
            "torch.Size([4, 32, 97])\n",
            "cuda memory 358729728\n",
            "cuda memory 358729728\n",
            "cuda memory 424073216\n",
            "cuda memory 489629696\n",
            "cuda memory 548833280\n"
          ],
          "name": "stdout"
        },
        {
          "output_type": "stream",
          "text": [
            "\r 90%|█████████ | 55/61 [1:13:12<01:19, 13.23s/it]"
          ],
          "name": "stderr"
        },
        {
          "output_type": "stream",
          "text": [
            "torch.Size([4, 24, 97])\n",
            "cuda memory 358729728\n",
            "cuda memory 358729728\n",
            "cuda memory 414251520\n",
            "cuda memory 468085760\n",
            "cuda memory 522968576\n"
          ],
          "name": "stdout"
        },
        {
          "output_type": "stream",
          "text": [
            "\r 92%|█████████▏| 56/61 [1:13:27<01:08, 13.63s/it]"
          ],
          "name": "stderr"
        },
        {
          "output_type": "stream",
          "text": [
            "torch.Size([4, 20, 97])\n",
            "cuda memory 358729728\n",
            "cuda memory 358729728\n",
            "cuda memory 414251520\n",
            "cuda memory 464991232\n",
            "cuda memory 516320768\n"
          ],
          "name": "stdout"
        },
        {
          "output_type": "stream",
          "text": [
            "\r 93%|█████████▎| 57/61 [1:13:32<00:45, 11.30s/it]"
          ],
          "name": "stderr"
        },
        {
          "output_type": "stream",
          "text": [
            "torch.Size([4, 20, 97])\n",
            "cuda memory 358729728\n",
            "cuda memory 358729728\n",
            "cuda memory 411288064\n",
            "cuda memory 454513664\n",
            "cuda memory 496756224\n"
          ],
          "name": "stdout"
        },
        {
          "output_type": "stream",
          "text": [
            "\r 95%|█████████▌| 58/61 [1:13:54<00:43, 14.47s/it]"
          ],
          "name": "stderr"
        },
        {
          "output_type": "stream",
          "text": [
            "torch.Size([4, 19, 97])\n",
            "cuda memory 358729728\n",
            "cuda memory 358729728\n",
            "cuda memory 398517248\n",
            "cuda memory 439042048\n",
            "cuda memory 476079104\n"
          ],
          "name": "stdout"
        },
        {
          "output_type": "stream",
          "text": [
            "\r 97%|█████████▋| 59/61 [1:13:56<00:21, 10.76s/it]"
          ],
          "name": "stderr"
        },
        {
          "output_type": "stream",
          "text": [
            "torch.Size([4, 15, 97])\n",
            "cuda memory 358729728\n",
            "cuda memory 358729728\n",
            "cuda memory 390806528\n",
            "cuda memory 420001792\n",
            "cuda memory 449721344\n"
          ],
          "name": "stdout"
        },
        {
          "output_type": "stream",
          "text": [
            "\r 98%|█████████▊| 60/61 [1:14:04<00:09,  9.67s/it]"
          ],
          "name": "stderr"
        },
        {
          "output_type": "stream",
          "text": [
            "torch.Size([4, 12, 97])\n",
            "cuda memory 358729728\n",
            "cuda memory 358729728\n",
            "cuda memory 382637568\n",
            "cuda memory 406561792\n",
            "cuda memory 430486016\n"
          ],
          "name": "stdout"
        },
        {
          "output_type": "stream",
          "text": [
            "\r100%|██████████| 61/61 [1:14:09<00:00,  8.46s/it]"
          ],
          "name": "stderr"
        },
        {
          "output_type": "stream",
          "text": [
            "torch.Size([4, 9, 97])\n",
            "cuda memory 358729728\n"
          ],
          "name": "stdout"
        },
        {
          "output_type": "stream",
          "text": [
            "\n",
            "  0%|          | 0/61 [00:00<?, ?it/s]"
          ],
          "name": "stderr"
        },
        {
          "output_type": "stream",
          "text": [
            "Train loss for epoch: 5.4342427253723145\n",
            "\n",
            "Epoch6\n",
            "cuda memory 358729728\n",
            "cuda memory 3502744064\n",
            "cuda memory 6334466560\n",
            "cuda memory 9160581632\n",
            "torch.Size([4, 1192, 97])\n"
          ],
          "name": "stdout"
        },
        {
          "output_type": "stream",
          "text": [
            "\r  2%|▏         | 1/61 [03:57<3:57:49, 237.82s/it]"
          ],
          "name": "stderr"
        },
        {
          "output_type": "stream",
          "text": [
            "cuda memory 358729728\n",
            "cuda memory 358729728\n",
            "cuda memory 3060695040\n",
            "cuda memory 5759252480\n",
            "cuda memory 8454950912\n",
            "torch.Size([4, 1025, 97])\n"
          ],
          "name": "stdout"
        },
        {
          "output_type": "stream",
          "text": [
            "\r  3%|▎         | 2/61 [10:05<4:32:14, 276.86s/it]"
          ],
          "name": "stderr"
        },
        {
          "output_type": "stream",
          "text": [
            "cuda memory 358729728\n",
            "cuda memory 358729728\n",
            "cuda memory 2816188416\n",
            "cuda memory 5270014976\n",
            "cuda memory 7705764864\n",
            "torch.Size([4, 932, 97])\n"
          ],
          "name": "stdout"
        },
        {
          "output_type": "stream",
          "text": [
            "\r  5%|▍         | 3/61 [15:00<4:32:48, 282.22s/it]"
          ],
          "name": "stderr"
        },
        {
          "output_type": "stream",
          "text": [
            "cuda memory 358729728\n",
            "cuda memory 358729728\n",
            "cuda memory 2589237248\n",
            "cuda memory 4790671360\n",
            "cuda memory 6992547840\n",
            "torch.Size([4, 846, 97])\n"
          ],
          "name": "stdout"
        },
        {
          "output_type": "stream",
          "text": [
            "\r  7%|▋         | 4/61 [18:06<4:00:33, 253.23s/it]"
          ],
          "name": "stderr"
        },
        {
          "output_type": "stream",
          "text": [
            "cuda memory 358729728\n",
            "cuda memory 358729728\n",
            "cuda memory 2506039296\n",
            "cuda memory 4533794816\n",
            "cuda memory 6445551616\n",
            "torch.Size([4, 809, 97])\n"
          ],
          "name": "stdout"
        },
        {
          "output_type": "stream",
          "text": [
            "\r  8%|▊         | 5/61 [20:30<3:25:46, 220.47s/it]"
          ],
          "name": "stderr"
        },
        {
          "output_type": "stream",
          "text": [
            "cuda memory 358729728\n",
            "cuda memory 358729728\n"
          ],
          "name": "stdout"
        }
      ]
    },
    {
      "cell_type": "code",
      "metadata": {
        "id": "4r2mQ0iNv8Rz",
        "colab_type": "code",
        "colab": {}
      },
      "source": [
        "####################"
      ],
      "execution_count": 0,
      "outputs": []
    },
    {
      "cell_type": "markdown",
      "metadata": {
        "id": "R19yKEiGWIEL",
        "colab_type": "text"
      },
      "source": [
        "# Test\n"
      ]
    },
    {
      "cell_type": "code",
      "metadata": {
        "id": "bB0zHaORWKT2",
        "colab_type": "code",
        "outputId": "4a7ed476-f772-49da-9a2d-39586f7043ef",
        "colab": {
          "base_uri": "https://localhost:8080/",
          "height": 1000
        }
      },
      "source": [
        "model = LSTMTSearch()\n",
        "# model = LSTMTSearch(hidden_size=128, batch_size=1)\n",
        "model.load_state_dict(torch.load('/content/drive/My Drive/CSE 527/Project/model7.v5.fltr.drp.h5'))\n",
        "model.eval()"
      ],
      "execution_count": 10,
      "outputs": [
        {
          "output_type": "execute_result",
          "data": {
            "text/plain": [
              "LSTMTSearch(\n",
              "  (encoder): Sequential(\n",
              "    (0): ResNet(\n",
              "      (conv1): Conv2d(3, 64, kernel_size=(7, 7), stride=(2, 2), padding=(3, 3), bias=False)\n",
              "      (bn1): BatchNorm2d(64, eps=1e-05, momentum=0.1, affine=True, track_running_stats=True)\n",
              "      (relu): ReLU(inplace=True)\n",
              "      (maxpool): MaxPool2d(kernel_size=3, stride=2, padding=1, dilation=1, ceil_mode=False)\n",
              "      (layer1): Sequential(\n",
              "        (0): BasicBlock(\n",
              "          (conv1): Conv2d(64, 64, kernel_size=(3, 3), stride=(1, 1), padding=(1, 1), bias=False)\n",
              "          (bn1): BatchNorm2d(64, eps=1e-05, momentum=0.1, affine=True, track_running_stats=True)\n",
              "          (relu): ReLU(inplace=True)\n",
              "          (conv2): Conv2d(64, 64, kernel_size=(3, 3), stride=(1, 1), padding=(1, 1), bias=False)\n",
              "          (bn2): BatchNorm2d(64, eps=1e-05, momentum=0.1, affine=True, track_running_stats=True)\n",
              "        )\n",
              "        (1): BasicBlock(\n",
              "          (conv1): Conv2d(64, 64, kernel_size=(3, 3), stride=(1, 1), padding=(1, 1), bias=False)\n",
              "          (bn1): BatchNorm2d(64, eps=1e-05, momentum=0.1, affine=True, track_running_stats=True)\n",
              "          (relu): ReLU(inplace=True)\n",
              "          (conv2): Conv2d(64, 64, kernel_size=(3, 3), stride=(1, 1), padding=(1, 1), bias=False)\n",
              "          (bn2): BatchNorm2d(64, eps=1e-05, momentum=0.1, affine=True, track_running_stats=True)\n",
              "        )\n",
              "        (2): BasicBlock(\n",
              "          (conv1): Conv2d(64, 64, kernel_size=(3, 3), stride=(1, 1), padding=(1, 1), bias=False)\n",
              "          (bn1): BatchNorm2d(64, eps=1e-05, momentum=0.1, affine=True, track_running_stats=True)\n",
              "          (relu): ReLU(inplace=True)\n",
              "          (conv2): Conv2d(64, 64, kernel_size=(3, 3), stride=(1, 1), padding=(1, 1), bias=False)\n",
              "          (bn2): BatchNorm2d(64, eps=1e-05, momentum=0.1, affine=True, track_running_stats=True)\n",
              "        )\n",
              "      )\n",
              "      (layer2): Sequential(\n",
              "        (0): BasicBlock(\n",
              "          (conv1): Conv2d(64, 128, kernel_size=(3, 3), stride=(2, 2), padding=(1, 1), bias=False)\n",
              "          (bn1): BatchNorm2d(128, eps=1e-05, momentum=0.1, affine=True, track_running_stats=True)\n",
              "          (relu): ReLU(inplace=True)\n",
              "          (conv2): Conv2d(128, 128, kernel_size=(3, 3), stride=(1, 1), padding=(1, 1), bias=False)\n",
              "          (bn2): BatchNorm2d(128, eps=1e-05, momentum=0.1, affine=True, track_running_stats=True)\n",
              "          (downsample): Sequential(\n",
              "            (0): Conv2d(64, 128, kernel_size=(1, 1), stride=(2, 2), bias=False)\n",
              "            (1): BatchNorm2d(128, eps=1e-05, momentum=0.1, affine=True, track_running_stats=True)\n",
              "          )\n",
              "        )\n",
              "        (1): BasicBlock(\n",
              "          (conv1): Conv2d(128, 128, kernel_size=(3, 3), stride=(1, 1), padding=(1, 1), bias=False)\n",
              "          (bn1): BatchNorm2d(128, eps=1e-05, momentum=0.1, affine=True, track_running_stats=True)\n",
              "          (relu): ReLU(inplace=True)\n",
              "          (conv2): Conv2d(128, 128, kernel_size=(3, 3), stride=(1, 1), padding=(1, 1), bias=False)\n",
              "          (bn2): BatchNorm2d(128, eps=1e-05, momentum=0.1, affine=True, track_running_stats=True)\n",
              "        )\n",
              "        (2): BasicBlock(\n",
              "          (conv1): Conv2d(128, 128, kernel_size=(3, 3), stride=(1, 1), padding=(1, 1), bias=False)\n",
              "          (bn1): BatchNorm2d(128, eps=1e-05, momentum=0.1, affine=True, track_running_stats=True)\n",
              "          (relu): ReLU(inplace=True)\n",
              "          (conv2): Conv2d(128, 128, kernel_size=(3, 3), stride=(1, 1), padding=(1, 1), bias=False)\n",
              "          (bn2): BatchNorm2d(128, eps=1e-05, momentum=0.1, affine=True, track_running_stats=True)\n",
              "        )\n",
              "        (3): BasicBlock(\n",
              "          (conv1): Conv2d(128, 128, kernel_size=(3, 3), stride=(1, 1), padding=(1, 1), bias=False)\n",
              "          (bn1): BatchNorm2d(128, eps=1e-05, momentum=0.1, affine=True, track_running_stats=True)\n",
              "          (relu): ReLU(inplace=True)\n",
              "          (conv2): Conv2d(128, 128, kernel_size=(3, 3), stride=(1, 1), padding=(1, 1), bias=False)\n",
              "          (bn2): BatchNorm2d(128, eps=1e-05, momentum=0.1, affine=True, track_running_stats=True)\n",
              "        )\n",
              "      )\n",
              "      (layer3): Sequential(\n",
              "        (0): BasicBlock(\n",
              "          (conv1): Conv2d(128, 256, kernel_size=(3, 3), stride=(2, 2), padding=(1, 1), bias=False)\n",
              "          (bn1): BatchNorm2d(256, eps=1e-05, momentum=0.1, affine=True, track_running_stats=True)\n",
              "          (relu): ReLU(inplace=True)\n",
              "          (conv2): Conv2d(256, 256, kernel_size=(3, 3), stride=(1, 1), padding=(1, 1), bias=False)\n",
              "          (bn2): BatchNorm2d(256, eps=1e-05, momentum=0.1, affine=True, track_running_stats=True)\n",
              "          (downsample): Sequential(\n",
              "            (0): Conv2d(128, 256, kernel_size=(1, 1), stride=(2, 2), bias=False)\n",
              "            (1): BatchNorm2d(256, eps=1e-05, momentum=0.1, affine=True, track_running_stats=True)\n",
              "          )\n",
              "        )\n",
              "        (1): BasicBlock(\n",
              "          (conv1): Conv2d(256, 256, kernel_size=(3, 3), stride=(1, 1), padding=(1, 1), bias=False)\n",
              "          (bn1): BatchNorm2d(256, eps=1e-05, momentum=0.1, affine=True, track_running_stats=True)\n",
              "          (relu): ReLU(inplace=True)\n",
              "          (conv2): Conv2d(256, 256, kernel_size=(3, 3), stride=(1, 1), padding=(1, 1), bias=False)\n",
              "          (bn2): BatchNorm2d(256, eps=1e-05, momentum=0.1, affine=True, track_running_stats=True)\n",
              "        )\n",
              "        (2): BasicBlock(\n",
              "          (conv1): Conv2d(256, 256, kernel_size=(3, 3), stride=(1, 1), padding=(1, 1), bias=False)\n",
              "          (bn1): BatchNorm2d(256, eps=1e-05, momentum=0.1, affine=True, track_running_stats=True)\n",
              "          (relu): ReLU(inplace=True)\n",
              "          (conv2): Conv2d(256, 256, kernel_size=(3, 3), stride=(1, 1), padding=(1, 1), bias=False)\n",
              "          (bn2): BatchNorm2d(256, eps=1e-05, momentum=0.1, affine=True, track_running_stats=True)\n",
              "        )\n",
              "        (3): BasicBlock(\n",
              "          (conv1): Conv2d(256, 256, kernel_size=(3, 3), stride=(1, 1), padding=(1, 1), bias=False)\n",
              "          (bn1): BatchNorm2d(256, eps=1e-05, momentum=0.1, affine=True, track_running_stats=True)\n",
              "          (relu): ReLU(inplace=True)\n",
              "          (conv2): Conv2d(256, 256, kernel_size=(3, 3), stride=(1, 1), padding=(1, 1), bias=False)\n",
              "          (bn2): BatchNorm2d(256, eps=1e-05, momentum=0.1, affine=True, track_running_stats=True)\n",
              "        )\n",
              "        (4): BasicBlock(\n",
              "          (conv1): Conv2d(256, 256, kernel_size=(3, 3), stride=(1, 1), padding=(1, 1), bias=False)\n",
              "          (bn1): BatchNorm2d(256, eps=1e-05, momentum=0.1, affine=True, track_running_stats=True)\n",
              "          (relu): ReLU(inplace=True)\n",
              "          (conv2): Conv2d(256, 256, kernel_size=(3, 3), stride=(1, 1), padding=(1, 1), bias=False)\n",
              "          (bn2): BatchNorm2d(256, eps=1e-05, momentum=0.1, affine=True, track_running_stats=True)\n",
              "        )\n",
              "        (5): BasicBlock(\n",
              "          (conv1): Conv2d(256, 256, kernel_size=(3, 3), stride=(1, 1), padding=(1, 1), bias=False)\n",
              "          (bn1): BatchNorm2d(256, eps=1e-05, momentum=0.1, affine=True, track_running_stats=True)\n",
              "          (relu): ReLU(inplace=True)\n",
              "          (conv2): Conv2d(256, 256, kernel_size=(3, 3), stride=(1, 1), padding=(1, 1), bias=False)\n",
              "          (bn2): BatchNorm2d(256, eps=1e-05, momentum=0.1, affine=True, track_running_stats=True)\n",
              "        )\n",
              "      )\n",
              "      (layer4): Sequential(\n",
              "        (0): BasicBlock(\n",
              "          (conv1): Conv2d(256, 512, kernel_size=(3, 3), stride=(2, 2), padding=(1, 1), bias=False)\n",
              "          (bn1): BatchNorm2d(512, eps=1e-05, momentum=0.1, affine=True, track_running_stats=True)\n",
              "          (relu): ReLU(inplace=True)\n",
              "          (conv2): Conv2d(512, 512, kernel_size=(3, 3), stride=(1, 1), padding=(1, 1), bias=False)\n",
              "          (bn2): BatchNorm2d(512, eps=1e-05, momentum=0.1, affine=True, track_running_stats=True)\n",
              "          (downsample): Sequential(\n",
              "            (0): Conv2d(256, 512, kernel_size=(1, 1), stride=(2, 2), bias=False)\n",
              "            (1): BatchNorm2d(512, eps=1e-05, momentum=0.1, affine=True, track_running_stats=True)\n",
              "          )\n",
              "        )\n",
              "        (1): BasicBlock(\n",
              "          (conv1): Conv2d(512, 512, kernel_size=(3, 3), stride=(1, 1), padding=(1, 1), bias=False)\n",
              "          (bn1): BatchNorm2d(512, eps=1e-05, momentum=0.1, affine=True, track_running_stats=True)\n",
              "          (relu): ReLU(inplace=True)\n",
              "          (conv2): Conv2d(512, 512, kernel_size=(3, 3), stride=(1, 1), padding=(1, 1), bias=False)\n",
              "          (bn2): BatchNorm2d(512, eps=1e-05, momentum=0.1, affine=True, track_running_stats=True)\n",
              "        )\n",
              "        (2): BasicBlock(\n",
              "          (conv1): Conv2d(512, 512, kernel_size=(3, 3), stride=(1, 1), padding=(1, 1), bias=False)\n",
              "          (bn1): BatchNorm2d(512, eps=1e-05, momentum=0.1, affine=True, track_running_stats=True)\n",
              "          (relu): ReLU(inplace=True)\n",
              "          (conv2): Conv2d(512, 512, kernel_size=(3, 3), stride=(1, 1), padding=(1, 1), bias=False)\n",
              "          (bn2): BatchNorm2d(512, eps=1e-05, momentum=0.1, affine=True, track_running_stats=True)\n",
              "        )\n",
              "      )\n",
              "      (avgpool): AdaptiveAvgPool2d(output_size=(1, 1))\n",
              "      (fc): Linear(in_features=512, out_features=1000, bias=True)\n",
              "    )\n",
              "    (1): Sequential(\n",
              "      (0): Linear(in_features=1000, out_features=96, bias=True)\n",
              "    )\n",
              "  )\n",
              "  (lstm): LSTM(97, 128, num_layers=2, batch_first=True, dropout=0.25)\n",
              "  (linear): Linear(in_features=128, out_features=1, bias=True)\n",
              ")"
            ]
          },
          "metadata": {
            "tags": []
          },
          "execution_count": 10
        }
      ]
    },
    {
      "cell_type": "code",
      "metadata": {
        "id": "7kCzODz6W31j",
        "colab_type": "code",
        "colab": {}
      },
      "source": [
        "import glob, os\n",
        "os.chdir(\"/content/drive/My Drive/CSE 527/Project/1fps/ava/test_videos\")\n",
        "test_ids = []\n",
        "for file in glob.glob(\"*.mp4\"):\n",
        "    test_ids.append(file[:-4])"
      ],
      "execution_count": 0,
      "outputs": []
    },
    {
      "cell_type": "code",
      "metadata": {
        "id": "YQI_2yg2XPxZ",
        "colab_type": "code",
        "colab": {}
      },
      "source": [
        "df_test = pd.read_csv(r\"/content/drive/My Drive/CSE 527/Project/1fps/ava/ava_test_v1.0.csv\",names=['video_id','middle_frame_timestamp', 'x1','y1','x2','y2', 'action_id'], header=None)"
      ],
      "execution_count": 0,
      "outputs": []
    },
    {
      "cell_type": "code",
      "metadata": {
        "id": "5A-5P5tmXRm5",
        "colab_type": "code",
        "colab": {}
      },
      "source": [
        "df_test_dr_valid = df_test.loc[((df_test['action_id'] == 27) & (df_test['video_id'].isin(test_ids)))]"
      ],
      "execution_count": 0,
      "outputs": []
    },
    {
      "cell_type": "code",
      "metadata": {
        "id": "o4HtzJkdXcYt",
        "colab_type": "code",
        "colab": {}
      },
      "source": [
        "MIN = 904\n",
        "MAX = 1798"
      ],
      "execution_count": 0,
      "outputs": []
    },
    {
      "cell_type": "code",
      "metadata": {
        "id": "IJGyumSAXeyM",
        "colab_type": "code",
        "colab": {}
      },
      "source": [
        "video_ids = df_test_dr_valid['video_id'].unique()"
      ],
      "execution_count": 0,
      "outputs": []
    },
    {
      "cell_type": "code",
      "metadata": {
        "id": "YKBHkJh4Xgf1",
        "colab_type": "code",
        "outputId": "2d33c188-8f0a-46f2-e26f-2d4372fb23d3",
        "colab": {
          "base_uri": "https://localhost:8080/",
          "height": 69
        }
      },
      "source": [
        "video_ids"
      ],
      "execution_count": 22,
      "outputs": [
        {
          "output_type": "execute_result",
          "data": {
            "text/plain": [
              "array(['7YpF6DntOYw', 'BCiuXAuCKAU', 'HKjR70GCRPE', 'IzvOYVMltkI',\n",
              "       'LgBQlW6OTr0', 'P60OxWahxBQ', 'g1wyIcLPbq0', 'kMy-6RtoOVU',\n",
              "       'yn9WN9lsHRE', 'z-fsLpGHq6o', 'zR725veL-DI'], dtype=object)"
            ]
          },
          "metadata": {
            "tags": []
          },
          "execution_count": 22
        }
      ]
    },
    {
      "cell_type": "code",
      "metadata": {
        "id": "tHCS2F91Ysv1",
        "colab_type": "code",
        "colab": {}
      },
      "source": [
        "def get_next_guess(cap, guess_time, hidden):\n",
        "    \n",
        "    cap.set(cv2.CAP_PROP_POS_MSEC,guess_time*1000) \n",
        "    ret, frame = cap.read()\n",
        "    \n",
        "    train_transforms = transforms.Compose([\n",
        "    transforms.ToPILImage(),\n",
        "    transforms.Resize(70),\n",
        "    transforms.CenterCrop(64),\n",
        "    transforms.ToTensor(),\n",
        "    transforms.Normalize(mean=[0.485, 0.456, 0.406], std=[0.229, 0.224, 0.225])\n",
        "    ])\n",
        "  \n",
        "    frame2 = train_transforms(frame).cuda()\n",
        "    frame2.requires_grad=False\n",
        "\n",
        "    frame3 = frame2.unsqueeze(0)\n",
        "    activations = model.encoder(frame3).cpu()\n",
        "    # print(activations.shape)\n",
        "    \n",
        "    wrap = torch.from_numpy(numpy.array([[guess_time]], dtype = 'float32'))\n",
        "\n",
        "    padded_activations = torch.cat((activations, wrap), dim = 1)\n",
        "    # print(padded_activations.shape)\n",
        "\n",
        "    batch_ip = padded_activations.unsqueeze(0)\n",
        "    # print(batch_ip.shape)\n",
        "\n",
        "    model.lstm.hidden = hidden\n",
        "    output, (h_n, c_n) = model.lstm(batch_ip)\n",
        "    # print(output.shape)\n",
        "\n",
        "    preds = model.linear(output)\n",
        "    print(preds)\n",
        "        \n",
        "    return (h_n, c_n), guess_time + preds.data.item()"
      ],
      "execution_count": 0,
      "outputs": []
    },
    {
      "cell_type": "code",
      "metadata": {
        "id": "QPD09fatZ88b",
        "colab_type": "code",
        "colab": {}
      },
      "source": [
        "import random\n",
        "\n",
        "def find_action(dataf, video, hidden_states) :    \n",
        "    \n",
        "    search_num = 1\n",
        "    guess_time = random.randint(MIN, MAX)\n",
        "    \n",
        "    cap = cv2.VideoCapture('/content/drive/My Drive/CSE 527/Project/1fps/ava/test_videos/'+video+'.mp4')\n",
        "\n",
        "    for i in range(500) :\n",
        "        a_g = np.rint(guess_time)\n",
        "        print(a_g)\n",
        "        if a_g in dataf:\n",
        "            break;\n",
        "        if (a_g - 1 in dataf) & (guess_time + 2 in dataf):\n",
        "            break;\n",
        "        if (a_g - 2 in dataf) & (guess_time + 1 in dataf):\n",
        "            break;\n",
        "        else :\n",
        "            search_num = search_num + 1\n",
        "        if (a_g <= MIN or a_g >= MAX):\n",
        "            return -1\n",
        "        \n",
        "        hidden_states, guess_time = get_next_guess(cap, guess_time, hidden_states)\n",
        "        if (guess_time == -1):\n",
        "            return 500\n",
        "    \n",
        "    return search_num"
      ],
      "execution_count": 0,
      "outputs": []
    },
    {
      "cell_type": "code",
      "metadata": {
        "id": "NuxvpGqEgQvX",
        "colab_type": "code",
        "outputId": "cabec9e2-43b4-4e9d-c37e-102706e397d5",
        "colab": {
          "base_uri": "https://localhost:8080/",
          "height": 1000
        }
      },
      "source": [
        "total = 0\n",
        "ct = 0\n",
        "for i in range(100) : \n",
        "    print('epoch', i)\n",
        "    for video_id in video_ids:\n",
        "        print(video_id)\n",
        "        tss = df_test_dr_valid.loc[(df_test_dr_valid['video_id'] == video_id)]['middle_frame_timestamp'].to_list()\n",
        "        print(tss)\n",
        "\n",
        "        as_metric = 500\n",
        "        while (as_metric == 500) :\n",
        "            as_metric = find_action(tss, video_id, model.get_init_hidden_states())\n",
        "\n",
        "        total = total + as_metric\n",
        "        ct = ct + 1\n",
        "#         print('avg', total/ct)\n",
        "print('avg', total/ct)"
      ],
      "execution_count": 32,
      "outputs": [
        {
          "output_type": "stream",
          "text": [
            "epoch 0\n",
            "7YpF6DntOYw\n",
            "[1117, 1117, 1120, 1120, 1192, 1195, 1198, 1201]\n",
            "975.0\n",
            "tensor([[[0.1313]]], grad_fn=<AddBackward0>)\n",
            "975.0\n",
            "tensor([[[0.1288]]], grad_fn=<AddBackward0>)\n",
            "975.0\n",
            "tensor([[[0.1394]]], grad_fn=<AddBackward0>)\n",
            "975.0\n",
            "tensor([[[0.1415]]], grad_fn=<AddBackward0>)\n",
            "976.0\n",
            "tensor([[[0.1445]]], grad_fn=<AddBackward0>)\n",
            "976.0\n",
            "tensor([[[0.1450]]], grad_fn=<AddBackward0>)\n",
            "976.0\n",
            "tensor([[[0.1436]]], grad_fn=<AddBackward0>)\n",
            "976.0\n",
            "tensor([[[0.1380]]], grad_fn=<AddBackward0>)\n",
            "976.0\n",
            "tensor([[[0.0654]]], grad_fn=<AddBackward0>)\n",
            "976.0\n",
            "tensor([[[0.0659]]], grad_fn=<AddBackward0>)\n",
            "976.0\n",
            "tensor([[[0.0430]]], grad_fn=<AddBackward0>)\n",
            "976.0\n",
            "tensor([[[0.0687]]], grad_fn=<AddBackward0>)\n",
            "976.0\n",
            "tensor([[[0.0611]]], grad_fn=<AddBackward0>)\n",
            "976.0\n",
            "tensor([[[0.0836]]], grad_fn=<AddBackward0>)\n",
            "976.0\n",
            "tensor([[[0.0967]]], grad_fn=<AddBackward0>)\n",
            "977.0\n",
            "tensor([[[0.1249]]], grad_fn=<AddBackward0>)\n",
            "977.0\n",
            "tensor([[[0.1283]]], grad_fn=<AddBackward0>)\n",
            "977.0\n",
            "tensor([[[0.1070]]], grad_fn=<AddBackward0>)\n",
            "977.0\n",
            "tensor([[[0.1068]]], grad_fn=<AddBackward0>)\n",
            "977.0\n",
            "tensor([[[0.0885]]], grad_fn=<AddBackward0>)\n",
            "977.0\n",
            "tensor([[[0.1048]]], grad_fn=<AddBackward0>)\n",
            "977.0\n",
            "tensor([[[0.1133]]], grad_fn=<AddBackward0>)\n",
            "977.0\n"
          ],
          "name": "stdout"
        },
        {
          "output_type": "error",
          "ename": "KeyboardInterrupt",
          "evalue": "ignored",
          "traceback": [
            "\u001b[0;31m---------------------------------------------------------------------------\u001b[0m",
            "\u001b[0;31mKeyboardInterrupt\u001b[0m                         Traceback (most recent call last)",
            "\u001b[0;32m<ipython-input-32-0cfe916406ae>\u001b[0m in \u001b[0;36m<module>\u001b[0;34m()\u001b[0m\n\u001b[1;32m     10\u001b[0m         \u001b[0mas_metric\u001b[0m \u001b[0;34m=\u001b[0m \u001b[0;36m500\u001b[0m\u001b[0;34m\u001b[0m\u001b[0;34m\u001b[0m\u001b[0m\n\u001b[1;32m     11\u001b[0m         \u001b[0;32mwhile\u001b[0m \u001b[0;34m(\u001b[0m\u001b[0mas_metric\u001b[0m \u001b[0;34m==\u001b[0m \u001b[0;36m500\u001b[0m\u001b[0;34m)\u001b[0m \u001b[0;34m:\u001b[0m\u001b[0;34m\u001b[0m\u001b[0;34m\u001b[0m\u001b[0m\n\u001b[0;32m---> 12\u001b[0;31m             \u001b[0mas_metric\u001b[0m \u001b[0;34m=\u001b[0m \u001b[0mfind_action\u001b[0m\u001b[0;34m(\u001b[0m\u001b[0mtss\u001b[0m\u001b[0;34m,\u001b[0m \u001b[0mvideo_id\u001b[0m\u001b[0;34m,\u001b[0m \u001b[0mmodel\u001b[0m\u001b[0;34m.\u001b[0m\u001b[0mget_init_hidden_states\u001b[0m\u001b[0;34m(\u001b[0m\u001b[0;34m)\u001b[0m\u001b[0;34m)\u001b[0m\u001b[0;34m\u001b[0m\u001b[0;34m\u001b[0m\u001b[0m\n\u001b[0m\u001b[1;32m     13\u001b[0m \u001b[0;34m\u001b[0m\u001b[0m\n\u001b[1;32m     14\u001b[0m         \u001b[0mtotal\u001b[0m \u001b[0;34m=\u001b[0m \u001b[0mtotal\u001b[0m \u001b[0;34m+\u001b[0m \u001b[0mas_metric\u001b[0m\u001b[0;34m\u001b[0m\u001b[0;34m\u001b[0m\u001b[0m\n",
            "\u001b[0;32m<ipython-input-24-3261ec6006ec>\u001b[0m in \u001b[0;36mfind_action\u001b[0;34m(dataf, video, hidden_states)\u001b[0m\n\u001b[1;32m     22\u001b[0m             \u001b[0;32mreturn\u001b[0m \u001b[0;34m-\u001b[0m\u001b[0;36m1\u001b[0m\u001b[0;34m\u001b[0m\u001b[0;34m\u001b[0m\u001b[0m\n\u001b[1;32m     23\u001b[0m \u001b[0;34m\u001b[0m\u001b[0m\n\u001b[0;32m---> 24\u001b[0;31m         \u001b[0mhidden_states\u001b[0m\u001b[0;34m,\u001b[0m \u001b[0mguess_time\u001b[0m \u001b[0;34m=\u001b[0m \u001b[0mget_next_guess\u001b[0m\u001b[0;34m(\u001b[0m\u001b[0mcap\u001b[0m\u001b[0;34m,\u001b[0m \u001b[0mguess_time\u001b[0m\u001b[0;34m,\u001b[0m \u001b[0mhidden_states\u001b[0m\u001b[0;34m)\u001b[0m\u001b[0;34m\u001b[0m\u001b[0;34m\u001b[0m\u001b[0m\n\u001b[0m\u001b[1;32m     25\u001b[0m         \u001b[0;32mif\u001b[0m \u001b[0;34m(\u001b[0m\u001b[0mguess_time\u001b[0m \u001b[0;34m==\u001b[0m \u001b[0;34m-\u001b[0m\u001b[0;36m1\u001b[0m\u001b[0;34m)\u001b[0m\u001b[0;34m:\u001b[0m\u001b[0;34m\u001b[0m\u001b[0;34m\u001b[0m\u001b[0m\n\u001b[1;32m     26\u001b[0m             \u001b[0;32mreturn\u001b[0m \u001b[0;36m500\u001b[0m\u001b[0;34m\u001b[0m\u001b[0;34m\u001b[0m\u001b[0m\n",
            "\u001b[0;32m<ipython-input-23-c31239fbb06c>\u001b[0m in \u001b[0;36mget_next_guess\u001b[0;34m(cap, guess_time, hidden)\u001b[0m\n\u001b[1;32m      1\u001b[0m \u001b[0;32mdef\u001b[0m \u001b[0mget_next_guess\u001b[0m\u001b[0;34m(\u001b[0m\u001b[0mcap\u001b[0m\u001b[0;34m,\u001b[0m \u001b[0mguess_time\u001b[0m\u001b[0;34m,\u001b[0m \u001b[0mhidden\u001b[0m\u001b[0;34m)\u001b[0m\u001b[0;34m:\u001b[0m\u001b[0;34m\u001b[0m\u001b[0;34m\u001b[0m\u001b[0m\n\u001b[1;32m      2\u001b[0m \u001b[0;34m\u001b[0m\u001b[0m\n\u001b[0;32m----> 3\u001b[0;31m     \u001b[0mcap\u001b[0m\u001b[0;34m.\u001b[0m\u001b[0mset\u001b[0m\u001b[0;34m(\u001b[0m\u001b[0mcv2\u001b[0m\u001b[0;34m.\u001b[0m\u001b[0mCAP_PROP_POS_MSEC\u001b[0m\u001b[0;34m,\u001b[0m\u001b[0mguess_time\u001b[0m\u001b[0;34m*\u001b[0m\u001b[0;36m1000\u001b[0m\u001b[0;34m)\u001b[0m\u001b[0;34m\u001b[0m\u001b[0;34m\u001b[0m\u001b[0m\n\u001b[0m\u001b[1;32m      4\u001b[0m     \u001b[0mret\u001b[0m\u001b[0;34m,\u001b[0m \u001b[0mframe\u001b[0m \u001b[0;34m=\u001b[0m \u001b[0mcap\u001b[0m\u001b[0;34m.\u001b[0m\u001b[0mread\u001b[0m\u001b[0;34m(\u001b[0m\u001b[0;34m)\u001b[0m\u001b[0;34m\u001b[0m\u001b[0;34m\u001b[0m\u001b[0m\n\u001b[1;32m      5\u001b[0m \u001b[0;34m\u001b[0m\u001b[0m\n",
            "\u001b[0;31mKeyboardInterrupt\u001b[0m: "
          ]
        }
      ]
    }
  ]
}